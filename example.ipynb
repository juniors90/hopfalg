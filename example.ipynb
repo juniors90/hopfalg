{
 "cells": [
  {
   "cell_type": "code",
   "execution_count": 2,
   "id": "c104430d",
   "metadata": {
    "vscode": {
     "languageId": "gap"
    }
   },
   "outputs": [
    {
     "data": {
      "text/plain": [
       "Sym( [ 1 .. 3 ] )"
      ]
     },
     "execution_count": 2,
     "metadata": {
      "text/plain": ""
     },
     "output_type": "execute_result"
    }
   ],
   "source": [
    "N := 3;;\n",
    "G := SymmetricGroup(N); # Definimos el grupo simétrico S_N"
   ]
  },
  {
   "cell_type": "code",
   "execution_count": 4,
   "id": "8cbda745",
   "metadata": {
    "vscode": {
     "languageId": "gap"
    }
   },
   "outputs": [
    {
     "name": "stdout",
     "output_type": "stream",
     "text": [
      "Elementos de S_3:\n",
      "[ (), (2,3), (1,2), (1,2,3), (1,3,2), (1,3) ]\n"
     ]
    }
   ],
   "source": [
    "# Mostramos los elementos del grupo\n",
    "Print(\"Elementos de S_\", N, \":\\n\");\n",
    "Display(Elements(G));"
   ]
  },
  {
   "cell_type": "code",
   "execution_count": 5,
   "id": "5e46c6bd",
   "metadata": {
    "vscode": {
     "languageId": "gap"
    }
   },
   "outputs": [
    {
     "data": {
      "text/plain": [
       "[ ()^G, (1,2)^G, (1,2,3)^G ]"
      ]
     },
     "execution_count": 5,
     "metadata": {
      "text/plain": ""
     },
     "output_type": "execute_result"
    }
   ],
   "source": [
    "# Clases de conjugación\n",
    "conjClasses := ConjugacyClasses(G);"
   ]
  },
  {
   "cell_type": "code",
   "execution_count": 9,
   "id": "1003d05a",
   "metadata": {
    "vscode": {
     "languageId": "gap"
    }
   },
   "outputs": [
    {
     "name": "stdout",
     "output_type": "stream",
     "text": [
      "\n",
      "Clases de conjugación y sus representantes:\n",
      "------------------------------------------\n",
      "\n",
      "Representante: ()\n",
      "Clase de conjugación: [ () ]\n",
      "Tamaño de la clase: 1\n",
      "Centralizador (Γ_()): [ (), (2,3), (1,2), (1,2,3), (1,3,2), (1,3) ]\n",
      "Orden del centralizador: 6\n",
      "Verificación: 1 = 6/6\n",
      "--------------------------------------------------\n",
      "Representante: (1,2)\n",
      "Clase de conjugación: [ (2,3), (1,2), (1,3) ]\n",
      "Tamaño de la clase: 3\n",
      "Centralizador (Γ_(1,2)): [ (), (1,2) ]\n",
      "Orden del centralizador: 2\n",
      "Verificación: 3 = 6/2\n",
      "--------------------------------------------------\n",
      "Representante: (1,2,3)\n",
      "Clase de conjugación: [ (1,2,3), (1,3,2) ]\n",
      "Tamaño de la clase: 2\n",
      "Centralizador (Γ_(1,2,3)): [ (), (1,2,3), (1,3,2) ]\n",
      "Orden del centralizador: 3\n",
      "Verificación: 2 = 6/3\n",
      "--------------------------------------------------\n"
     ]
    },
    {
     "data": {
      "text/plain": [
       "[ [ Group([ (1,3), (2,3) ]), () ], [ Group([ (1,2) ]), (1,2) ],   [ Group([ (1,2,3) ]), (1,2,3) ] ]"
      ]
     },
     "execution_count": 8,
     "metadata": {
      "text/plain": ""
     },
     "output_type": "execute_result"
    }
   ],
   "source": [
    "Print(\"\\nClases de conjugación y sus representantes:\\n\");\n",
    "Print(\"------------------------------------------\\n\\n\");\n",
    "centralizers_of_s3:= [];\n",
    "for C in conjClasses do\n",
    "    rep := Representative(C);\n",
    "    size := Size(C);\n",
    "    centralizer := Centralizer(G, rep);\n",
    "    Print(\"Representante: \", rep, \"\\n\");\n",
    "    Print(\"Clase de conjugación: \", Elements(C), \"\\n\");\n",
    "    Print(\"Tamaño de la clase: \", size, \"\\n\");\n",
    "    Print(\"Centralizador (Γ_\", rep, \"): \", Elements(centralizer), \"\\n\");\n",
    "    Print(\"Orden del centralizador: \", Size(centralizer), \"\\n\");\n",
    "    #Print(\"Representaciones irreducibles de (Γ_\", rep, \"): \");\n",
    "    #IrreducibleRepresentations(centralizer);\n",
    "    Add(centralizers_of_s3, [centralizer, rep]);\n",
    "    # Verificación de la fórmula |clase| = |G| / |centralizador|\n",
    "    ratio := Size(G) / Size(centralizer);\n",
    "    if ratio = size then\n",
    "        Print(\"Verificación: \", size, \" = \", Size(G), \"/\", Size(centralizer), \"\\n\");\n",
    "    else\n",
    "        Print(\"¡Error en la verificación!\\n\");\n",
    "    fi;\n",
    "    Print(\"--------------------------------------------------\\n\");\n",
    "od;"
   ]
  },
  {
   "cell_type": "code",
   "execution_count": 10,
   "id": "22533129",
   "metadata": {
    "vscode": {
     "languageId": "gap"
    }
   },
   "outputs": [
    {
     "name": "stdout",
     "output_type": "stream",
     "text": [
      "S3\n",
      "C2\n",
      "C3\n"
     ]
    }
   ],
   "source": [
    "for i in centralizers_of_s3 do\n",
    "    Print(StructureDescription(i[1]), \"\\n\");\n",
    "od;"
   ]
  },
  {
   "cell_type": "code",
   "execution_count": 11,
   "id": "1158a52e",
   "metadata": {
    "vscode": {
     "languageId": "gap"
    }
   },
   "outputs": [
    {
     "data": {
      "text/plain": [
       "3"
      ]
     },
     "execution_count": 11,
     "metadata": {
      "text/plain": ""
     },
     "output_type": "execute_result"
    }
   ],
   "source": [
    "Length(IrreducibleRepresentations(centralizers_of_s3[3][1]));"
   ]
  },
  {
   "cell_type": "code",
   "execution_count": 12,
   "id": "3f587c2a",
   "metadata": {
    "vscode": {
     "languageId": "gap"
    }
   },
   "outputs": [
    {
     "data": {
      "text/plain": [
       "true"
      ]
     },
     "execution_count": 12,
     "metadata": {
      "text/plain": ""
     },
     "output_type": "execute_result"
    }
   ],
   "source": [
    "LoadPackage( \"repsn\" );"
   ]
  },
  {
   "cell_type": "markdown",
   "id": "49ec7200",
   "metadata": {},
   "source": [
    "- $\\Gamma_g = \\{x \\in \\Gamma \\mid xg = gx\\}$ el subgrupo isotropía de $g$."
   ]
  },
  {
   "cell_type": "code",
   "execution_count": null,
   "id": "bc84ea0a",
   "metadata": {
    "vscode": {
     "languageId": "gap"
    }
   },
   "outputs": [
    {
     "data": {
      "text/plain": [
       "C2"
      ]
     },
     "execution_count": 13,
     "metadata": {
      "text/plain": ""
     },
     "output_type": "execute_result"
    }
   ],
   "source": [
    "Gamma_g := centralizers_of_s3[2][1];  "
   ]
  },
  {
   "cell_type": "markdown",
   "id": "581e4c59",
   "metadata": {},
   "source": [
    "- Obtener las representaciones irreducibles de $\\Gamma_g$"
   ]
  },
  {
   "cell_type": "code",
   "execution_count": null,
   "id": "c30c70a3",
   "metadata": {
    "vscode": {
     "languageId": "gap"
    }
   },
   "outputs": [
    {
     "data": {
      "text/plain": [
       "[ Character( CharacterTable( C2 ),  [ 1, 1 ] ), Character( CharacterTable( C2 ), [ 1, -1 ] ) ]"
      ]
     },
     "execution_count": 14,
     "metadata": {
      "text/plain": ""
     },
     "output_type": "execute_result"
    }
   ],
   "source": [
    "irrepsGamma_g := Irr( Gamma_g );"
   ]
  },
  {
   "cell_type": "markdown",
   "id": "5a7fd9d9",
   "metadata": {},
   "source": [
    "Seleccionar una las representaciones irreducibles de $\\Gamma_g$.\n",
    "\n",
    "Sea $\\rho : \\Gamma_g \\to \\mathrm{End}(V)$ una representación *irreducible* de $\\Gamma_g$"
   ]
  },
  {
   "cell_type": "code",
   "execution_count": null,
   "id": "cf28ffa2",
   "metadata": {
    "vscode": {
     "languageId": "gap"
    }
   },
   "outputs": [],
   "source": [
    "chi := irrepsGamma_g[ 2 ];;\n",
    "rho := IrreducibleAffordingRepresentation( chi );;"
   ]
  },
  {
   "cell_type": "markdown",
   "id": "a17dfa64",
   "metadata": {},
   "source": [
    "y sea\n",
    "$$\n",
    "M(g,\\rho) := \\mathrm{Ind}_{\\Gamma_g}^\\Gamma V = \\Bbbk \\Gamma \\otimes_{\\Bbbk \\Gamma_g} V.\n",
    "$$"
   ]
  },
  {
   "cell_type": "code",
   "execution_count": 17,
   "id": "107cb17b",
   "metadata": {
    "vscode": {
     "languageId": "gap"
    }
   },
   "outputs": [],
   "source": [
    "M_g_rho:=InducedSubgroupRepresentation( G, rho );;"
   ]
  },
  {
   "cell_type": "code",
   "execution_count": 18,
   "id": "2c80a6c5",
   "metadata": {
    "vscode": {
     "languageId": "gap"
    }
   },
   "outputs": [
    {
     "data": {
      "text/plain": [
       "[ (1,2,3), (1,2) ] -> [ [ [ 0, -1, 0 ], [ 0, 0, -1 ], [ 1, 0, 0 ] ],   [ [ -1, 0, 0 ], [ 0, 0, 1 ], [ 0, 1, 0 ] ] ]"
      ]
     },
     "execution_count": 18,
     "metadata": {
      "text/plain": ""
     },
     "output_type": "execute_result"
    }
   ],
   "source": [
    "M_g_rho;"
   ]
  },
  {
   "cell_type": "code",
   "execution_count": 19,
   "id": "7aaa0829",
   "metadata": {
    "vscode": {
     "languageId": "gap"
    }
   },
   "outputs": [
    {
     "data": {
      "text/html": [
       "Reference: <a target=\"_blank\" href=\"https://www.gap-system.org/Manuals/doc/ref/chap35.html#X7A2BF4527E08803C\">centraliser</a><br/>Reference: <a target=\"_blank\" href=\"https://www.gap-system.org/Manuals/doc/ref/chap35.html#X7A2BF4527E08803C\">Centralizer</a><br/>FGA: <a target=\"_blank\" href=\"https://www.gap-system.org/Manuals/pkg/fga/doc/chap2.html#X7A2BF4527E08803C\">Centralizer</a><br/>FGA: <a target=\"_blank\" href=\"https://www.gap-system.org/Manuals/pkg/fga/doc/chap2.html#X7A2BF4527E08803C\">Centralizer</a><br/>polycyclic: <a target=\"_blank\" href=\"https://www.gap-system.org/Manuals/pkg/polycyclic/doc/chap7.html#X7A2BF4527E08803C\">Centralizer</a><br/>polycyclic: <a target=\"_blank\" href=\"https://www.gap-system.org/Manuals/pkg/polycyclic/doc/chap7.html#X7A2BF4527E08803C\">Centralizer</a><br/>Wedderga (not loaded): <a target=\"_blank\" href=\"https://www.gap-system.org/Manuals/pkg/wedderga/doc/chap6.html#X7A2BF4527E08803C\">Centralizer</a><br/>XMod (not loaded): <a target=\"_blank\" href=\"https://www.gap-system.org/Manuals/pkg/xmod/doc/chap4.html#X7B57446086BA1BF0\">Centralizer</a><br/>Reference: <a target=\"_blank\" href=\"https://www.gap-system.org/Manuals/doc/ref/chap35.html#X7A2BF4527E08803C\">Centralizer for a magma and an element</a><br/>Reference: <a target=\"_blank\" href=\"https://www.gap-system.org/Manuals/doc/ref/chap35.html#X7A2BF4527E08803C\">Centralizer for a magma and a submagma</a><br/>Reference: <a target=\"_blank\" href=\"https://www.gap-system.org/Manuals/doc/ref/chap35.html#X7A2BF4527E08803C\">Centralizer for a class of objects in a magma</a><br/>Reference: <a target=\"_blank\" href=\"https://www.gap-system.org/Manuals/doc/ref/chap45.html#X7A19DF1E7E841074\">Centralizer for groups with pcgs</a><br/>Reference: <a target=\"_blank\" href=\"https://www.gap-system.org/Manuals/doc/ref/chap39.html#X822A3AB27919BC1E\">CentralizerModulo</a><br/>Reference: <a target=\"_blank\" href=\"https://www.gap-system.org/Manuals/doc/ref/chap44.html#X7DAFB71F86525DE7\">CentralizerInGLnZ</a><br/>Reference: <a target=\"_blank\" href=\"https://www.gap-system.org/Manuals/doc/ref/chap45.html#X7B358D3B7E236973\">CentralizerSizeLimitConsiderFunction</a><br/>CaratInterface: <a target=\"_blank\" href=\"https://www.gap-system.org/Manuals/pkg/caratinterface/htm/CHAP003.htm#SECT004\">Centralizer!in GLnZ</a><br/>Cryst: <a target=\"_blank\" href=\"https://www.gap-system.org/Manuals/pkg/cryst/htm/CHAP002.htm#SECT008\">CentralizerPointGroupInGLnZ</a><br/>polycyclic: <a target=\"_blank\" href=\"https://www.gap-system.org/Manuals/pkg/polycyclic/doc/chap7.html#X80E3B42E792532B3\">Centralizers, Normalizers and Intersections</a><br/>RepnDecomp (not loaded): <a target=\"_blank\" href=\"https://www.gap-system.org/Manuals/pkg/repndecomp/doc/chap6.html#X7A0EF2C67E2DB726\">Centralizer (commutant) rings</a><br/>RepnDecomp (not loaded): <a target=\"_blank\" href=\"https://www.gap-system.org/Manuals/pkg/repndecomp/doc/chap6.html#X7901B6A7860D35C3\">CentralizerBlocksOfRepresentation</a><br/>RepnDecomp (not loaded): <a target=\"_blank\" href=\"https://www.gap-system.org/Manuals/pkg/repndecomp/doc/chap6.html#X86B19E2B877121E9\">CentralizerOfRepresentation</a><br/>SONATA (not loaded): <a target=\"_blank\" href=\"https://www.gap-system.org/Manuals/pkg/sonata/doc/htm/ref/CHAP005.htm#SECT002\">CentralizerNearRing</a><br/>SONATA Tutorial (not loaded): <a target=\"_blank\" href=\"https://www.gap-system.org/Manuals/pkg/sonata/doc/htm/tut/CHAP005.htm#SECT003\">Centralizer nearrings</a><br/>XGAP (not loaded): <a target=\"_blank\" href=\"https://www.gap-system.org/Manuals/pkg/xgap/htm/CHAP005.htm#SECT009\">Centralizers</a><br/>"
      ]
     },
     "execution_count": 19,
     "metadata": {},
     "output_type": "execute_result"
    }
   ],
   "source": [
    "?Centralizer"
   ]
  },
  {
   "cell_type": "code",
   "execution_count": 2,
   "id": "4187e0b6",
   "metadata": {
    "vscode": {
     "languageId": "gap"
    }
   },
   "outputs": [
    {
     "data": {
      "text/html": [
       "FinInG (not loaded): <a target=\"_blank\" href=\"https://www.gap-system.org/Manuals/pkg/fining/doc/chap3.html#X7EBA57FC7CCF8449\">List</a><br/>FinInG (not loaded): <a target=\"_blank\" href=\"https://www.gap-system.org/Manuals/pkg/fining/doc/chap4.html#X7EBA57FC7CCF8449\">List</a><br/>FinInG (not loaded): <a target=\"_blank\" href=\"https://www.gap-system.org/Manuals/pkg/fining/doc/chap7.html#X7EF8910F82B45EC7\">List</a><br/>GAPDoc: <a target=\"_blank\" href=\"https://www.gap-system.org/Manuals/pkg/gapdoc/doc/chap3.html#X785183F67DA402A0\">List</a><br/>Tutorial: <a target=\"_blank\" href=\"https://www.gap-system.org/Manuals/doc/tut/chap3.html#X879CFE0985DBA041\">List Operations</a><br/>Tutorial: <a target=\"_blank\" href=\"https://www.gap-system.org/Manuals/doc/tut/chap3.html#X7863DAFD78E5DFB6\">Lists and Records</a><br/>Tutorial: <a target=\"_blank\" href=\"https://www.gap-system.org/Manuals/doc/tut/chap3.html#X81ECC2077D88E112\">lists plain</a><br/>Tutorial: <a target=\"_blank\" href=\"https://www.gap-system.org/Manuals/doc/tut/chap3.html#X81ECC2077D88E112\">lists dense</a><br/>Tutorial: <a target=\"_blank\" href=\"https://www.gap-system.org/Manuals/doc/tut/chap3.html#X7DD65BEA7EDB0CD7\">lists identical</a><br/>Tutorial: <a target=\"_blank\" href=\"https://www.gap-system.org/Manuals/doc/tut/chap3.html#X83BE0C20875DD285\">lists strictly sorted</a><br/>Reference: <a target=\"_blank\" href=\"https://www.gap-system.org/Manuals/doc/ref/chap21.html#X7C3DC8BE78DEECDE\">list and non-list difference</a><br/>Reference: <a target=\"_blank\" href=\"https://www.gap-system.org/Manuals/doc/ref/chap21.html#X7921047F83F5FA28\">List Elements</a><br/>Reference: <a target=\"_blank\" href=\"https://www.gap-system.org/Manuals/doc/ref/chap21.html#X8611EF768210625B\">List Assignment</a><br/>Reference: <a target=\"_blank\" href=\"https://www.gap-system.org/Manuals/doc/ref/chap26.html#X7FE662477F36A21F\">List Like Operations for Vector Objects</a><br/>Reference: <a target=\"_blank\" href=\"https://www.gap-system.org/Manuals/doc/ref/chap26.html#X82C4FCFA808010F8\">List Access for a Row List Matrix</a><br/>Reference: <a target=\"_blank\" href=\"https://www.gap-system.org/Manuals/doc/ref/chap26.html#X7F89BB2482D28AAE\">List Assignment for a Row List Matrix</a><br/>Reference: <a target=\"_blank\" href=\"https://www.gap-system.org/Manuals/doc/ref/chap2.html#X7BE8068878B7D7D1\">list of available books</a><br/>Reference: <a target=\"_blank\" href=\"https://www.gap-system.org/Manuals/doc/ref/chap21.html#X86B28F5B781FFD31\">List Categories</a><br/>Reference: <a target=\"_blank\" href=\"https://www.gap-system.org/Manuals/doc/ref/chap21.html#X7B202D147A5C2884\">list element operation</a><br/>Reference: <a target=\"_blank\" href=\"https://www.gap-system.org/Manuals/doc/ref/chap21.html#X7B202D147A5C2884\">list boundedness test operation</a><br/>Reference: <a target=\"_blank\" href=\"https://www.gap-system.org/Manuals/doc/ref/chap30.html#X7F12F40E87F3C3A7\">List for a collection</a><br/>Reference: <a target=\"_blank\" href=\"https://www.gap-system.org/Manuals/doc/ref/chap21.html#X86CB7DCE8510F977\">List for a list (and a function)</a><br/>Reference: <a target=\"_blank\" href=\"https://www.gap-system.org/Manuals/doc/ref/chap21.html#X7B202D147A5C2884\">list assignment operation</a><br/>Reference: <a target=\"_blank\" href=\"https://www.gap-system.org/Manuals/doc/ref/chap21.html#X7B202D147A5C2884\">list unbind operation</a><br/>Reference: <a target=\"_blank\" href=\"https://www.gap-system.org/Manuals/doc/ref/chap21.html#X7921047F83F5FA28\">list element access</a><br/>Reference: <a target=\"_blank\" href=\"https://www.gap-system.org/Manuals/doc/ref/chap21.html#X8611EF768210625B\">list element assignment</a><br/>Reference: <a target=\"_blank\" href=\"https://www.gap-system.org/Manuals/doc/ref/chap21.html#X8016D50F85147A77\">list equal comparison</a><br/>Reference: <a target=\"_blank\" href=\"https://www.gap-system.org/Manuals/doc/ref/chap21.html#X8016D50F85147A77\">list smaller comparison</a><br/>Reference: <a target=\"_blank\" href=\"https://www.gap-system.org/Manuals/doc/ref/chap21.html#X7BAA9B0E81D4A884\">list sorted</a><br/>Reference: <a target=\"_blank\" href=\"https://www.gap-system.org/Manuals/doc/ref/chap21.html#X84FDB95179BFE4CD\">list and non-list product</a><br/>Reference: <a target=\"_blank\" href=\"https://www.gap-system.org/Manuals/doc/ref/chap21.html#X82EA2A5B786181C7\">list and non-list quotient</a><br/>Reference: <a target=\"_blank\" href=\"https://www.gap-system.org/Manuals/doc/ref/chap21.html#X7A0FD70C80B95C00\">list and non-list mod</a><br/>Reference: <a target=\"_blank\" href=\"https://www.gap-system.org/Manuals/doc/ref/chap21.html#X84BB2DFB8432A1A4\">list and non-list left quotient</a><br/>Reference: <a target=\"_blank\" href=\"https://www.gap-system.org/Manuals/doc/ref/chap21.html#X80FDB1457FF582E7\">ListWithIdenticalEntries</a><br/>Reference: <a target=\"_blank\" href=\"https://www.gap-system.org/Manuals/doc/ref/chap21.html#X7B256AE5780F140A\">Lists</a><br/>Reference: <a target=\"_blank\" href=\"https://www.gap-system.org/Manuals/doc/ref/chap30.html#X7C3722DF8736FFDB\">Lists and Collections</a><br/>Reference: <a target=\"_blank\" href=\"https://www.gap-system.org/Manuals/doc/ref/chap21.html#X86CB7DCE8510F977\">ListOp</a><br/>Reference: <a target=\"_blank\" href=\"https://www.gap-system.org/Manuals/doc/ref/chap49.html#X801A358E879A0FF0\">ListWreathProductElement</a><br/>Reference: <a target=\"_blank\" href=\"https://www.gap-system.org/Manuals/doc/ref/chap49.html#X801A358E879A0FF0\">ListWreathProductElementNC</a><br/>Reference: <a target=\"_blank\" href=\"https://www.gap-system.org/Manuals/doc/ref/chap22.html#X874BEF63785AB439\">ListBlist</a><br/>Reference: <a target=\"_blank\" href=\"https://www.gap-system.org/Manuals/doc/ref/chap26.html#X790013817E314B2D\">ListOp for vector object and function</a><br/>Reference: <a target=\"_blank\" href=\"https://www.gap-system.org/Manuals/doc/ref/chap26.html#X7E9F095E85DED480\">ListOp for a row list matrix</a><br/>Reference: <a target=\"_blank\" href=\"https://www.gap-system.org/Manuals/doc/ref/chap14.html#X862D1BD786EFFDA9\">ListOfDigits</a><br/>Reference: <a target=\"_blank\" href=\"https://www.gap-system.org/Manuals/doc/ref/chap30.html#X7F12F40E87F3C3A7\">ListOp</a><br/>Reference: <a target=\"_blank\" href=\"https://www.gap-system.org/Manuals/doc/ref/chap42.html#X7A9DCFD986958C1E\">ListPerm</a><br/>Reference: <a target=\"_blank\" href=\"https://www.gap-system.org/Manuals/doc/ref/chap43.html#X7CF607BC82C2C202\">ListStabChain</a><br/>Reference: <a target=\"_blank\" href=\"https://www.gap-system.org/Manuals/doc/ref/chap21.html#X7D150C2881881139\">ListN</a><br/>Reference: <a target=\"_blank\" href=\"https://www.gap-system.org/Manuals/doc/ref/chap21.html#X8258477D7F72171B\">ListX</a><br/>Reference: <a target=\"_blank\" href=\"https://www.gap-system.org/Manuals/doc/ref/chap53.html#X7AEC9E6687B3505A\">ListTransformation</a><br/>AutoDoc (not loaded): <a target=\"_blank\" href=\"https://www.gap-system.org/Manuals/pkg/autodoc/doc/chap2.html#X7B256AE5780F140A\">Lists</a><br/>Automata (not loaded): <a target=\"_blank\" href=\"https://www.gap-system.org/Manuals/pkg/automata/doc/chap2.html#X79F052EC81135807\">ListSinkStatesAut</a><br/>Automata (not loaded): <a target=\"_blank\" href=\"https://www.gap-system.org/Manuals/pkg/automata/doc/chap2.html#X7A72DDF0782E8D5E\">ListPermutedAutomata</a><br/>Automata (not loaded): <a target=\"_blank\" href=\"https://www.gap-system.org/Manuals/pkg/automata/doc/chap6.html#X7F9C5C6F815773E6\">ListOfWordsToAutomaton</a><br/>Automata (not loaded): <a target=\"_blank\" href=\"https://www.gap-system.org/Manuals/pkg/automata/doc/chapC.html#X80F3E10784590374\">ListToGeneratorsRepresentation</a><br/>AutomGrp (not loaded): <a target=\"_blank\" href=\"https://www.gap-system.org/Manuals/pkg/automgrp/htm/CHAP002.htm#SECT003\">ListOfElements</a><br/>CAP (not loaded): <a target=\"_blank\" href=\"https://www.gap-system.org/Manuals/pkg/cap/doc/chap7.html#X82AEE9507F0B48BC\">ListCAPPrepareFunctions</a><br/>CAP (not loaded): <a target=\"_blank\" href=\"https://www.gap-system.org/Manuals/pkg/cap/doc/chap9.html#X7F313F4B853D176C\">ListWithKeys</a><br/>CRISP: <a target=\"_blank\" href=\"https://www.gap-system.org/Manuals/pkg/crisp/htm/CHAP007.htm\">Lists of normal subgroups</a><br/>CTblLibXpls: <a target=\"_blank\" href=\"https://www.gap-system.org/Manuals/pkg/ctbllib/doc2/chap1.html#X7D1A66C3844D09B1\">Listing possible generality problems</a><br/>Digraphs (not loaded): <a target=\"_blank\" href=\"https://www.gap-system.org/Manuals/pkg/digraphs/doc/chap3.html#X7BB820C9813F035F\">ListNamedDigraphs</a><br/>Example (not loaded): <a target=\"_blank\" href=\"https://www.gap-system.org/Manuals/pkg/example/doc/chap1.html#X791F84D17C64D56A\">ListDirectory</a><br/>GAPDoc: <a target=\"_blank\" href=\"https://www.gap-system.org/Manuals/pkg/gapdoc/doc/chap3.html#X7F531B157D656836\">Listing</a><br/>GAPDoc Example: <a target=\"_blank\" href=\"https://www.gap-system.org/Manuals/pkg/gapdoc/example/chap2.html#X7F10E951789D6EDF\">Lists and Tables</a><br/>GAPDoc Example: <a target=\"_blank\" href=\"https://www.gap-system.org/Manuals/pkg/gapdoc/example/chapB.html#X7BB822947F626E1A\">Lists and Tables (Source)</a><br/>HAP (not loaded): <a target=\"_blank\" href=\"https://www.gap-system.org/Manuals/pkg/hap/doc/chap35.html#X8308C3198094AA55\">ListToPseudoList</a><br/>hecke (not loaded): <a target=\"_blank\" href=\"https://www.gap-system.org/Manuals/pkg/hecke/doc/chap3.html#X8232C0A1846A27FB\">ListERegulars</a><br/>IntPic (not loaded): <a target=\"_blank\" href=\"https://www.gap-system.org/Manuals/pkg/intpic/doc/chap3.html#X835CFDFB7C27CC26\">Lists of colors</a><br/>LINS (not loaded): <a target=\"_blank\" href=\"https://www.gap-system.org/Manuals/pkg/lins/doc/chap2.html#X805D91168165F914\">List for a lins graph</a><br/>MajoranaAlgebras (not loaded): <a target=\"_blank\" href=\"https://www.gap-system.org/Manuals/pkg/majoranaalgebras/doc/chap7.html#X83BC19B8812D211C\">ListSignedPerm for IsSignedPerm</a><br/>MajoranaAlgebras (not loaded): <a target=\"_blank\" href=\"https://www.gap-system.org/Manuals/pkg/majoranaalgebras/doc/chap7.html#X7CAA502279CC9A8C\">ListSignedPerm for IsSignedPerm, IsPosInt</a><br/>orb: <a target=\"_blank\" href=\"https://www.gap-system.org/Manuals/pkg/orb/doc/chap9.html#X8696CFD08768508D\">Lists of orbit-by-suborbit objects</a><br/>RDS (not loaded): <a target=\"_blank\" href=\"https://www.gap-system.org/Manuals/pkg/rds/htm/CHAP009.htm#SECT003\">Lists and Matrices</a><br/>RDS (not loaded): <a target=\"_blank\" href=\"https://www.gap-system.org/Manuals/pkg/rds/htm/CHAP009.htm#SECT003\">List2Tuples</a><br/>SL2Reps (not loaded): <a target=\"_blank\" href=\"https://www.gap-system.org/Manuals/pkg/sl2reps/doc/chap4.html#X8168FF017B2C0BB2\">Lists of representations</a><br/>SL2Reps (not loaded): <a target=\"_blank\" href=\"https://www.gap-system.org/Manuals/pkg/sl2reps/doc/chap4.html#X80406B597E11D7C6\">Lists by degree</a><br/>SL2Reps (not loaded): <a target=\"_blank\" href=\"https://www.gap-system.org/Manuals/pkg/sl2reps/doc/chap4.html#X78C583957D3FF6ED\">Lists by level</a><br/>SL2Reps (not loaded): <a target=\"_blank\" href=\"https://www.gap-system.org/Manuals/pkg/sl2reps/doc/chap4.html#X80400C6D79D4D0D6\">Lists of exceptional representations</a><br/>Smallsemi (not loaded): <a target=\"_blank\" href=\"https://www.gap-system.org/Manuals/pkg/smallsemi/doc/chap3.html#X80DFE0117B7A7C24\">Lists, Enumerators and Iterators of Semigroups</a><br/>ToolsForHomalg (not loaded): <a target=\"_blank\" href=\"https://www.gap-system.org/Manuals/pkg/toolsforhomalg/doc/chap4.html#X7AE60B0886355B92\">Lists with attributes</a><br/>ToolsForHomalg (not loaded): <a target=\"_blank\" href=\"https://www.gap-system.org/Manuals/pkg/toolsforhomalg/doc/chap4.html#X870B67E178BEA1B6\">ListWithAttributes</a><br/>ToolsForHomalg (not loaded): <a target=\"_blank\" href=\"https://www.gap-system.org/Manuals/pkg/toolsforhomalg/doc/chap8.html#X7F6543E78601EC4A\">ListImpliedFilters</a><br/>ToolsForHomalg (not loaded): <a target=\"_blank\" href=\"https://www.gap-system.org/Manuals/pkg/toolsforhomalg/doc/chap9.html#X87364E1880BAFD86\">ListOfSuccessors for IsTree</a><br/>ToolsForHomalg (not loaded): <a target=\"_blank\" href=\"https://www.gap-system.org/Manuals/pkg/toolsforhomalg/doc/chap9.html#X7DBFDC727BD18391\">ListOfSentinels for IsTree</a><br/>ToricVarieties (not loaded): <a target=\"_blank\" href=\"https://www.gap-system.org/Manuals/pkg/toricvarieties/doc/chap3.html#X868FA9D6867D8A3B\">ListOfVariablesOfCoxRing for istoricvariety</a><br/>ToricVarieties (not loaded): <a target=\"_blank\" href=\"https://www.gap-system.org/Manuals/pkg/toricvarieties/doc/chap3.html#X7DA644E9799B9EC4\">ListOfVariablesOfCoordinateRingOfTorus for istoricvariety</a><br/>ToricVarieties (not loaded): <a target=\"_blank\" href=\"https://www.gap-system.org/Manuals/pkg/toricvarieties/doc/chap5.html#X8205D8A97B0C130B\">ListOfVariablesOfCoordinateRing for isaffinetoricvariety</a><br/>Utils: <a target=\"_blank\" href=\"https://www.gap-system.org/Manuals/pkg/utils/doc/chap3.html#X7AE6EFC086C0EB3C\">Lists, Sets and Strings</a><br/>Utils: <a target=\"_blank\" href=\"https://www.gap-system.org/Manuals/pkg/utils/doc/chap5.html#X87A8F01286548037\">ListOfPowers</a><br/>XModAlg (not loaded): <a target=\"_blank\" href=\"https://www.gap-system.org/Manuals/pkg/xmodalg/doc/chap2.html#X7960904E7A0536A8\">Lists of algebra homomorphisms</a><br/>"
      ]
     },
     "execution_count": 2,
     "metadata": {},
     "output_type": "execute_result"
    }
   ],
   "source": [
    "?list"
   ]
  },
  {
   "cell_type": "code",
   "execution_count": null,
   "id": "5ddcbce1",
   "metadata": {
    "vscode": {
     "languageId": "gap"
    }
   },
   "outputs": [],
   "source": []
  }
 ],
 "metadata": {
  "kernelspec": {
   "display_name": "GAP virtual env",
   "language": "gap",
   "name": "gapcito"
  },
  "language_info": {
   "codemirror_mode": "gap",
   "file_extension": ".g",
   "mimetype": "text/x-gap",
   "name": "GAP 4",
   "nbconvert_exporter": "",
   "pygments_lexer": "gap",
   "version": "4.13.1"
  }
 },
 "nbformat": 4,
 "nbformat_minor": 5
}
