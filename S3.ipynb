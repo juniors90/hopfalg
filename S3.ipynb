{
 "cells": [
  {
   "cell_type": "markdown",
   "id": "6e22e4cc",
   "metadata": {},
   "source": [
    "- Definimos el grupo simétrico $\\mathbb{S}_N$ para `N:=3`"
   ]
  },
  {
   "cell_type": "code",
   "execution_count": 2,
   "id": "5a47da0c",
   "metadata": {},
   "outputs": [
    {
     "data": {
      "text/plain": [
       "Sym( [ 1 .. 3 ] )"
      ]
     },
     "execution_count": 2,
     "metadata": {
      "text/plain": ""
     },
     "output_type": "execute_result"
    }
   ],
   "source": [
    "N := 3;;\n",
    "G := SymmetricGroup(N); "
   ]
  },
  {
   "cell_type": "markdown",
   "id": "027d1b1a",
   "metadata": {},
   "source": [
    "- Mostramos los elementos del grupo"
   ]
  },
  {
   "cell_type": "code",
   "execution_count": 4,
   "id": "2295c84b",
   "metadata": {},
   "outputs": [
    {
     "name": "stdout",
     "output_type": "stream",
     "text": [
      "Elementos de S_3:\n",
      "[ (), (2,3), (1,2), (1,2,3), (1,3,2), (1,3) ]\n"
     ]
    }
   ],
   "source": [
    "Print(\"Elementos de S_\", N, \":\\n\");\n",
    "Display(Elements(G));"
   ]
  },
  {
   "cell_type": "markdown",
   "id": "b3e9b27f",
   "metadata": {},
   "source": [
    "- Clases de conjugación"
   ]
  },
  {
   "cell_type": "code",
   "execution_count": 5,
   "id": "cc7d17e0",
   "metadata": {},
   "outputs": [
    {
     "data": {
      "text/plain": [
       "[ ()^G, (1,2)^G, (1,2,3)^G ]"
      ]
     },
     "execution_count": 5,
     "metadata": {
      "text/plain": ""
     },
     "output_type": "execute_result"
    }
   ],
   "source": [
    "conjClasses := ConjugacyClasses(G);"
   ]
  },
  {
   "cell_type": "code",
   "execution_count": 9,
   "id": "0ace0981",
   "metadata": {},
   "outputs": [
    {
     "name": "stdout",
     "output_type": "stream",
     "text": [
      "\n",
      "Clases de conjugación y sus representantes:\n",
      "------------------------------------------\n",
      "\n",
      "Representante: ()\n",
      "Clase de conjugación: [ () ]\n",
      "Tamaño de la clase: 1\n",
      "Centralizador (Γ_()): [ (), (2,3), (1,2), (1,2,3), (1,3,2), (1,3) ]\n",
      "Orden del centralizador: 6\n",
      "Verificación: 1 = 6/6\n",
      "--------------------------------------------------\n",
      "Representante: (1,2)\n",
      "Clase de conjugación: [ (2,3), (1,2), (1,3) ]\n",
      "Tamaño de la clase: 3\n",
      "Centralizador (Γ_(1,2)): [ (), (1,2) ]\n",
      "Orden del centralizador: 2\n",
      "Verificación: 3 = 6/2\n",
      "--------------------------------------------------\n",
      "Representante: (1,2,3)\n",
      "Clase de conjugación: [ (1,2,3), (1,3,2) ]\n",
      "Tamaño de la clase: 2\n",
      "Centralizador (Γ_(1,2,3)): [ (), (1,2,3), (1,3,2) ]\n",
      "Orden del centralizador: 3\n",
      "Verificación: 2 = 6/3\n",
      "--------------------------------------------------\n"
     ]
    }
   ],
   "source": [
    "Print(\"\\nClases de conjugación y sus representantes:\\n\");\n",
    "Print(\"------------------------------------------\\n\\n\");\n",
    "centralizers:= [];;\n",
    "for C in conjClasses do\n",
    "    rep := Representative(C);\n",
    "    size := Size(C);\n",
    "    centralizer := Centralizer(G, rep);\n",
    "    Print(\"Representante: \", rep, \"\\n\");\n",
    "    Print(\"Clase de conjugación: \", Elements(C), \"\\n\");\n",
    "    Print(\"Tamaño de la clase: \", size, \"\\n\");\n",
    "    Print(\"Centralizador (Γ_\", rep, \"): \", Elements(centralizer), \"\\n\");\n",
    "    Print(\"Orden del centralizador: \", Size(centralizer), \"\\n\");\n",
    "    #Print(\"Representaciones irreducibles de (Γ_\", rep, \"): \");\n",
    "    #IrreducibleRepresentations(centralizer);\n",
    "    Add(centralizers, [centralizer, rep]);\n",
    "    # Verificación de la fórmula |clase| = |G| / |centralizador|\n",
    "    ratio := Size(G) / Size(centralizer);\n",
    "    if ratio = size then\n",
    "        Print(\"Verificación: \", size, \" = \", Size(G), \"/\", Size(centralizer), \"\\n\");\n",
    "    else\n",
    "        Print(\"¡Error en la verificación!\\n\");\n",
    "    fi;\n",
    "    Print(\"--------------------------------------------------\\n\");\n",
    "od;"
   ]
  },
  {
   "cell_type": "code",
   "execution_count": 10,
   "id": "717731a2",
   "metadata": {},
   "outputs": [
    {
     "data": {
      "text/plain": [
       "[ [ Group([ (1,3), (2,3) ]), () ], [ Group([ (1,2) ]), (1,2) ],   [ Group([ (1,2,3) ]), (1,2,3) ] ]"
      ]
     },
     "execution_count": 10,
     "metadata": {
      "text/plain": ""
     },
     "output_type": "execute_result"
    }
   ],
   "source": [
    "centralizers;"
   ]
  },
  {
   "cell_type": "code",
   "execution_count": 11,
   "id": "e61724c6",
   "metadata": {},
   "outputs": [
    {
     "name": "stdout",
     "output_type": "stream",
     "text": [
      "Centralizador Γ_() ≌ S3\n",
      "Centralizador Γ_(1,2) ≌ C2\n",
      "Centralizador Γ_(1,2,3) ≌ C3\n"
     ]
    }
   ],
   "source": [
    "for i in centralizers do\n",
    "    Print(\"Centralizador Γ_\", i[2], \" ≌ \", StructureDescription(i[1]), \"\\n\");\n",
    "od;"
   ]
  },
  {
   "cell_type": "code",
   "execution_count": 12,
   "id": "d2867561",
   "metadata": {},
   "outputs": [
    {
     "data": {
      "text/plain": [
       "true"
      ]
     },
     "execution_count": 12,
     "metadata": {
      "text/plain": ""
     },
     "output_type": "execute_result"
    }
   ],
   "source": [
    "LoadPackage( \"repsn\" );"
   ]
  },
  {
   "cell_type": "code",
   "execution_count": 14,
   "id": "49da4009",
   "metadata": {},
   "outputs": [
    {
     "name": "stdout",
     "output_type": "stream",
     "text": [
      "\n",
      "Centralizador (Γ_()): S3\n",
      "[ (), (2,3), (1,2), (1,2,3), (1,3,2), (1,3) ]\n",
      "-----------------------------------------------------------\n",
      "GroupHomomorphismByImages( SymmetricGroup( [ 1 .. 3 ] ), Group(\n",
      "[ [ [ 1 ] ], [ [ 1 ] ] ]), [ (1,2,3), (1,2) ], [ [ [ 1 ] ], [ [ 1 ] ] ] )\n",
      "GroupHomomorphismByImages( SymmetricGroup( [ 1 .. 3 ] ), Group(\n",
      "[ [ [ 1 ] ], [ [ -1 ] ] ]), [ (1,2,3), (1,2) ], [ [ [ 1 ] ], [ [ -1 ] ] ] )\n",
      "GroupHomomorphismByImages( SymmetricGroup( [ 1 .. 3 ] ), Group(\n",
      "[ [ [ E(3)^2, 0 ], [ 0, E(3) ] ], [ [ 0, E(3) ], [ E(3)^2, 0 ] ] ]), \n",
      "[ (1,2,3), (1,2) ], [ [ [ E(3)^2, 0 ], [ 0, E(3) ] ], \n",
      "  [ [ 0, E(3) ], [ E(3)^2, 0 ] ] ] )\n",
      "\n",
      "Centralizador (Γ_(1,2)): C2\n",
      "[ (), (1,2) ]\n",
      "-----------------------------------------------------------\n",
      "GroupHomomorphismByImages( SymmetricGroup( [ 1 .. 3 ] ), Group(\n",
      "[ [ [ 0, 1, 0 ], [ 0, 0, 1 ], [ 1, 0, 0 ] ], \n",
      "  [ [ 1, 0, 0 ], [ 0, 0, 1 ], [ 0, 1, 0 ] ] ]), [ (1,2,3), (1,2) ], \n",
      "[ [ [ 0, 1, 0 ], [ 0, 0, 1 ], [ 1, 0, 0 ] ], \n",
      "  [ [ 1, 0, 0 ], [ 0, 0, 1 ], [ 0, 1, 0 ] ] ] )\n",
      "GroupHomomorphismByImages( SymmetricGroup( [ 1 .. 3 ] ), Group(\n",
      "[ [ [ 0, -1, 0 ], [ 0, 0, -1 ], [ 1, 0, 0 ] ], \n",
      "  [ [ -1, 0, 0 ], [ 0, 0, 1 ], [ 0, 1, 0 ] ] ]), [ (1,2,3), (1,2) ], \n",
      "[ [ [ 0, -1, 0 ], [ 0, 0, -1 ], [ 1, 0, 0 ] ], \n",
      "  [ [ -1, 0, 0 ], [ 0, 0, 1 ], [ 0, 1, 0 ] ] ] )\n",
      "\n",
      "Centralizador (Γ_(1,2,3)): C3\n",
      "[ (), (1,2,3), (1,3,2) ]\n",
      "-----------------------------------------------------------\n",
      "GroupHomomorphismByImages( SymmetricGroup( [ 1 .. 3 ] ), Group(\n",
      "[ [ [ 1, 0 ], [ 0, 1 ] ], [ [ 0, 1 ], [ 1, 0 ] ] ]), [ (1,2,3), (1,2) ], \n",
      "[ [ [ 1, 0 ], [ 0, 1 ] ], [ [ 0, 1 ], [ 1, 0 ] ] ] )\n",
      "GroupHomomorphismByImages( SymmetricGroup( [ 1 .. 3 ] ), Group(\n",
      "[ [ [ E(3)^2, 0 ], [ 0, E(3) ] ], [ [ 0, E(3) ], [ E(3)^2, 0 ] ] ]), \n",
      "[ (1,2,3), (1,2) ], [ [ [ E(3)^2, 0 ], [ 0, E(3) ] ], \n",
      "  [ [ 0, E(3) ], [ E(3)^2, 0 ] ] ] )\n",
      "GroupHomomorphismByImages( SymmetricGroup( [ 1 .. 3 ] ), Group(\n",
      "[ [ [ E(3), 0 ], [ 0, E(3)^2 ] ], [ [ 0, E(3)^2 ], [ E(3), 0 ] ] ]), \n",
      "[ (1,2,3), (1,2) ], [ [ [ E(3), 0 ], [ 0, E(3)^2 ] ], \n",
      "  [ [ 0, E(3)^2 ], [ E(3), 0 ] ] ] )\n"
     ]
    }
   ],
   "source": [
    "simples:= [];;\n",
    "for centralizer in centralizers do\n",
    "    rep := centralizer[2];\n",
    "    Gamma_g := centralizer[1];\n",
    "    Print(\"\\nCentralizador (Γ_\", rep, \"): \",StructureDescription(Gamma_g), \"\\n\");\n",
    "    Print(Elements(Gamma_g), \"\\n\");\n",
    "    Print(\"-----------------------------------------------------------\", \"\\n\");\n",
    "    irrepsGamma_g := Irr( Gamma_g );\n",
    "    #Print(Length(irrepsGamma_g), \"\\n\");\n",
    "    reps:=[];\n",
    "    for i in [1.. Length(irrepsGamma_g)] do\n",
    "        chi := irrepsGamma_g[ i ];;\n",
    "        #Print(chi, \"\\n\");\n",
    "        rho := IrreducibleAffordingRepresentation( chi );;\n",
    "        M_g_rho:=InducedSubgroupRepresentation( G, rho );;\n",
    "        Print(M_g_rho, \"\\n\");\n",
    "        Add(reps, M_g_rho);\n",
    "    od;\n",
    "    Add(simples, [reps, rep]);\n",
    "od;"
   ]
  },
  {
   "cell_type": "code",
   "execution_count": 15,
   "id": "c0960c30",
   "metadata": {},
   "outputs": [
    {
     "data": {
      "text/plain": [
       "[ (1,2,3), (1,2) ] -> [ [ [ 0, 1, 0 ], [ 0, 0, 1 ], [ 1, 0, 0 ] ],   [ [ 1, 0, 0 ], [ 0, 0, 1 ], [ 0, 1, 0 ] ] ]"
      ]
     },
     "execution_count": 15,
     "metadata": {
      "text/plain": ""
     },
     "output_type": "execute_result"
    }
   ],
   "source": [
    "simples[2][1][1];"
   ]
  },
  {
   "cell_type": "code",
   "execution_count": 16,
   "id": "2e3e29c0",
   "metadata": {},
   "outputs": [
    {
     "data": {
      "text/plain": [
       "[ (1,2,3), (1,2) ] -> [ [ [ 0, -1, 0 ], [ 0, 0, -1 ], [ 1, 0, 0 ] ],   [ [ -1, 0, 0 ], [ 0, 0, 1 ], [ 0, 1, 0 ] ] ]"
      ]
     },
     "execution_count": 16,
     "metadata": {
      "text/plain": ""
     },
     "output_type": "execute_result"
    }
   ],
   "source": [
    "simples[2][1][2];"
   ]
  },
  {
   "cell_type": "code",
   "execution_count": 16,
   "id": "b9154488",
   "metadata": {},
   "outputs": [
    {
     "name": "stderr",
     "output_type": "stream",
     "text": [
      "Error, List Element: <list>[3] must have an assigned value\n",
      "not in any function at stream:1\n"
     ]
    }
   ],
   "source": [
    "simples[2][1][3];"
   ]
  },
  {
   "cell_type": "code",
   "execution_count": 17,
   "id": "48c12fcc",
   "metadata": {},
   "outputs": [
    {
     "data": {
      "text/plain": [
       "true"
      ]
     },
     "execution_count": 17,
     "metadata": {
      "text/plain": ""
     },
     "output_type": "execute_result"
    }
   ],
   "source": [
    "LoadPackage(\"RepnDecomp\");"
   ]
  },
  {
   "cell_type": "code",
   "execution_count": 24,
   "id": "8de8b4cf",
   "metadata": {},
   "outputs": [
    {
     "data": {
      "text/plain": [
       "[ (1,2,3), (1,2) ] -> [ [ [ 0, 1, 0 ], [ 0, 0, 1 ], [ 1, 0, 0 ] ],   [ [ 1, 0, 0 ], [ 0, 0, 1 ], [ 0, 1, 0 ] ] ]"
      ]
     },
     "execution_count": 18,
     "metadata": {
      "text/plain": ""
     },
     "output_type": "execute_result"
    },
    {
     "data": {
      "text/plain": [
       "[ rec( basis := [ [ 1, 1, 1 ] ] ),   rec( basis := [ [ 1, E(3), E(3)^2 ], [ E(3)^2, E(3), 1 ] ] ) ]"
      ]
     },
     "execution_count": 19,
     "metadata": {
      "text/plain": ""
     },
     "output_type": "execute_result"
    },
    {
     "data": {
      "text/plain": [
       "[ [ 1, 1, 1 ], [ 1, E(3), E(3)^2 ], [ E(3)^2, E(3), 1 ] ]"
      ]
     },
     "execution_count": 20,
     "metadata": {
      "text/plain": ""
     },
     "output_type": "execute_result"
    },
    {
     "data": {
      "text/plain": [
       "[ (1,2,3), (1,2) ] -> [ [ [ 1, 0, 0 ], [ 0, E(3), 0 ], [ 0, 0, E(3)^2 ] ],   [ [ 1, 0, 0 ], [ 0, 0, E(3)^2 ], [ 0, E(3), 0 ] ] ]"
      ]
     },
     "execution_count": 21,
     "metadata": {
      "text/plain": ""
     },
     "output_type": "execute_result"
    },
    {
     "data": {
      "text/plain": [
       "[ [ 1, 0, 0 ], [ 0, 1, 0 ], [ 0, 0, 1 ] ]"
      ]
     },
     "execution_count": 22,
     "metadata": {
      "text/plain": ""
     },
     "output_type": "execute_result"
    },
    {
     "data": {
      "text/plain": [
       "[ rec( basis := [ [ 1, 0, 0 ] ] ),   rec( basis := [ [ 0, 1, 0 ], [ 0, 0, 1 ] ] ) ]"
      ]
     },
     "execution_count": 23,
     "metadata": {
      "text/plain": ""
     },
     "output_type": "execute_result"
    },
    {
     "data": {
      "text/plain": [
       "rec( basis := [ [ 1, 1, 1 ], [ 1, E(3), E(3)^2 ], [ E(3)^2, E(3), 1 ] ], centralizer_basis := [ [ [ [ 1 ] ], [ [ 0, 0 ], [ 0, 0 ] ] ], [ [ [ 0 ] ], [ [ 1, 0 ], [ 0, 1 ] ] ] ], decomposition := [ [ rec( basis := [ [ 1, 1, 1 ] ] ) ], [  ], [ rec( basis := [ [ 1, E(3), E(3)^2 ], [ E(3)^2, E(3), 1 ] ] ) ] ], diagonal_rep := [ (1,2,3), (1,2) ] -> [ [ [ 1, 0, 0 ], [ 0, E(3), 0 ], [ 0, 0, E(3)^2 ] ], [ [ 1, 0, 0 ], [ 0, 0, E(3)^2 ], [ 0, E(3), 0 ] ] ] )"
      ]
     },
     "execution_count": 24,
     "metadata": {},
     "output_type": "execute_result"
    }
   ],
   "source": [
    "rho := simples[2][1][1];\n",
    "IrreducibleDecomposition(rho);\n",
    "BlockDiagonalBasisOfRepresentation( rho );\n",
    "rho_diagonal := BlockDiagonalRepresentation( rho );\n",
    "BlockDiagonalBasisOfRepresentation( rho_diagonal );\n",
    "IrreducibleDecomposition( rho_diagonal );\n",
    "REPN_ComputeUsingSerre(rho);"
   ]
  },
  {
   "cell_type": "code",
   "execution_count": 28,
   "id": "e48934b9",
   "metadata": {},
   "outputs": [
    {
     "name": "stdout",
     "output_type": "stream",
     "text": [
      "[ [   1,   1,   1 ],\n",
      "  [   1,  -1,   1 ],\n",
      "  [   2,   0,  -1 ] ]\n"
     ]
    }
   ],
   "source": [
    "repr := IrreducibleRepresentations(G);;\n",
    "reps := List(ConjugacyClasses(G), Representative);;\n",
    "chars := List(repr, rho -> List(reps, x -> Trace(x^rho)));;\n",
    "Display(chars);"
   ]
  }
 ],
 "metadata": {
  "kernelspec": {
   "display_name": "GAP virtual env",
   "language": "gap",
   "name": "gapcito"
  },
  "language_info": {
   "codemirror_mode": "gap",
   "file_extension": ".g",
   "mimetype": "text/x-gap",
   "name": "gap",
   "nbconvert_exporter": "",
   "pygments_lexer": "gap",
   "version": "4.13.1"
  }
 },
 "nbformat": 4,
 "nbformat_minor": 5
}
