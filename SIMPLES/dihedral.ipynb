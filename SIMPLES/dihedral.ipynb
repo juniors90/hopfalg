{
 "cells": [
  {
   "cell_type": "markdown",
   "id": "9070a18a",
   "metadata": {},
   "source": [
    "# Implementación manual"
   ]
  },
  {
   "cell_type": "markdown",
   "id": "a6a5948b",
   "metadata": {},
   "source": [
    "### Definición del grupo dihedral $D_n$ en GAP\n",
    "\n",
    "En GAP, el grupo dihedral $D_n$, de orden $2n$, puede definirse directamente usando el comando:\n",
    "\n",
    "```GAP\n",
    "DihedralPermGroup := function(n)\n",
    "    local r, s, G, i, pairs;\n",
    "\n",
    "    # Rotación: el ciclo (1 2 3 ... n)\n",
    "    r := PermList(Concatenation([[2..n], [1]]));\n",
    "\n",
    "    # Reflexión: el producto (1 n)(2 n-1)... como composición de transposiciones\n",
    "    pairs := [];\n",
    "    for i in [1..QuoInt(n, 2)] do\n",
    "        if i <> n - i + 1 then\n",
    "            Add(pairs, (i, n - i + 1));\n",
    "        fi;\n",
    "    od;\n",
    "    \n",
    "    # esto construye la permutación como producto de ciclos\n",
    "    s := Product(pairs);\n",
    "\n",
    "    # Grupo generado por r y s\n",
    "    G := Group(r, s);\n",
    "    return G;\n",
    "end;\n",
    "```"
   ]
  },
  {
   "cell_type": "code",
   "execution_count": 1,
   "id": "d6bac5bc",
   "metadata": {
    "vscode": {
     "languageId": "gap"
    }
   },
   "outputs": [
    {
     "data": {
      "text/plain": [
       "function( n ) ... end"
      ]
     },
     "execution_count": 1,
     "metadata": {
      "text/plain": ""
     },
     "output_type": "execute_result"
    }
   ],
   "source": [
    "DihedralPermGroup := function(n)\n",
    "    local r, s, G, i, pairs;\n",
    "\n",
    "    # Rotación: el ciclo (1 2 3 ... n)\n",
    "    r := PermList(Concatenation([[2..n], [1]]));\n",
    "\n",
    "    # Reflexión: el producto (1 n)(2 n-1)... como composición de transposiciones\n",
    "    pairs := [];\n",
    "    for i in [1..QuoInt(n, 2)] do\n",
    "        if i <> n - i + 1 then\n",
    "            Add(pairs, (i, n - i + 1));\n",
    "        fi;\n",
    "    od;\n",
    "    \n",
    "    # esto construye la permutación como producto de ciclos\n",
    "    s := Product(pairs);\n",
    "\n",
    "    # Grupo generado por r y s\n",
    "    G := Group(r, s);\n",
    "    return G;\n",
    "end;\n"
   ]
  },
  {
   "cell_type": "markdown",
   "id": "65ba0fe7",
   "metadata": {},
   "source": [
    "Seguidamente, se define al grupo $\\mathbb{D}_6$, que es de orden $2 \\cdot 6 = 12$."
   ]
  },
  {
   "cell_type": "code",
   "execution_count": 3,
   "id": "7f9a8774",
   "metadata": {
    "vscode": {
     "languageId": "gap"
    }
   },
   "outputs": [
    {
     "data": {
      "text/plain": [
       "Group([ (1,2,3,4,5,6), (1,6)(2,5)(3,4) ])"
      ]
     },
     "execution_count": 3,
     "metadata": {
      "text/plain": ""
     },
     "output_type": "execute_result"
    }
   ],
   "source": [
    "n := 6;;\n",
    "D := DihedralPermGroup(n);\n"
   ]
  },
  {
   "cell_type": "markdown",
   "id": "ee130e80",
   "metadata": {},
   "source": [
    "Mostramos los elementos"
   ]
  },
  {
   "cell_type": "code",
   "execution_count": 4,
   "id": "4a044ab1",
   "metadata": {
    "vscode": {
     "languageId": "gap"
    }
   },
   "outputs": [
    {
     "name": "stdout",
     "output_type": "stream",
     "text": [
      "()\n",
      "(2,6)(3,5)\n",
      "(1,2)(3,6)(4,5)\n",
      "(1,2,3,4,5,6)\n",
      "(1,3)(4,6)\n",
      "(1,3,5)(2,4,6)\n",
      "(1,4)(2,3)(5,6)\n",
      "(1,4)(2,5)(3,6)\n",
      "(1,5)(2,4)\n",
      "(1,5,3)(2,6,4)\n",
      "(1,6,5,4,3,2)\n",
      "(1,6)(2,5)(3,4)\n"
     ]
    }
   ],
   "source": [
    "for el in Elements(D) do\n",
    "    Print(el, \"\\n\"); # Muestra las n x 2 permutaciones\n",
    "od; "
   ]
  },
  {
   "cell_type": "markdown",
   "id": "ab9888c3",
   "metadata": {},
   "source": [
    "## Verificación de propiedades básicas\n",
    "\n",
    "Podemos inspeccionar propiedades básicas del grupo\n",
    "con los siguientes comandos:\n",
    "\n",
    "```GAP\n",
    "Size(D);                     # Devuelve el orden del grupo\n",
    "StructureDescription(D);     # Devuelve \"D12\"\n",
    "GeneratorsOfGroup(D);        # Muestra los generadores\n",
    "```\n",
    "\n",
    "Además, $\\mathbb{D}_n$ tiene la presentación:\n",
    "$$\n",
    "\\mathbb{D}_n = \\langle r, s \\mid r^n = s^2 = 1,\\; srs = r^{-1} \\rangle.\n",
    "$$"
   ]
  },
  {
   "cell_type": "code",
   "execution_count": 7,
   "id": "990870cf",
   "metadata": {
    "vscode": {
     "languageId": "gap"
    }
   },
   "outputs": [
    {
     "data": {
      "text/plain": [
       "12"
      ]
     },
     "execution_count": 5,
     "metadata": {
      "text/plain": ""
     },
     "output_type": "execute_result"
    },
    {
     "data": {
      "text/plain": [
       "\"D12\""
      ]
     },
     "execution_count": 6,
     "metadata": {
      "text/plain": ""
     },
     "output_type": "execute_result"
    },
    {
     "data": {
      "text/plain": [
       "[ (1,2,3,4,5,6), (1,6)(2,5)(3,4) ]"
      ]
     },
     "execution_count": 7,
     "metadata": {
      "text/plain": ""
     },
     "output_type": "execute_result"
    }
   ],
   "source": [
    "Size(D);                     # Devuelve el orden del grupo\n",
    "StructureDescription(D);     # Devuelve \"D12\"\n",
    "GeneratorsOfGroup(D);        # Muestra los generadores"
   ]
  },
  {
   "cell_type": "code",
   "execution_count": 12,
   "id": "76d48b1a",
   "metadata": {
    "vscode": {
     "languageId": "gap"
    }
   },
   "outputs": [
    {
     "data": {
      "text/plain": [
       "(1,2,3,4,5,6)"
      ]
     },
     "execution_count": 8,
     "metadata": {
      "text/plain": ""
     },
     "output_type": "execute_result"
    },
    {
     "data": {
      "text/plain": [
       "(1,6)(2,5)(3,4)"
      ]
     },
     "execution_count": 9,
     "metadata": {
      "text/plain": ""
     },
     "output_type": "execute_result"
    },
    {
     "data": {
      "text/plain": [
       "true"
      ]
     },
     "execution_count": 10,
     "metadata": {
      "text/plain": ""
     },
     "output_type": "execute_result"
    },
    {
     "data": {
      "text/plain": [
       "true"
      ]
     },
     "execution_count": 11,
     "metadata": {
      "text/plain": ""
     },
     "output_type": "execute_result"
    },
    {
     "data": {
      "text/plain": [
       "true"
      ]
     },
     "execution_count": 12,
     "metadata": {
      "text/plain": ""
     },
     "output_type": "execute_result"
    }
   ],
   "source": [
    "r:=D.1;\n",
    "s:=D.2;\n",
    "r^n = One(D);     # true\n",
    "s^2 = One(D);     # true\n",
    "s * r * s = r^-1; # true"
   ]
  },
  {
   "cell_type": "code",
   "execution_count": null,
   "id": "c5bb10c0",
   "metadata": {
    "vscode": {
     "languageId": "gap"
    }
   },
   "outputs": [],
   "source": []
  },
  {
   "cell_type": "code",
   "execution_count": 14,
   "id": "788c97d1",
   "metadata": {
    "vscode": {
     "languageId": "gap"
    }
   },
   "outputs": [
    {
     "data": {
      "text/plain": [
       "[ (), (1,2,3,4,5,6), (1,3,5)(2,4,6), (1,4)(2,5)(3,6), (1,5,3)(2,6,4),   (1,6,5,4,3,2) ]"
      ]
     },
     "execution_count": 13,
     "metadata": {
      "text/plain": ""
     },
     "output_type": "execute_result"
    },
    {
     "data": {
      "text/plain": [
       "[ (1,6)(2,5)(3,4), (2,6)(3,5), (1,2)(3,6)(4,5), (1,3)(4,6), (1,4)(2,3)(5,6),   (1,5)(2,4) ]"
      ]
     },
     "execution_count": 14,
     "metadata": {
      "text/plain": ""
     },
     "output_type": "execute_result"
    }
   ],
   "source": [
    "List([0..(n-1)], i -> D.1^i);       # rotaciones\n",
    "List([0..(n-1)], i -> D.2 * D.1^i); # reflexiones"
   ]
  },
  {
   "cell_type": "markdown",
   "id": "b28e7f76",
   "metadata": {},
   "source": [
    "## Cálculo de las representaciones irreducibles\n",
    "\n",
    "Podemos obtener la tabla de caracteres irreducibles mediante:\n",
    "\n",
    "```GAP\n",
    "irr := Irr(D);\n",
    "Display(irr);\n",
    "```\n",
    "\n",
    "Para obtener las representaciones como homomorfismos\n",
    "en matrices (es decir, $\\rho: G \\to \\mathrm{GL}(V)$):\n",
    "\n",
    "```GAP\n",
    "reps := IrreducibleRepresentations(G);\n",
    "```"
   ]
  },
  {
   "cell_type": "code",
   "execution_count": 16,
   "id": "1fcbdf3e",
   "metadata": {
    "vscode": {
     "languageId": "gap"
    }
   },
   "outputs": [
    {
     "name": "stdout",
     "output_type": "stream",
     "text": [
      "[ [   1,   1,   1,   1,   1,   1 ],\n",
      "  [   1,  -1,  -1,   1,   1,   1 ],\n",
      "  [   1,  -1,   1,  -1,   1,  -1 ],\n",
      "  [   1,   1,  -1,  -1,   1,  -1 ],\n",
      "  [   2,   0,   0,   1,  -1,  -2 ],\n",
      "  [   2,   0,   0,  -1,  -1,   2 ] ]\n"
     ]
    },
    {
     "data": {
      "text/plain": [
       "[ Character( CharacterTable( D12 ), [ 1, 1, 1, 1, 1, 1 ] ),   Character( CharacterTable( D12 ), [ 1, -1, -1, 1, 1, 1 ] ),   Character( CharacterTable( D12 ), [ 1, -1, 1, -1, 1, -1 ] ),   Character( CharacterTable( D12 ), [ 1, 1, -1, -1, 1, -1 ] ),   Character( CharacterTable( D12 ), [ 2, 0, 0, 1, -1, -2 ] ),   Character( CharacterTable( D12 ), [ 2, 0, 0, -1, -1, 2 ] ) ]"
      ]
     },
     "execution_count": 15,
     "metadata": {
      "text/plain": ""
     },
     "output_type": "execute_result"
    }
   ],
   "source": [
    "irr := Irr(D);\n",
    "Display(irr);"
   ]
  },
  {
   "cell_type": "code",
   "execution_count": 20,
   "id": "f23798bf",
   "metadata": {
    "vscode": {
     "languageId": "gap"
    }
   },
   "outputs": [
    {
     "data": {
      "text/plain": [
       "6"
      ]
     },
     "execution_count": 18,
     "metadata": {
      "text/plain": ""
     },
     "output_type": "execute_result"
    },
    {
     "data": {
      "text/plain": [
       "6"
      ]
     },
     "execution_count": 19,
     "metadata": {
      "text/plain": ""
     },
     "output_type": "execute_result"
    },
    {
     "data": {
      "text/plain": [
       "6"
      ]
     },
     "execution_count": 20,
     "metadata": {
      "text/plain": ""
     },
     "output_type": "execute_result"
    }
   ],
   "source": [
    "reps := IrreducibleRepresentations(D);;\n",
    "Length(reps);\n",
    "Length(List(reps, rho -> rho(r)));\n",
    "Length(List(reps, rho -> rho(s)));"
   ]
  },
  {
   "cell_type": "code",
   "execution_count": 22,
   "id": "7fc7ec64",
   "metadata": {
    "vscode": {
     "languageId": "gap"
    }
   },
   "outputs": [
    {
     "name": "stdout",
     "output_type": "stream",
     "text": [
      "[ [ [ [ 1 ] ], [ [ 1 ] ] ], [ [ [ 1 ] ], [ [ -1 ] ] ], \n",
      "  [ [ [ -1 ] ], [ [ -1 ] ] ], [ [ [ -1 ] ], [ [ 1 ] ] ], \n",
      "  [ [ [ E(3)^2, 0 ], [ 0, E(3) ] ], [ [ 0, E(3)^2 ], [ E(3), 0 ] ] ], \n",
      "  [ [ [ -E(3)^2, 0 ], [ 0, -E(3) ] ], [ [ 0, -E(3)^2 ], [ -E(3), 0 ] ] ] ]\n"
     ]
    }
   ],
   "source": [
    "reps_gens := List(reps, rho -> [ rho(r), rho(s) ]);;\n",
    "Display(reps_gens);\n",
    "\n"
   ]
  },
  {
   "cell_type": "code",
   "execution_count": 24,
   "id": "69ec1535",
   "metadata": {
    "vscode": {
     "languageId": "gap"
    }
   },
   "outputs": [],
   "source": [
    "irreps := [];;\n",
    "for images in reps_gens do\n",
    "    rho := GroupHomomorphismByImages(D, Group(images));\n",
    "    Add(irreps, rho);\n",
    "od;"
   ]
  },
  {
   "cell_type": "code",
   "execution_count": 25,
   "id": "92fbc8d8",
   "metadata": {
    "vscode": {
     "languageId": "gap"
    }
   },
   "outputs": [
    {
     "data": {
      "text/plain": [
       "[ (1,2,3,4,5,6), (1,6)(2,5)(3,4) ] -> [ [ [ 1 ] ], [ [ -1 ] ] ]"
      ]
     },
     "execution_count": 25,
     "metadata": {
      "text/plain": ""
     },
     "output_type": "execute_result"
    }
   ],
   "source": [
    "irreps[2];"
   ]
  },
  {
   "cell_type": "code",
   "execution_count": 26,
   "id": "b5f0392d",
   "metadata": {
    "vscode": {
     "languageId": "gap"
    }
   },
   "outputs": [
    {
     "data": {
      "text/plain": [
       "[ [ (1,2,3,4,5,6), (1,6)(2,5)(3,4) ] -> [ [ [ 1 ] ], [ [ 1 ] ] ],   [ (1,2,3,4,5,6), (1,6)(2,5)(3,4) ] -> [ [ [ 1 ] ], [ [ -1 ] ] ],   [ (1,2,3,4,5,6), (1,6)(2,5)(3,4) ] -> [ [ [ -1 ] ], [ [ -1 ] ] ],   [ (1,2,3,4,5,6), (1,6)(2,5)(3,4) ] -> [ [ [ -1 ] ], [ [ 1 ] ] ],   [ (1,2,3,4,5,6), (1,6)(2,5)(3,4) ] -> [ [ [ E(3)^2, 0 ], [ 0, E(3) ] ],       [ [ 0, E(3)^2 ], [ E(3), 0 ] ] ], [ (1,2,3,4,5,6), (1,6)(2,5)(3,4) ] ->     [ [ [ -E(3)^2, 0 ], [ 0, -E(3) ] ], [ [ 0, -E(3)^2 ], [ -E(3), 0 ] ] ] ]"
      ]
     },
     "execution_count": 26,
     "metadata": {
      "text/plain": ""
     },
     "output_type": "execute_result"
    }
   ],
   "source": [
    "irreduc:=List(reps_gens, images -> GroupHomomorphismByImages(D, Group(images)));"
   ]
  },
  {
   "cell_type": "code",
   "execution_count": 27,
   "id": "4dccca77",
   "metadata": {
    "vscode": {
     "languageId": "gap"
    }
   },
   "outputs": [
    {
     "data": {
      "text/plain": [
       "true"
      ]
     },
     "execution_count": 27,
     "metadata": {
      "text/plain": ""
     },
     "output_type": "execute_result"
    }
   ],
   "source": [
    "irreduc=irreps;"
   ]
  },
  {
   "cell_type": "markdown",
   "id": "e4eddfe0",
   "metadata": {},
   "source": [
    "## Evaluación de las representaciones\n",
    "\n",
    "Supongamos que tomamos la primera representación irreducible:\n",
    "\n",
    "```GAP\n",
    "rho := reps[5];\n",
    "```\n",
    "Podemos evaluar $\\rho(g)$ para un elemento $g \\in G$:\n",
    "```GAP\n",
    "g := D.1;;    # Primer generador\n",
    "rho(g);       # Matriz asociada a g\n",
    "```\n",
    "Evaluamos todos los generadores:\n",
    "```GAP\n",
    "List(GeneratorsOfGroup(D), x -> rho(x));\n",
    "```"
   ]
  },
  {
   "cell_type": "code",
   "execution_count": 28,
   "id": "55312723",
   "metadata": {
    "vscode": {
     "languageId": "gap"
    }
   },
   "outputs": [
    {
     "data": {
      "text/plain": [
       "[ (1,2,3,4,5,6), (1,6)(2,5)(3,4) ] -> [ [ [ -1 ] ], [ [ -1 ] ] ]"
      ]
     },
     "execution_count": 28,
     "metadata": {
      "text/plain": ""
     },
     "output_type": "execute_result"
    }
   ],
   "source": [
    "rho := irreps[3];"
   ]
  },
  {
   "cell_type": "code",
   "execution_count": 30,
   "id": "e4da3dfd",
   "metadata": {
    "vscode": {
     "languageId": "gap"
    }
   },
   "outputs": [
    {
     "data": {
      "text/plain": [
       "[ [ -1 ] ]"
      ]
     },
     "execution_count": 30,
     "metadata": {
      "text/plain": ""
     },
     "output_type": "execute_result"
    }
   ],
   "source": [
    "g := D.1;;    # Primer generador\n",
    "rho(g);       # Matriz asociada a g"
   ]
  },
  {
   "cell_type": "code",
   "execution_count": 31,
   "id": "4c3f561e",
   "metadata": {
    "vscode": {
     "languageId": "gap"
    }
   },
   "outputs": [
    {
     "data": {
      "text/plain": [
       "[ [ [ -1 ] ], [ [ -1 ] ] ]"
      ]
     },
     "execution_count": 31,
     "metadata": {
      "text/plain": ""
     },
     "output_type": "execute_result"
    }
   ],
   "source": [
    "List(GeneratorsOfGroup(D), x -> rho(x));"
   ]
  },
  {
   "cell_type": "markdown",
   "id": "2aebf722",
   "metadata": {},
   "source": [
    "## Cálculo de caracteres asociados\n",
    "\n",
    "Podemos calcular directamente el carácter de una representación como función:\n",
    "\n",
    "```GAP\n",
    "chi := CharacterOfRep(rho);\n",
    "Display(chi);\n",
    "```\n",
    "\n",
    "También podemos calcular las trazas de la representación en todos los elementos:\n",
    "\n",
    "```GAP\n",
    "List(Elements(D), x -> Trace(rho(x)));\n",
    "```"
   ]
  },
  {
   "cell_type": "code",
   "execution_count": 32,
   "id": "88b15183",
   "metadata": {
    "vscode": {
     "languageId": "gap"
    }
   },
   "outputs": [
    {
     "data": {
      "text/plain": [
       "function( rho ) ... end"
      ]
     },
     "execution_count": 32,
     "metadata": {
      "text/plain": ""
     },
     "output_type": "execute_result"
    }
   ],
   "source": [
    "CharacterOfRep := function(rho)\n",
    "    local char_rho, repres, conjClasses;\n",
    "\n",
    "    # Verificar que rho es un mapeo (homomorfismo)\n",
    "    if not IsMapping(rho) then\n",
    "        Error(\"El parámetro debe ser un homomorfismo (representación).\");\n",
    "    fi;\n",
    "\n",
    "    conjClasses := ConjugacyClasses(Source(rho));\n",
    "    repres := List(conjClasses, c -> Representative(c));\n",
    "\n",
    "    # Calcular el carácter asociado\n",
    "    char_rho := List(repres, x -> Trace(Image(rho, x)));\n",
    "\n",
    "    return char_rho;\n",
    "end;"
   ]
  },
  {
   "cell_type": "code",
   "execution_count": 33,
   "id": "dbfe3d34",
   "metadata": {
    "vscode": {
     "languageId": "gap"
    }
   },
   "outputs": [
    {
     "data": {
      "text/plain": [
       "[ ()^G, (2,6)(3,5)^G, (1,2)(3,6)(4,5)^G, (1,2,3,4,5,6)^G, (1,3,5)(2,4,6)^G,   (1,4)(2,5)(3,6)^G ]"
      ]
     },
     "execution_count": 33,
     "metadata": {
      "text/plain": ""
     },
     "output_type": "execute_result"
    }
   ],
   "source": [
    "ConjugacyClasses(D);"
   ]
  },
  {
   "cell_type": "code",
   "execution_count": 35,
   "id": "3549d144",
   "metadata": {
    "vscode": {
     "languageId": "gap"
    }
   },
   "outputs": [
    {
     "name": "stdout",
     "output_type": "stream",
     "text": [
      "[ 1, 1, -1, -1, 1, -1 ]\n"
     ]
    }
   ],
   "source": [
    "chi := CharacterOfRep(rho);;\n",
    "Display(chi);"
   ]
  },
  {
   "cell_type": "code",
   "execution_count": 36,
   "id": "b5158198",
   "metadata": {
    "vscode": {
     "languageId": "gap"
    }
   },
   "outputs": [
    {
     "data": {
      "text/plain": [
       "[ 1, 1, -1, -1, 1, 1, -1, -1, 1, 1, -1, -1 ]"
      ]
     },
     "execution_count": 36,
     "metadata": {
      "text/plain": ""
     },
     "output_type": "execute_result"
    }
   ],
   "source": [
    "List(Elements(D), x -> Trace(rho(x)));"
   ]
  },
  {
   "cell_type": "markdown",
   "id": "705753d1",
   "metadata": {},
   "source": [
    "## Clasificación y tipo de las representaciones\n",
    "\n",
    "Para obtener los grados y verificar si son irreducibles:\n",
    "\n",
    "```GAP\n",
    "LoadPackage( \"RepnDecomp\" );\n",
    "List(irreps, rho -> DegreeOfRepresentation( rho ));\n",
    "```\n",
    "Para clasificar las representaciones según su tipo (real, compleja, cuaterniónica), usamos el indicador de Frobenius-Schur:\n",
    "```GAP\n",
    "List(reps, FrobeniusSchurIndicator);\n",
    "```\n",
    "\n",
    "- $+1$: representación real.\n",
    "- $0$: representación compleja.\n",
    "- $-1$: representación cuaterniónica.\n"
   ]
  },
  {
   "cell_type": "code",
   "execution_count": 37,
   "id": "92e6c7f7",
   "metadata": {
    "vscode": {
     "languageId": "gap"
    }
   },
   "outputs": [
    {
     "data": {
      "text/plain": [
       "true"
      ]
     },
     "execution_count": 37,
     "metadata": {
      "text/plain": ""
     },
     "output_type": "execute_result"
    }
   ],
   "source": [
    "LoadPackage( \"RepnDecomp\" );"
   ]
  },
  {
   "cell_type": "code",
   "execution_count": 39,
   "id": "9afdd023",
   "metadata": {
    "vscode": {
     "languageId": "gap"
    }
   },
   "outputs": [
    {
     "data": {
      "text/plain": [
       "[ 1, 1, 1, 1, 2, 2 ]"
      ]
     },
     "execution_count": 39,
     "metadata": {
      "text/plain": ""
     },
     "output_type": "execute_result"
    }
   ],
   "source": [
    "degrees:=List(irreps, tau -> DegreeOfRepresentation( tau ));;\n",
    "degrees;"
   ]
  },
  {
   "cell_type": "code",
   "execution_count": 40,
   "id": "8d5899fc",
   "metadata": {
    "vscode": {
     "languageId": "gap"
    }
   },
   "outputs": [
    {
     "data": {
      "text/plain": [
       "[ 1, 1, 1, 1, 2, 2 ]"
      ]
     },
     "execution_count": 40,
     "metadata": {
      "text/plain": ""
     },
     "output_type": "execute_result"
    }
   ],
   "source": [
    "List(reps, DegreeOfRepresentation);   # Muestra las dimensiones de cada rep"
   ]
  },
  {
   "cell_type": "code",
   "execution_count": 41,
   "id": "b68bc84c",
   "metadata": {
    "vscode": {
     "languageId": "gap"
    }
   },
   "outputs": [
    {
     "data": {
      "text/plain": [
       "1"
      ]
     },
     "execution_count": 41,
     "metadata": {
      "text/plain": ""
     },
     "output_type": "execute_result"
    }
   ],
   "source": [
    "DegreeOfRepresentation( rho );"
   ]
  },
  {
   "cell_type": "markdown",
   "id": "a5d5e5f8",
   "metadata": {},
   "source": [
    "Preguntar [Frobenius - Schur indicator and irreducible representations over R](https://mathoverflow.net/questions/20795/frobenius-schur-indicator-and-irreducible-representations-over-r)"
   ]
  },
  {
   "cell_type": "code",
   "execution_count": 42,
   "id": "d325cdba",
   "metadata": {
    "vscode": {
     "languageId": "gap"
    }
   },
   "outputs": [
    {
     "data": {
      "text/plain": [
       "function( rho ) ... end"
      ]
     },
     "execution_count": 42,
     "metadata": {
      "text/plain": ""
     },
     "output_type": "execute_result"
    }
   ],
   "source": [
    "FrobeniusSchurIndicator:=function(rho)\n",
    "    local G, indicator;\n",
    "    G:=Source(rho);\n",
    "    indicator := Sum(List(Elements(G), g -> Trace(Image(rho, g^2))))/ Order(G);\n",
    "    return indicator; \n",
    "end;"
   ]
  },
  {
   "cell_type": "code",
   "execution_count": 44,
   "id": "ee75a906",
   "metadata": {
    "vscode": {
     "languageId": "gap"
    }
   },
   "outputs": [
    {
     "data": {
      "text/plain": [
       "[ 1, 1, 1, 1, 1, 1 ]"
      ]
     },
     "execution_count": 44,
     "metadata": {
      "text/plain": ""
     },
     "output_type": "execute_result"
    }
   ],
   "source": [
    "indicators:=List(irreps, tau -> FrobeniusSchurIndicator( tau ));;\n",
    "indicators;"
   ]
  },
  {
   "cell_type": "code",
   "execution_count": 45,
   "id": "a107bc55",
   "metadata": {
    "vscode": {
     "languageId": "gap"
    }
   },
   "outputs": [
    {
     "data": {
      "text/plain": [
       "[ 1, 1, 1, 1, 1, 1 ]"
      ]
     },
     "execution_count": 45,
     "metadata": {
      "text/plain": ""
     },
     "output_type": "execute_result"
    }
   ],
   "source": [
    "List(irreps, FrobeniusSchurIndicator);"
   ]
  },
  {
   "cell_type": "markdown",
   "id": "bd57a513",
   "metadata": {},
   "source": [
    "## Algoritmo"
   ]
  },
  {
   "cell_type": "code",
   "execution_count": 46,
   "id": "ffb8e379",
   "metadata": {
    "vscode": {
     "languageId": "gap"
    }
   },
   "outputs": [
    {
     "data": {
      "text/plain": [
       "[ ()^G, (2,6)(3,5)^G, (1,2)(3,6)(4,5)^G, (1,2,3,4,5,6)^G, (1,3,5)(2,4,6)^G,   (1,4)(2,5)(3,6)^G ]"
      ]
     },
     "execution_count": 46,
     "metadata": {
      "text/plain": ""
     },
     "output_type": "execute_result"
    }
   ],
   "source": [
    "conjClasses := ConjugacyClasses(D);"
   ]
  },
  {
   "cell_type": "code",
   "execution_count": 50,
   "id": "ebf88358",
   "metadata": {
    "vscode": {
     "languageId": "gap"
    }
   },
   "outputs": [
    {
     "name": "stdout",
     "output_type": "stream",
     "text": [
      "\n",
      "Clases de conjugación y sus representantes:\n",
      "------------------------------------------\n",
      "\n",
      "Representante: ()\n",
      "Clase de conjugación: [ () ]\n",
      "Tamaño de la clase: 1\n",
      "Centralizador (Γ_()): [ (), (2,6)(3,5), (1,2)(3,6)(4,5), (1,2,3,4,5,6), \n",
      "  (1,3)(4,6), (1,3,5)(2,4,6), (1,4)(2,3)(5,6), (1,4)(2,5)(3,6), (1,5)(2,4), \n",
      "  (1,5,3)(2,6,4), (1,6,5,4,3,2), (1,6)(2,5)(3,4) ]\n",
      "Orden del centralizador: 12\n",
      "Verificación: 1 = 12/12\n",
      "--------------------------------------------------\n",
      "Representante: (2,6)(3,5)\n",
      "Clase de conjugación: [ (2,6)(3,5), (1,3)(4,6), (1,5)(2,4) ]\n",
      "Tamaño de la clase: 3\n",
      "Centralizador (Γ_(2,6)(3,5)): [ (), (2,6)(3,5), (1,4)(2,3)(5,6), \n",
      "  (1,4)(2,5)(3,6) ]\n",
      "Orden del centralizador: 4\n",
      "Verificación: 3 = 12/4\n",
      "--------------------------------------------------\n",
      "Representante: (1,2)(3,6)(4,5)\n",
      "Clase de conjugación: [ (1,2)(3,6)(4,5), (1,4)(2,3)(5,6), (1,6)(2,5)(3,4) ]\n",
      "Tamaño de la clase: 3\n",
      "Centralizador (Γ_(1,2)(3,6)(4,5)): [ (), (1,2)(3,6)(4,5), (1,4)(2,5)(3,6), \n",
      "  (1,5)(2,4) ]\n",
      "Orden del centralizador: 4\n",
      "Verificación: 3 = 12/4\n",
      "--------------------------------------------------\n",
      "Representante: (1,2,3,4,5,6)\n",
      "Clase de conjugación: [ (1,2,3,4,5,6), (1,6,5,4,3,2) ]\n",
      "Tamaño de la clase: 2\n",
      "Centralizador (Γ_(1,2,3,4,5,6)): [ (), (1,2,3,4,5,6), (1,3,5)(2,4,6), \n",
      "  (1,4)(2,5)(3,6), (1,5,3)(2,6,4), (1,6,5,4,3,2) ]\n",
      "Orden del centralizador: 6\n",
      "Verificación: 2 = 12/6\n",
      "--------------------------------------------------\n",
      "Representante: (1,3,5)(2,4,6)\n",
      "Clase de conjugación: [ (1,3,5)(2,4,6), (1,5,3)(2,6,4) ]\n",
      "Tamaño de la clase: 2\n",
      "Centralizador (Γ_(1,3,5)(2,4,6)): [ (), (1,2,3,4,5,6), (1,3,5)(2,4,6), \n",
      "  (1,4)(2,5)(3,6), (1,5,3)(2,6,4), (1,6,5,4,3,2) ]\n",
      "Orden del centralizador: 6\n",
      "Verificación: 2 = 12/6\n",
      "--------------------------------------------------\n",
      "Representante: (1,4)(2,5)(3,6)\n",
      "Clase de conjugación: [ (1,4)(2,5)(3,6) ]\n",
      "Tamaño de la clase: 1\n",
      "Centralizador (Γ_(1,4)(2,5)(3,6)): [ (), (2,6)(3,5), (1,2)(3,6)(4,5), \n",
      "  (1,2,3,4,5,6), (1,3)(4,6), (1,3,5)(2,4,6), (1,4)(2,3)(5,6), (1,4)(2,5)(3,6),\n",
      "  (1,5)(2,4), (1,5,3)(2,6,4), (1,6,5,4,3,2), (1,6)(2,5)(3,4) ]\n",
      "Orden del centralizador: 12\n",
      "Verificación: 1 = 12/12\n",
      "--------------------------------------------------\n"
     ]
    }
   ],
   "source": [
    "Print(\"\\nClases de conjugación y sus representantes:\\n\");\n",
    "Print(\"------------------------------------------\\n\\n\");\n",
    "centralizers:= [];;\n",
    "for C in conjClasses do\n",
    "    rep := Representative(C);\n",
    "    size := Size(C);\n",
    "    centralizer := Centralizer(D, rep);\n",
    "    Print(\"Representante: \", rep, \"\\n\");\n",
    "    Print(\"Clase de conjugación: \", Elements(C), \"\\n\");\n",
    "    Print(\"Tamaño de la clase: \", size, \"\\n\");\n",
    "    Print(\"Centralizador (Γ_\", rep, \"): \", Elements(centralizer), \"\\n\");\n",
    "    Print(\"Orden del centralizador: \", Size(centralizer), \"\\n\");\n",
    "    #Print(\"Representaciones irreducibles de (Γ_\", rep, \"): \");\n",
    "    #IrreducibleRepresentations(centralizer);\n",
    "    Add(centralizers, rec(centralizer:=centralizer, rep:=rep));\n",
    "    # Verificación de la fórmula |clase| = |G| / |centralizador|\n",
    "    ratio := Size(D) / Size(centralizer);\n",
    "    if ratio = size then\n",
    "        Print(\"Verificación: \", size, \" = \", Size(D), \"/\", Size(centralizer), \"\\n\");\n",
    "    else\n",
    "        Print(\"¡Error en la verificación!\\n\");\n",
    "    fi;\n",
    "    Print(\"--------------------------------------------------\\n\");\n",
    "od;"
   ]
  },
  {
   "cell_type": "code",
   "execution_count": 51,
   "id": "3eba88ea",
   "metadata": {
    "vscode": {
     "languageId": "gap"
    }
   },
   "outputs": [
    {
     "name": "stdout",
     "output_type": "stream",
     "text": [
      "[ rec(\n",
      "      centralizer := Group( [ (1,2,3,4,5,6), (1,6)(2,5)(3,4) ] ),\n",
      "      rep := () ), rec(\n",
      "      centralizer := Group( [ (2,6)(3,5), (1,4)(2,3)(5,6) ] ),\n",
      "      rep := (2,6)(3,5) ), rec(\n",
      "      centralizer := Group( [ (1,2)(3,6)(4,5), (1,5)(2,4) ] ),\n",
      "      rep := (1,2)(3,6)(4,5) ), rec(\n",
      "      centralizer := Group( [ (1,2,3,4,5,6), (1,3,5)(2,4,6) ] ),\n",
      "      rep := (1,2,3,4,5,6) ), rec(\n",
      "      centralizer := Group( [ (1,3,5)(2,4,6), (1,2,3,4,5,6) ] ),\n",
      "      rep := (1,3,5)(2,4,6) ), rec(\n",
      "      centralizer := Group( [ (1,2,3,4,5,6), (1,6)(2,5)(3,4) ] ),\n",
      "      rep := (1,4)(2,5)(3,6) ) ]\n"
     ]
    }
   ],
   "source": [
    "Display(centralizers);"
   ]
  },
  {
   "cell_type": "code",
   "execution_count": 52,
   "id": "4407f069",
   "metadata": {
    "vscode": {
     "languageId": "gap"
    }
   },
   "outputs": [
    {
     "name": "stdout",
     "output_type": "stream",
     "text": [
      "Centralizador Γ_() ≌ D12\n",
      "Centralizador Γ_(2,6)(3,5) ≌ C2 x C2\n",
      "Centralizador Γ_(1,2)(3,6)(4,5) ≌ C2 x C2\n",
      "Centralizador Γ_(1,2,3,4,5,6) ≌ C6\n",
      "Centralizador Γ_(1,3,5)(2,4,6) ≌ C6\n",
      "Centralizador Γ_(1,4)(2,5)(3,6) ≌ D12\n"
     ]
    }
   ],
   "source": [
    "for i in centralizers do\n",
    "    Print(\"Centralizador Γ_\", i.rep, \" ≌ \", StructureDescription(i.centralizer), \"\\n\");\n",
    "od;"
   ]
  },
  {
   "cell_type": "code",
   "execution_count": 54,
   "id": "fe08d3a9",
   "metadata": {
    "vscode": {
     "languageId": "gap"
    }
   },
   "outputs": [
    {
     "name": "stdout",
     "output_type": "stream",
     "text": [
      "Total de Representationes Irreducibles: 32\n"
     ]
    }
   ],
   "source": [
    "tot := Sum(List( centralizers, x -> Length(IrreducibleRepresentations(x.centralizer)) ));;\n",
    "Print(\"Total de Representationes Irreducibles: \", tot, \"\\n\");"
   ]
  },
  {
   "cell_type": "code",
   "execution_count": 55,
   "id": "2b94c5c4",
   "metadata": {
    "vscode": {
     "languageId": "gap"
    }
   },
   "outputs": [
    {
     "data": {
      "text/plain": [
       "true"
      ]
     },
     "execution_count": 55,
     "metadata": {
      "text/plain": ""
     },
     "output_type": "execute_result"
    }
   ],
   "source": [
    "LoadPackage( \"repsn\" );"
   ]
  },
  {
   "cell_type": "code",
   "execution_count": 57,
   "id": "f014ffc0",
   "metadata": {
    "vscode": {
     "languageId": "gap"
    }
   },
   "outputs": [
    {
     "name": "stdout",
     "output_type": "stream",
     "text": [
      "\n",
      "Centralizador Γ_(): D12\n",
      "Elementos de Γ_(): [ (), (2,6)(3,5), (1,2)(3,6)(4,5), (1,2,3,4,5,6), \n",
      "  (1,3)(4,6), (1,3,5)(2,4,6), (1,4)(2,3)(5,6), (1,4)(2,5)(3,6), (1,5)(2,4), \n",
      "  (1,5,3)(2,6,4), (1,6,5,4,3,2), (1,6)(2,5)(3,4) ]\n",
      "-----------------------------------------------------------\n",
      "\n",
      "Centralizador Γ_(2,6)(3,5): C2 x C2\n",
      "Elementos de Γ_(2,6)(3,5): [ (), (2,6)(3,5), (1,4)(2,3)(5,6), \n",
      "  (1,4)(2,5)(3,6) ]\n",
      "-----------------------------------------------------------\n",
      "\n",
      "Centralizador Γ_(1,2)(3,6)(4,5): C2 x C2\n",
      "Elementos de Γ_(1,2)(3,6)(4,5): [ (), (1,2)(3,6)(4,5), (1,4)(2,5)(3,6), \n",
      "  (1,5)(2,4) ]\n",
      "-----------------------------------------------------------\n",
      "\n",
      "Centralizador Γ_(1,2,3,4,5,6): C6\n",
      "Elementos de Γ_(1,2,3,4,5,6): [ (), (1,2,3,4,5,6), (1,3,5)(2,4,6), \n",
      "  (1,4)(2,5)(3,6), (1,5,3)(2,6,4), (1,6,5,4,3,2) ]\n",
      "-----------------------------------------------------------\n",
      "\n",
      "Centralizador Γ_(1,3,5)(2,4,6): C6\n",
      "Elementos de Γ_(1,3,5)(2,4,6): [ (), (1,2,3,4,5,6), (1,3,5)(2,4,6), \n",
      "  (1,4)(2,5)(3,6), (1,5,3)(2,6,4), (1,6,5,4,3,2) ]\n",
      "-----------------------------------------------------------\n",
      "\n",
      "Centralizador Γ_(1,4)(2,5)(3,6): D12\n",
      "Elementos de Γ_(1,4)(2,5)(3,6): [ (), (2,6)(3,5), (1,2)(3,6)(4,5), \n",
      "  (1,2,3,4,5,6), (1,3)(4,6), (1,3,5)(2,4,6), (1,4)(2,3)(5,6), (1,4)(2,5)(3,6),\n",
      "  (1,5)(2,4), (1,5,3)(2,6,4), (1,6,5,4,3,2), (1,6)(2,5)(3,4) ]\n",
      "-----------------------------------------------------------\n"
     ]
    }
   ],
   "source": [
    "simples:= [];;\n",
    "for c in centralizers do\n",
    "    rep := c.rep;\n",
    "    Gamma_g := c.centralizer;\n",
    "    st:=StructureDescription(Gamma_g);\n",
    "    Print(\"\\nCentralizador Γ_\", rep, \": \", st, \"\\n\");\n",
    "    Print(\"Elementos de Γ_\", rep, \": \", Elements(Gamma_g), \"\\n\");\n",
    "    Print(\"-----------------------------------------------------------\", \"\\n\");\n",
    "    irrepsGamma_g := Irr( Gamma_g );\n",
    "    #Print(Length(irrepsGamma_g), \"\\n\");\n",
    "    reps:=[];\n",
    "    for i in [1.. Length(irrepsGamma_g)] do\n",
    "        chi := irrepsGamma_g[ i ];;\n",
    "        #Print(chi, \"\\n\");\n",
    "        rho := IrreducibleAffordingRepresentation( chi );;\n",
    "        M_g_rho:=InducedSubgroupRepresentation( D, rho );;\n",
    "        # Print(M_g_rho, \"\\n\");\n",
    "        # Print(\"****************************************************************\", \"\\n\");\n",
    "        Add(reps, M_g_rho);\n",
    "    od;\n",
    "    Add(simples, rec(reps:=reps, rep:=rep, struc_descr:=st));\n",
    "od;"
   ]
  },
  {
   "cell_type": "code",
   "execution_count": 58,
   "id": "bb8695be",
   "metadata": {
    "vscode": {
     "languageId": "gap"
    }
   },
   "outputs": [
    {
     "name": "stdout",
     "output_type": "stream",
     "text": [
      "[ rec(\n",
      "      rep := (),\n",
      "      reps := \n",
      "       [ GroupHomomorphismByImages( Group( [ (1,2,3,4,5,6), (1,6)(2,5)(3,4) \n",
      "             ] ), Group([ [ [ 1 ] ], [ [ 1 ] ] ]), \n",
      "            [ (1,2,3,4,5,6), (1,6)(2,5)(3,4) ], [ [ [ 1 ] ], [ [ 1 ] ] ] ), \n",
      "          GroupHomomorphismByImages( Group( [ (1,2,3,4,5,6), (1,6)(2,5)(3,4) \n",
      "             ] ), Group([ [ [ 1 ] ], [ [ -1 ] ] ]), \n",
      "            [ (1,2,3,4,5,6), (1,6)(2,5)(3,4) ], [ [ [ 1 ] ], [ [ -1 ] ] ] ), \n",
      "          GroupHomomorphismByImages( Group( [ (1,2,3,4,5,6), (1,6)(2,5)(3,4) \n",
      "             ] ), Group([ [ [ -1 ] ], [ [ 1 ] ] ]), \n",
      "            [ (1,2,3,4,5,6), (1,6)(2,5)(3,4) ], [ [ [ -1 ] ], [ [ 1 ] ] ] ), \n",
      "          GroupHomomorphismByImages( Group( [ (1,2,3,4,5,6), (1,6)(2,5)(3,4) \n",
      "             ] ), Group([ [ [ -1 ] ], [ [ -1 ] ] ]), \n",
      "            [ (1,2,3,4,5,6), (1,6)(2,5)(3,4) ], [ [ [ -1 ] ], [ [ -1 ] ] ] ), \n",
      "          GroupHomomorphismByImages( Group( [ (1,2,3,4,5,6), (1,6)(2,5)(3,4) \n",
      "             ] ), Group([ [ [ -E(3), 0 ], [ 0, -E(3)^2 ] ], \n",
      "              [ [ 0, -E(3) ], [ -E(3)^2, 0 ] ] ]), \n",
      "            [ (1,2,3,4,5,6), (1,6)(2,5)(3,4) ], \n",
      "            [ [ [ -E(3), 0 ], [ 0, -E(3)^2 ] ], \n",
      "              [ [ 0, -E(3) ], [ -E(3)^2, 0 ] ] ] ), \n",
      "          GroupHomomorphismByImages( Group( [ (1,2,3,4,5,6), (1,6)(2,5)(3,4) \n",
      "             ] ), Group([ [ [ E(3), 0 ], [ 0, E(3)^2 ] ], \n",
      "              [ [ 0, E(3) ], [ E(3)^2, 0 ] ] ]), \n",
      "            [ (1,2,3,4,5,6), (1,6)(2,5)(3,4) ], \n",
      "            [ [ [ E(3), 0 ], [ 0, E(3)^2 ] ], [ [ 0, E(3) ], [ E(3)^2, 0 ] ] \n",
      "             ] ) ],\n",
      "      struc_descr := \"D12\" ), rec(\n",
      "      rep := (2,6)(3,5),\n",
      "      reps := \n",
      "       [ GroupHomomorphismByImages( Group( [ (1,2,3,4,5,6), (1,6)(2,5)(3,4) \n",
      "             ] ), Group([ [ [ 0, 1, 0 ], [ 0, 0, 1 ], [ 1, 0, 0 ] ], \n",
      "              [ [ 0, 0, 1 ], [ 0, 1, 0 ], [ 1, 0, 0 ] ] ]), \n",
      "            [ (1,2,3,4,5,6), (1,6)(2,5)(3,4) ], \n",
      "            [ [ [ 0, 1, 0 ], [ 0, 0, 1 ], [ 1, 0, 0 ] ], \n",
      "              [ [ 0, 0, 1 ], [ 0, 1, 0 ], [ 1, 0, 0 ] ] ] ), \n",
      "          GroupHomomorphismByImages( Group( [ (1,2,3,4,5,6), (1,6)(2,5)(3,4) \n",
      "             ] ), Group([ [ [ 0, -1, 0 ], [ 0, 0, -1 ], [ -1, 0, 0 ] ], \n",
      "              [ [ 0, 0, -1 ], [ 0, -1, 0 ], [ -1, 0, 0 ] ] ]), \n",
      "            [ (1,2,3,4,5,6), (1,6)(2,5)(3,4) ], \n",
      "            [ [ [ 0, -1, 0 ], [ 0, 0, -1 ], [ -1, 0, 0 ] ], \n",
      "              [ [ 0, 0, -1 ], [ 0, -1, 0 ], [ -1, 0, 0 ] ] ] ), \n",
      "          GroupHomomorphismByImages( Group( [ (1,2,3,4,5,6), (1,6)(2,5)(3,4) \n",
      "             ] ), Group([ [ [ 0, -1, 0 ], [ 0, 0, -1 ], [ -1, 0, 0 ] ], \n",
      "              [ [ 0, 0, 1 ], [ 0, 1, 0 ], [ 1, 0, 0 ] ] ]), \n",
      "            [ (1,2,3,4,5,6), (1,6)(2,5)(3,4) ], \n",
      "            [ [ [ 0, -1, 0 ], [ 0, 0, -1 ], [ -1, 0, 0 ] ], \n",
      "              [ [ 0, 0, 1 ], [ 0, 1, 0 ], [ 1, 0, 0 ] ] ] ), \n",
      "          GroupHomomorphismByImages( Group( [ (1,2,3,4,5,6), (1,6)(2,5)(3,4) \n",
      "             ] ), Group([ [ [ 0, 1, 0 ], [ 0, 0, 1 ], [ 1, 0, 0 ] ], \n",
      "              [ [ 0, 0, -1 ], [ 0, -1, 0 ], [ -1, 0, 0 ] ] ]), \n",
      "            [ (1,2,3,4,5,6), (1,6)(2,5)(3,4) ], \n",
      "            [ [ [ 0, 1, 0 ], [ 0, 0, 1 ], [ 1, 0, 0 ] ], \n",
      "              [ [ 0, 0, -1 ], [ 0, -1, 0 ], [ -1, 0, 0 ] ] ] ) ],\n",
      "      struc_descr := \"C2 x C2\" ), rec(\n",
      "      rep := (1,2)(3,6)(4,5),\n",
      "      reps := \n",
      "       [ GroupHomomorphismByImages( Group( [ (1,2,3,4,5,6), (1,6)(2,5)(3,4) \n",
      "             ] ), Group([ [ [ 0, 1, 0 ], [ 0, 0, 1 ], [ 1, 0, 0 ] ], \n",
      "              [ [ 0, 1, 0 ], [ 1, 0, 0 ], [ 0, 0, 1 ] ] ]), \n",
      "            [ (1,2,3,4,5,6), (1,6)(2,5)(3,4) ], \n",
      "            [ [ [ 0, 1, 0 ], [ 0, 0, 1 ], [ 1, 0, 0 ] ], \n",
      "              [ [ 0, 1, 0 ], [ 1, 0, 0 ], [ 0, 0, 1 ] ] ] ), \n",
      "          GroupHomomorphismByImages( Group( [ (1,2,3,4,5,6), (1,6)(2,5)(3,4) \n",
      "             ] ), Group([ [ [ 0, -1, 0 ], [ 0, 0, -1 ], [ -1, 0, 0 ] ], \n",
      "              [ [ 0, 1, 0 ], [ 1, 0, 0 ], [ 0, 0, 1 ] ] ]), \n",
      "            [ (1,2,3,4,5,6), (1,6)(2,5)(3,4) ], \n",
      "            [ [ [ 0, -1, 0 ], [ 0, 0, -1 ], [ -1, 0, 0 ] ], \n",
      "              [ [ 0, 1, 0 ], [ 1, 0, 0 ], [ 0, 0, 1 ] ] ] ), \n",
      "          GroupHomomorphismByImages( Group( [ (1,2,3,4,5,6), (1,6)(2,5)(3,4) \n",
      "             ] ), Group([ [ [ 0, -1, 0 ], [ 0, 0, -1 ], [ -1, 0, 0 ] ], \n",
      "              [ [ 0, -1, 0 ], [ -1, 0, 0 ], [ 0, 0, -1 ] ] ]), \n",
      "            [ (1,2,3,4,5,6), (1,6)(2,5)(3,4) ], \n",
      "            [ [ [ 0, -1, 0 ], [ 0, 0, -1 ], [ -1, 0, 0 ] ], \n",
      "              [ [ 0, -1, 0 ], [ -1, 0, 0 ], [ 0, 0, -1 ] ] ] ), \n",
      "          GroupHomomorphismByImages( Group( [ (1,2,3,4,5,6), (1,6)(2,5)(3,4) \n",
      "             ] ), Group([ [ [ 0, 1, 0 ], [ 0, 0, 1 ], [ 1, 0, 0 ] ], \n",
      "              [ [ 0, -1, 0 ], [ -1, 0, 0 ], [ 0, 0, -1 ] ] ]), \n",
      "            [ (1,2,3,4,5,6), (1,6)(2,5)(3,4) ], \n",
      "            [ [ [ 0, 1, 0 ], [ 0, 0, 1 ], [ 1, 0, 0 ] ], \n",
      "              [ [ 0, -1, 0 ], [ -1, 0, 0 ], [ 0, 0, -1 ] ] ] ) ],\n",
      "      struc_descr := \"C2 x C2\" ), rec(\n",
      "      rep := (1,2,3,4,5,6),\n",
      "      reps := \n",
      "       [ GroupHomomorphismByImages( Group( [ (1,2,3,4,5,6), (1,6)(2,5)(3,4) \n",
      "             ] ), Group([ [ [ 1, 0 ], [ 0, 1 ] ], [ [ 0, 1 ], [ 1, 0 ] ] ]), \n",
      "            [ (1,2,3,4,5,6), (1,6)(2,5)(3,4) ], \n",
      "            [ [ [ 1, 0 ], [ 0, 1 ] ], [ [ 0, 1 ], [ 1, 0 ] ] ] ), \n",
      "          GroupHomomorphismByImages( Group( [ (1,2,3,4,5,6), (1,6)(2,5)(3,4) \n",
      "             ] ), Group([ [ [ -1, 0 ], [ 0, -1 ] ], [ [ 0, -1 ], [ -1, 0 ] ] \n",
      "             ]), [ (1,2,3,4,5,6), (1,6)(2,5)(3,4) ], \n",
      "            [ [ [ -1, 0 ], [ 0, -1 ] ], [ [ 0, -1 ], [ -1, 0 ] ] ] ), \n",
      "          GroupHomomorphismByImages( Group( [ (1,2,3,4,5,6), (1,6)(2,5)(3,4) \n",
      "             ] ), Group([ [ [ E(3)^2, 0 ], [ 0, E(3) ] ], \n",
      "              [ [ 0, E(3)^2 ], [ E(3), 0 ] ] ]), \n",
      "            [ (1,2,3,4,5,6), (1,6)(2,5)(3,4) ], \n",
      "            [ [ [ E(3)^2, 0 ], [ 0, E(3) ] ], [ [ 0, E(3)^2 ], [ E(3), 0 ] ] \n",
      "             ] ), GroupHomomorphismByImages( Group( \n",
      "            [ (1,2,3,4,5,6), (1,6)(2,5)(3,4) ] ), Group(\n",
      "            [ [ [ -E(3)^2, 0 ], [ 0, -E(3) ] ], \n",
      "              [ [ 0, -E(3)^2 ], [ -E(3), 0 ] ] ]), \n",
      "            [ (1,2,3,4,5,6), (1,6)(2,5)(3,4) ], \n",
      "            [ [ [ -E(3)^2, 0 ], [ 0, -E(3) ] ], \n",
      "              [ [ 0, -E(3)^2 ], [ -E(3), 0 ] ] ] ), \n",
      "          GroupHomomorphismByImages( Group( [ (1,2,3,4,5,6), (1,6)(2,5)(3,4) \n",
      "             ] ), Group([ [ [ E(3), 0 ], [ 0, E(3)^2 ] ], \n",
      "              [ [ 0, E(3) ], [ E(3)^2, 0 ] ] ]), \n",
      "            [ (1,2,3,4,5,6), (1,6)(2,5)(3,4) ], \n",
      "            [ [ [ E(3), 0 ], [ 0, E(3)^2 ] ], [ [ 0, E(3) ], [ E(3)^2, 0 ] ] \n",
      "             ] ), GroupHomomorphismByImages( Group( \n",
      "            [ (1,2,3,4,5,6), (1,6)(2,5)(3,4) ] ), Group(\n",
      "            [ [ [ -E(3), 0 ], [ 0, -E(3)^2 ] ], \n",
      "              [ [ 0, -E(3) ], [ -E(3)^2, 0 ] ] ]), \n",
      "            [ (1,2,3,4,5,6), (1,6)(2,5)(3,4) ], \n",
      "            [ [ [ -E(3), 0 ], [ 0, -E(3)^2 ] ], \n",
      "              [ [ 0, -E(3) ], [ -E(3)^2, 0 ] ] ] ) ],\n",
      "      struc_descr := \"C6\" ), rec(\n",
      "      rep := (1,3,5)(2,4,6),\n",
      "      reps := \n",
      "       [ GroupHomomorphismByImages( Group( [ (1,2,3,4,5,6), (1,6)(2,5)(3,4) \n",
      "             ] ), Group([ [ [ 1, 0 ], [ 0, 1 ] ], [ [ 0, 1 ], [ 1, 0 ] ] ]), \n",
      "            [ (1,2,3,4,5,6), (1,6)(2,5)(3,4) ], \n",
      "            [ [ [ 1, 0 ], [ 0, 1 ] ], [ [ 0, 1 ], [ 1, 0 ] ] ] ), \n",
      "          GroupHomomorphismByImages( Group( [ (1,2,3,4,5,6), (1,6)(2,5)(3,4) \n",
      "             ] ), Group([ [ [ -1, 0 ], [ 0, -1 ] ], [ [ 0, -1 ], [ -1, 0 ] ] \n",
      "             ]), [ (1,2,3,4,5,6), (1,6)(2,5)(3,4) ], \n",
      "            [ [ [ -1, 0 ], [ 0, -1 ] ], [ [ 0, -1 ], [ -1, 0 ] ] ] ), \n",
      "          GroupHomomorphismByImages( Group( [ (1,2,3,4,5,6), (1,6)(2,5)(3,4) \n",
      "             ] ), Group([ [ [ E(3)^2, 0 ], [ 0, E(3) ] ], \n",
      "              [ [ 0, E(3)^2 ], [ E(3), 0 ] ] ]), \n",
      "            [ (1,2,3,4,5,6), (1,6)(2,5)(3,4) ], \n",
      "            [ [ [ E(3)^2, 0 ], [ 0, E(3) ] ], [ [ 0, E(3)^2 ], [ E(3), 0 ] ] \n",
      "             ] ), GroupHomomorphismByImages( Group( \n",
      "            [ (1,2,3,4,5,6), (1,6)(2,5)(3,4) ] ), Group(\n",
      "            [ [ [ -E(3)^2, 0 ], [ 0, -E(3) ] ], \n",
      "              [ [ 0, -E(3)^2 ], [ -E(3), 0 ] ] ]), \n",
      "            [ (1,2,3,4,5,6), (1,6)(2,5)(3,4) ], \n",
      "            [ [ [ -E(3)^2, 0 ], [ 0, -E(3) ] ], \n",
      "              [ [ 0, -E(3)^2 ], [ -E(3), 0 ] ] ] ), \n",
      "          GroupHomomorphismByImages( Group( [ (1,2,3,4,5,6), (1,6)(2,5)(3,4) \n",
      "             ] ), Group([ [ [ E(3), 0 ], [ 0, E(3)^2 ] ], \n",
      "              [ [ 0, E(3) ], [ E(3)^2, 0 ] ] ]), \n",
      "            [ (1,2,3,4,5,6), (1,6)(2,5)(3,4) ], \n",
      "            [ [ [ E(3), 0 ], [ 0, E(3)^2 ] ], [ [ 0, E(3) ], [ E(3)^2, 0 ] ] \n",
      "             ] ), GroupHomomorphismByImages( Group( \n",
      "            [ (1,2,3,4,5,6), (1,6)(2,5)(3,4) ] ), Group(\n",
      "            [ [ [ -E(3), 0 ], [ 0, -E(3)^2 ] ], \n",
      "              [ [ 0, -E(3) ], [ -E(3)^2, 0 ] ] ]), \n",
      "            [ (1,2,3,4,5,6), (1,6)(2,5)(3,4) ], \n",
      "            [ [ [ -E(3), 0 ], [ 0, -E(3)^2 ] ], \n",
      "              [ [ 0, -E(3) ], [ -E(3)^2, 0 ] ] ] ) ],\n",
      "      struc_descr := \"C6\" ), rec(\n",
      "      rep := (1,4)(2,5)(3,6),\n",
      "      reps := \n",
      "       [ GroupHomomorphismByImages( Group( [ (1,2,3,4,5,6), (1,6)(2,5)(3,4) \n",
      "             ] ), Group([ [ [ 1 ] ], [ [ 1 ] ] ]), \n",
      "            [ (1,2,3,4,5,6), (1,6)(2,5)(3,4) ], [ [ [ 1 ] ], [ [ 1 ] ] ] ), \n",
      "          GroupHomomorphismByImages( Group( [ (1,2,3,4,5,6), (1,6)(2,5)(3,4) \n",
      "             ] ), Group([ [ [ 1 ] ], [ [ -1 ] ] ]), \n",
      "            [ (1,2,3,4,5,6), (1,6)(2,5)(3,4) ], [ [ [ 1 ] ], [ [ -1 ] ] ] ), \n",
      "          GroupHomomorphismByImages( Group( [ (1,2,3,4,5,6), (1,6)(2,5)(3,4) \n",
      "             ] ), Group([ [ [ -1 ] ], [ [ 1 ] ] ]), \n",
      "            [ (1,2,3,4,5,6), (1,6)(2,5)(3,4) ], [ [ [ -1 ] ], [ [ 1 ] ] ] ), \n",
      "          GroupHomomorphismByImages( Group( [ (1,2,3,4,5,6), (1,6)(2,5)(3,4) \n",
      "             ] ), Group([ [ [ -1 ] ], [ [ -1 ] ] ]), \n",
      "            [ (1,2,3,4,5,6), (1,6)(2,5)(3,4) ], [ [ [ -1 ] ], [ [ -1 ] ] ] ), \n",
      "          GroupHomomorphismByImages( Group( [ (1,2,3,4,5,6), (1,6)(2,5)(3,4) \n",
      "             ] ), Group([ [ [ -E(3), 0 ], [ 0, -E(3)^2 ] ], \n",
      "              [ [ 0, -E(3) ], [ -E(3)^2, 0 ] ] ]), \n",
      "            [ (1,2,3,4,5,6), (1,6)(2,5)(3,4) ], \n",
      "            [ [ [ -E(3), 0 ], [ 0, -E(3)^2 ] ], \n",
      "              [ [ 0, -E(3) ], [ -E(3)^2, 0 ] ] ] ), \n",
      "          GroupHomomorphismByImages( Group( [ (1,2,3,4,5,6), (1,6)(2,5)(3,4) \n",
      "             ] ), Group([ [ [ E(3), 0 ], [ 0, E(3)^2 ] ], \n",
      "              [ [ 0, E(3) ], [ E(3)^2, 0 ] ] ]), \n",
      "            [ (1,2,3,4,5,6), (1,6)(2,5)(3,4) ], \n",
      "            [ [ [ E(3), 0 ], [ 0, E(3)^2 ] ], [ [ 0, E(3) ], [ E(3)^2, 0 ] ] \n",
      "             ] ) ],\n",
      "      struc_descr := \"D12\" ) ]\n"
     ]
    }
   ],
   "source": [
    "Display(simples);"
   ]
  },
  {
   "cell_type": "code",
   "execution_count": 59,
   "id": "c20ac823",
   "metadata": {
    "vscode": {
     "languageId": "gap"
    }
   },
   "outputs": [
    {
     "data": {
      "text/plain": [
       "rec( rep := (1,3,5)(2,4,6), reps := [ [ (1,2,3,4,5,6), (1,6)(2,5)(3,4) ] -> [ [ [ 1, 0 ], [ 0, 1 ] ], [ [ 0, 1 ], [ 1, 0 ] ] ], [ (1,2,3,4,5,6), (1,6)(2,5)(3,4) ] -> [ [ [ -1, 0 ], [ 0, -1 ] ], [ [ 0, -1 ], [ -1, 0 ] ] ], [ (1,2,3,4,5,6), (1,6)(2,5)(3,4) ] -> [ [ [ E(3)^2, 0 ], [ 0, E(3) ] ], [ [ 0, E(3)^2 ], [ E(3), 0 ] ] ], [ (1,2,3,4,5,6), (1,6)(2,5)(3,4) ] -> [ [ [ -E(3)^2, 0 ], [ 0, -E(3) ] ], [ [ 0, -E(3)^2 ], [ -E(3), 0 ] ] ], [ (1,2,3,4,5,6), (1,6)(2,5)(3,4) ] -> [ [ [ E(3), 0 ], [ 0, E(3)^2 ] ], [ [ 0, E(3) ], [ E(3)^2, 0 ] ] ], [ (1,2,3,4,5,6), (1,6)(2,5)(3,4) ] -> [ [ [ -E(3), 0 ], [ 0, -E(3)^2 ] ], [ [ 0, -E(3) ], [ -E(3)^2, 0 ] ] ] ], struc_descr := \"C6\" )"
      ]
     },
     "execution_count": 59,
     "metadata": {},
     "output_type": "execute_result"
    }
   ],
   "source": [
    "simples[5];"
   ]
  },
  {
   "cell_type": "code",
   "execution_count": 60,
   "id": "e73b02ec",
   "metadata": {
    "vscode": {
     "languageId": "gap"
    }
   },
   "outputs": [
    {
     "data": {
      "text/plain": [
       "(2,6)(3,5)"
      ]
     },
     "execution_count": 60,
     "metadata": {
      "text/plain": ""
     },
     "output_type": "execute_result"
    }
   ],
   "source": [
    "simples[2].rep;"
   ]
  },
  {
   "cell_type": "code",
   "execution_count": 61,
   "id": "4dfb5e03",
   "metadata": {
    "vscode": {
     "languageId": "gap"
    }
   },
   "outputs": [
    {
     "data": {
      "text/plain": [
       "[ [ (1,2,3,4,5,6), (1,6)(2,5)(3,4) ] ->     [ [ [ 0, 1, 0 ], [ 0, 0, 1 ], [ 1, 0, 0 ] ],       [ [ 0, 0, 1 ], [ 0, 1, 0 ], [ 1, 0, 0 ] ] ],   [ (1,2,3,4,5,6), (1,6)(2,5)(3,4) ] ->     [ [ [ 0, -1, 0 ], [ 0, 0, -1 ], [ -1, 0, 0 ] ],       [ [ 0, 0, -1 ], [ 0, -1, 0 ], [ -1, 0, 0 ] ] ],   [ (1,2,3,4,5,6), (1,6)(2,5)(3,4) ] ->     [ [ [ 0, -1, 0 ], [ 0, 0, -1 ], [ -1, 0, 0 ] ],       [ [ 0, 0, 1 ], [ 0, 1, 0 ], [ 1, 0, 0 ] ] ],   [ (1,2,3,4,5,6), (1,6)(2,5)(3,4) ] ->     [ [ [ 0, 1, 0 ], [ 0, 0, 1 ], [ 1, 0, 0 ] ],       [ [ 0, 0, -1 ], [ 0, -1, 0 ], [ -1, 0, 0 ] ] ] ]"
      ]
     },
     "execution_count": 61,
     "metadata": {
      "text/plain": ""
     },
     "output_type": "execute_result"
    }
   ],
   "source": [
    "simples[2].reps;"
   ]
  },
  {
   "cell_type": "markdown",
   "id": "0559fad3",
   "metadata": {},
   "source": []
  },
  {
   "cell_type": "code",
   "execution_count": 62,
   "id": "f5f13a0d",
   "metadata": {
    "vscode": {
     "languageId": "gap"
    }
   },
   "outputs": [
    {
     "data": {
      "text/plain": [
       "\"C2 x C2\""
      ]
     },
     "execution_count": 62,
     "metadata": {
      "text/plain": ""
     },
     "output_type": "execute_result"
    }
   ],
   "source": [
    "simples[2].struc_descr;"
   ]
  },
  {
   "cell_type": "code",
   "execution_count": 64,
   "id": "55e37620",
   "metadata": {
    "vscode": {
     "languageId": "gap"
    }
   },
   "outputs": [
    {
     "name": "stdout",
     "output_type": "stream",
     "text": [
      "Total de Representationes Irreducibles: 32\n"
     ]
    }
   ],
   "source": [
    "tot := Sum(List( centralizers, g -> Length(IrreducibleRepresentations(g.centralizer)) ));;\n",
    "Print(\"Total de Representationes Irreducibles: \", tot, \"\\n\");"
   ]
  },
  {
   "cell_type": "code",
   "execution_count": 66,
   "id": "c7fe7b06",
   "metadata": {
    "vscode": {
     "languageId": "gap"
    }
   },
   "outputs": [
    {
     "data": {
      "text/plain": [
       "[ (), (2,6)(3,5), (1,2)(3,6)(4,5), (1,2,3,4,5,6), (1,3,5)(2,4,6),   (1,4)(2,5)(3,6) ]"
      ]
     },
     "execution_count": 66,
     "metadata": {
      "text/plain": ""
     },
     "output_type": "execute_result"
    }
   ],
   "source": [
    "repres := List( simples, x -> x.rep );;\n",
    "repres;"
   ]
  },
  {
   "cell_type": "code",
   "execution_count": 68,
   "id": "afa6a2ff",
   "metadata": {
    "vscode": {
     "languageId": "gap"
    }
   },
   "outputs": [
    {
     "data": {
      "text/plain": [
       "[ ()^G, (2,6)(3,5)^G, (1,2)(3,6)(4,5)^G, (1,2,3,4,5,6)^G, (1,3,5)(2,4,6)^G,   (1,4)(2,5)(3,6)^G ]"
      ]
     },
     "execution_count": 68,
     "metadata": {
      "text/plain": ""
     },
     "output_type": "execute_result"
    }
   ],
   "source": [
    "ccl:= List( repres, x -> ConjugacyClass( D, x ) );;\n",
    "ccl;"
   ]
  },
  {
   "cell_type": "code",
   "execution_count": 69,
   "id": "f81aff67",
   "metadata": {
    "vscode": {
     "languageId": "gap"
    }
   },
   "outputs": [
    {
     "data": {
      "text/plain": [
       "true"
      ]
     },
     "execution_count": 69,
     "metadata": {
      "text/plain": ""
     },
     "output_type": "execute_result"
    }
   ],
   "source": [
    "ccl=conjClasses;"
   ]
  },
  {
   "cell_type": "code",
   "execution_count": 71,
   "id": "8f4f512b",
   "metadata": {
    "vscode": {
     "languageId": "gap"
    }
   },
   "outputs": [],
   "source": [
    "SetConjugacyClasses( D, ccl );\n",
    "tbl:= CharacterTable( D );;"
   ]
  },
  {
   "cell_type": "code",
   "execution_count": 72,
   "id": "10f55605",
   "metadata": {
    "vscode": {
     "languageId": "gap"
    }
   },
   "outputs": [
    {
     "data": {
      "text/plain": [
       "CharacterTable( D12 )"
      ]
     },
     "execution_count": 72,
     "metadata": {
      "text/plain": ""
     },
     "output_type": "execute_result"
    }
   ],
   "source": [
    "tbl;"
   ]
  },
  {
   "cell_type": "code",
   "execution_count": 73,
   "id": "cd704356",
   "metadata": {
    "vscode": {
     "languageId": "gap"
    }
   },
   "outputs": [
    {
     "name": "stdout",
     "output_type": "stream",
     "text": [
      "CT1\n",
      "\n",
      "     2  2  2  2  1  1  2\n",
      "     3  1  .  .  1  1  1\n",
      "\n",
      "       1a 2a 2b 6a 3a 2c\n",
      "    2P 1a 1a 1a 3a 3a 1a\n",
      "    3P 1a 2a 2b 2c 1a 2c\n",
      "    5P 1a 2a 2b 6a 3a 2c\n",
      "\n",
      "X.1     1  1  1  1  1  1\n",
      "X.2     1 -1 -1  1  1  1\n",
      "X.3     1 -1  1 -1  1 -1\n",
      "X.4     1  1 -1 -1  1 -1\n",
      "X.5     2  .  .  1 -1 -2\n",
      "X.6     2  .  . -1 -1  2\n"
     ]
    }
   ],
   "source": [
    "Display(tbl);"
   ]
  },
  {
   "cell_type": "code",
   "execution_count": 74,
   "id": "241bc4ce",
   "metadata": {
    "vscode": {
     "languageId": "gap"
    }
   },
   "outputs": [
    {
     "data": {
      "text/plain": [
       "function( ct, index ) ... end"
      ]
     },
     "execution_count": 74,
     "metadata": {
      "text/plain": ""
     },
     "output_type": "execute_result"
    }
   ],
   "source": [
    "CharacterOfRepByTable := function(ct, index)\n",
    "    local G, char, character, irreps;\n",
    "    G := UnderlyingGroup( ct );\n",
    "    character := Irr( ct )[index];\n",
    "    irreps := Length(IrreducibleRepresentations( G ));\n",
    "    char := rec(\n",
    "            group             := G,\n",
    "            character         := character,\n",
    "            index             := index,\n",
    "            isCharacter       := true,\n",
    "            irreps            := irreps,\n",
    "            dimension         := character[1]\n",
    "        );\n",
    "    return char;\n",
    "end;"
   ]
  },
  {
   "cell_type": "code",
   "execution_count": 75,
   "id": "17861d42",
   "metadata": {
    "vscode": {
     "languageId": "gap"
    }
   },
   "outputs": [
    {
     "data": {
      "text/plain": [
       "function( ct, char1, char2 ) ... end"
      ]
     },
     "execution_count": 75,
     "metadata": {
      "text/plain": ""
     },
     "output_type": "execute_result"
    }
   ],
   "source": [
    "ScalarProductOfCharacters := function( ct, char1, char2 )\n",
    "     local lcc, sum, chi, psi, product;\n",
    "     chi := char1.character;\n",
    "     if IsRecord(char2) and IsBound\\.( char2, RNamObj( \"character\" ) ) then\n",
    "         psi := char2.character;\n",
    "     else\n",
    "        psi:=char2;\n",
    "     fi;\n",
    "     lcc := [ 1 .. Length(ConjugacyClasses(char1.group)) ];\n",
    "     sum := Sum( lcc,\n",
    "               i -> SizesConjugacyClasses( ct )[i] * chi[i] * ComplexConjugate( psi[i] ) );\n",
    "     product := sum / Size( ct );\n",
    "     return product;\n",
    "end;"
   ]
  },
  {
   "cell_type": "code",
   "execution_count": 76,
   "id": "1db1c6af",
   "metadata": {
    "vscode": {
     "languageId": "gap"
    }
   },
   "outputs": [
    {
     "data": {
      "text/plain": [
       "function( rho, repres ) ... end"
      ]
     },
     "execution_count": 76,
     "metadata": {
      "text/plain": ""
     },
     "output_type": "execute_result"
    }
   ],
   "source": [
    "CharacterOfRep := function(rho, repres)\n",
    "    local char_rho;\n",
    "\n",
    "    # Verificar que rho es un mapeo (homomorfismo)\n",
    "    if not IsMapping(rho) then\n",
    "        Error(\"El primer parámetro debe ser un homomorfismo (representación).\");\n",
    "    fi;\n",
    "\n",
    "    # Verificar que repres es una lista\n",
    "    if not IsList(repres) then\n",
    "        Error(\"El segundo parámetro debe ser una lista de elementos del grupo.\");\n",
    "    fi;\n",
    "\n",
    "    # Calcular el carácter asociado\n",
    "    char_rho := List(repres, x -> Trace(Image(rho, x)));\n",
    "\n",
    "    return char_rho;\n",
    "end;\n"
   ]
  },
  {
   "cell_type": "code",
   "execution_count": 77,
   "id": "c326781b",
   "metadata": {
    "vscode": {
     "languageId": "gap"
    }
   },
   "outputs": [
    {
     "data": {
      "text/plain": [
       "function( idx ) ... end"
      ]
     },
     "execution_count": 77,
     "metadata": {
      "text/plain": ""
     },
     "output_type": "execute_result"
    }
   ],
   "source": [
    "# Definición de la función\n",
    "SumString := function(idx)\n",
    "    local terms, sum;\n",
    "\n",
    "    # Validación: verificar que idx es una lista\n",
    "    if not IsList(idx) then\n",
    "        Error(\"The argument must be a list.\");\n",
    "    fi;\n",
    "\n",
    "    # Construir la lista de términos como \"X.1\", \"X.2\", ...\n",
    "    terms := List(idx, j -> Concatenation(\"X.\", String(j)));\n",
    "\n",
    "    # Unir con \" + \"\n",
    "    sum := JoinStringsWithSeparator(terms, \" + \");\n",
    "\n",
    "    # Devolver el string resultante\n",
    "    return sum;\n",
    "end;\n"
   ]
  },
  {
   "cell_type": "code",
   "execution_count": 78,
   "id": "428da3a4",
   "metadata": {
    "vscode": {
     "languageId": "gap"
    }
   },
   "outputs": [
    {
     "name": "stdout",
     "output_type": "stream",
     "text": [
      "*************************************************************\n",
      "Centralizador Γ_() ≌ D12\n",
      "Total de representaciones irreducibles: 6\n",
      "--------------------------------------------------\n",
      "# Caracter de rho: [ 1, 1, 1, 1, 1, 1 ] #\n",
      "--------------------------------------------------\n",
      "X.1:=Character( CharacterTable( Group( [ (1,2,3,4,5,6), (1,6)(2,5)(3,4) \n",
      " ] ) ), [ 1, 1, 1, 1, 1, 1 ] ).\n",
      "X.1 está contenida en char_rho := [ 1, 1, 1, 1, 1, 1 ] n = 1 veces.\n",
      "La dimensión de X.1 es: 1\n",
      "\n",
      "char_rho := \"X.1\";\n",
      "--------------------------------------------------\n",
      "# Caracter de rho: [ 1, -1, -1, 1, 1, 1 ] #\n",
      "--------------------------------------------------\n",
      "X.2:=Character( CharacterTable( Group( [ (1,2,3,4,5,6), (1,6)(2,5)(3,4) \n",
      " ] ) ), [ 1, -1, -1, 1, 1, 1 ] ).\n",
      "X.2 está contenida en char_rho := [ 1, -1, -1, 1, 1, 1 ] n = 1 veces.\n",
      "La dimensión de X.2 es: 1\n",
      "\n",
      "char_rho := \"X.2\";\n",
      "--------------------------------------------------\n",
      "# Caracter de rho: [ 1, -1, 1, -1, 1, -1 ] #\n",
      "--------------------------------------------------\n",
      "X.3:=Character( CharacterTable( Group( [ (1,2,3,4,5,6), (1,6)(2,5)(3,4) \n",
      " ] ) ), [ 1, -1, 1, -1, 1, -1 ] ).\n",
      "X.3 está contenida en char_rho := [ 1, -1, 1, -1, 1, -1 ] n = 1 veces.\n",
      "La dimensión de X.3 es: 1\n",
      "\n",
      "char_rho := \"X.3\";\n",
      "--------------------------------------------------\n",
      "# Caracter de rho: [ 1, 1, -1, -1, 1, -1 ] #\n",
      "--------------------------------------------------\n",
      "X.4:=Character( CharacterTable( Group( [ (1,2,3,4,5,6), (1,6)(2,5)(3,4) \n",
      " ] ) ), [ 1, 1, -1, -1, 1, -1 ] ).\n",
      "X.4 está contenida en char_rho := [ 1, 1, -1, -1, 1, -1 ] n = 1 veces.\n",
      "La dimensión de X.4 es: 1\n",
      "\n",
      "char_rho := \"X.4\";\n",
      "--------------------------------------------------\n",
      "# Caracter de rho: [ 2, 0, 0, 1, -1, -2 ] #\n",
      "--------------------------------------------------\n",
      "X.5:=Character( CharacterTable( Group( [ (1,2,3,4,5,6), (1,6)(2,5)(3,4) \n",
      " ] ) ), [ 2, 0, 0, 1, -1, -2 ] ).\n",
      "X.5 está contenida en char_rho := [ 2, 0, 0, 1, -1, -2 ] n = 1 veces.\n",
      "La dimensión de X.5 es: 2\n",
      "\n",
      "char_rho := \"X.5\";\n",
      "--------------------------------------------------\n",
      "# Caracter de rho: [ 2, 0, 0, -1, -1, 2 ] #\n",
      "--------------------------------------------------\n",
      "X.6:=Character( CharacterTable( Group( [ (1,2,3,4,5,6), (1,6)(2,5)(3,4) \n",
      " ] ) ), [ 2, 0, 0, -1, -1, 2 ] ).\n",
      "X.6 está contenida en char_rho := [ 2, 0, 0, -1, -1, 2 ] n = 1 veces.\n",
      "La dimensión de X.6 es: 2\n",
      "\n",
      "char_rho := \"X.6\";\n",
      "*************************************************************\n",
      "Centralizador Γ_(2,6)(3,5) ≌ C2 x C2\n",
      "Total de representaciones irreducibles: 4\n",
      "--------------------------------------------------\n",
      "# Caracter de rho: [ 3, 1, 1, 0, 0, 3 ] #\n",
      "--------------------------------------------------\n",
      "X.1:=Character( CharacterTable( Group( [ (1,2,3,4,5,6), (1,6)(2,5)(3,4) \n",
      " ] ) ), [ 1, 1, 1, 1, 1, 1 ] ).\n",
      "X.1 está contenida en char_rho := [ 3, 1, 1, 0, 0, 3 ] n = 1 veces.\n",
      "La dimensión de X.1 es: 1\n",
      "\n",
      "X.6:=Character( CharacterTable( Group( [ (1,2,3,4,5,6), (1,6)(2,5)(3,4) \n",
      " ] ) ), [ 2, 0, 0, -1, -1, 2 ] ).\n",
      "X.6 está contenida en char_rho := [ 3, 1, 1, 0, 0, 3 ] n = 1 veces.\n",
      "La dimensión de X.6 es: 2\n",
      "\n",
      "char_rho := \"X.1 + X.6\";\n",
      "--------------------------------------------------\n",
      "# Caracter de rho: [ 3, 1, -1, 0, 0, -3 ] #\n",
      "--------------------------------------------------\n",
      "X.4:=Character( CharacterTable( Group( [ (1,2,3,4,5,6), (1,6)(2,5)(3,4) \n",
      " ] ) ), [ 1, 1, -1, -1, 1, -1 ] ).\n",
      "X.4 está contenida en char_rho := [ 3, 1, -1, 0, 0, -3 ] n = 1 veces.\n",
      "La dimensión de X.4 es: 1\n",
      "\n",
      "X.5:=Character( CharacterTable( Group( [ (1,2,3,4,5,6), (1,6)(2,5)(3,4) \n",
      " ] ) ), [ 2, 0, 0, 1, -1, -2 ] ).\n",
      "X.5 está contenida en char_rho := [ 3, 1, -1, 0, 0, -3 ] n = 1 veces.\n",
      "La dimensión de X.5 es: 2\n",
      "\n",
      "char_rho := \"X.4 + X.5\";\n",
      "--------------------------------------------------\n",
      "# Caracter de rho: [ 3, -1, 1, 0, 0, -3 ] #\n",
      "--------------------------------------------------\n",
      "X.3:=Character( CharacterTable( Group( [ (1,2,3,4,5,6), (1,6)(2,5)(3,4) \n",
      " ] ) ), [ 1, -1, 1, -1, 1, -1 ] ).\n",
      "X.3 está contenida en char_rho := [ 3, -1, 1, 0, 0, -3 ] n = 1 veces.\n",
      "La dimensión de X.3 es: 1\n",
      "\n",
      "X.5:=Character( CharacterTable( Group( [ (1,2,3,4,5,6), (1,6)(2,5)(3,4) \n",
      " ] ) ), [ 2, 0, 0, 1, -1, -2 ] ).\n",
      "X.5 está contenida en char_rho := [ 3, -1, 1, 0, 0, -3 ] n = 1 veces.\n",
      "La dimensión de X.5 es: 2\n",
      "\n",
      "char_rho := \"X.3 + X.5\";\n",
      "--------------------------------------------------\n",
      "# Caracter de rho: [ 3, -1, -1, 0, 0, 3 ] #\n",
      "--------------------------------------------------\n",
      "X.2:=Character( CharacterTable( Group( [ (1,2,3,4,5,6), (1,6)(2,5)(3,4) \n",
      " ] ) ), [ 1, -1, -1, 1, 1, 1 ] ).\n",
      "X.2 está contenida en char_rho := [ 3, -1, -1, 0, 0, 3 ] n = 1 veces.\n",
      "La dimensión de X.2 es: 1\n",
      "\n",
      "X.6:=Character( CharacterTable( Group( [ (1,2,3,4,5,6), (1,6)(2,5)(3,4) \n",
      " ] ) ), [ 2, 0, 0, -1, -1, 2 ] ).\n",
      "X.6 está contenida en char_rho := [ 3, -1, -1, 0, 0, 3 ] n = 1 veces.\n",
      "La dimensión de X.6 es: 2\n",
      "\n",
      "char_rho := \"X.2 + X.6\";\n",
      "*************************************************************\n",
      "Centralizador Γ_(1,2)(3,6)(4,5) ≌ C2 x C2\n",
      "Total de representaciones irreducibles: 4\n",
      "--------------------------------------------------\n",
      "# Caracter de rho: [ 3, 1, 1, 0, 0, 3 ] #\n",
      "--------------------------------------------------\n",
      "X.1:=Character( CharacterTable( Group( [ (1,2,3,4,5,6), (1,6)(2,5)(3,4) \n",
      " ] ) ), [ 1, 1, 1, 1, 1, 1 ] ).\n",
      "X.1 está contenida en char_rho := [ 3, 1, 1, 0, 0, 3 ] n = 1 veces.\n",
      "La dimensión de X.1 es: 1\n",
      "\n",
      "X.6:=Character( CharacterTable( Group( [ (1,2,3,4,5,6), (1,6)(2,5)(3,4) \n",
      " ] ) ), [ 2, 0, 0, -1, -1, 2 ] ).\n",
      "X.6 está contenida en char_rho := [ 3, 1, 1, 0, 0, 3 ] n = 1 veces.\n",
      "La dimensión de X.6 es: 2\n",
      "\n",
      "char_rho := \"X.1 + X.6\";\n",
      "--------------------------------------------------\n",
      "# Caracter de rho: [ 3, -1, 1, 0, 0, -3 ] #\n",
      "--------------------------------------------------\n",
      "X.3:=Character( CharacterTable( Group( [ (1,2,3,4,5,6), (1,6)(2,5)(3,4) \n",
      " ] ) ), [ 1, -1, 1, -1, 1, -1 ] ).\n",
      "X.3 está contenida en char_rho := [ 3, -1, 1, 0, 0, -3 ] n = 1 veces.\n",
      "La dimensión de X.3 es: 1\n",
      "\n",
      "X.5:=Character( CharacterTable( Group( [ (1,2,3,4,5,6), (1,6)(2,5)(3,4) \n",
      " ] ) ), [ 2, 0, 0, 1, -1, -2 ] ).\n",
      "X.5 está contenida en char_rho := [ 3, -1, 1, 0, 0, -3 ] n = 1 veces.\n",
      "La dimensión de X.5 es: 2\n",
      "\n",
      "char_rho := \"X.3 + X.5\";\n",
      "--------------------------------------------------\n",
      "# Caracter de rho: [ 3, 1, -1, 0, 0, -3 ] #\n",
      "--------------------------------------------------\n",
      "X.4:=Character( CharacterTable( Group( [ (1,2,3,4,5,6), (1,6)(2,5)(3,4) \n",
      " ] ) ), [ 1, 1, -1, -1, 1, -1 ] ).\n",
      "X.4 está contenida en char_rho := [ 3, 1, -1, 0, 0, -3 ] n = 1 veces.\n",
      "La dimensión de X.4 es: 1\n",
      "\n",
      "X.5:=Character( CharacterTable( Group( [ (1,2,3,4,5,6), (1,6)(2,5)(3,4) \n",
      " ] ) ), [ 2, 0, 0, 1, -1, -2 ] ).\n",
      "X.5 está contenida en char_rho := [ 3, 1, -1, 0, 0, -3 ] n = 1 veces.\n",
      "La dimensión de X.5 es: 2\n",
      "\n",
      "char_rho := \"X.4 + X.5\";\n",
      "--------------------------------------------------\n",
      "# Caracter de rho: [ 3, -1, -1, 0, 0, 3 ] #\n",
      "--------------------------------------------------\n",
      "X.2:=Character( CharacterTable( Group( [ (1,2,3,4,5,6), (1,6)(2,5)(3,4) \n",
      " ] ) ), [ 1, -1, -1, 1, 1, 1 ] ).\n",
      "X.2 está contenida en char_rho := [ 3, -1, -1, 0, 0, 3 ] n = 1 veces.\n",
      "La dimensión de X.2 es: 1\n",
      "\n",
      "X.6:=Character( CharacterTable( Group( [ (1,2,3,4,5,6), (1,6)(2,5)(3,4) \n",
      " ] ) ), [ 2, 0, 0, -1, -1, 2 ] ).\n",
      "X.6 está contenida en char_rho := [ 3, -1, -1, 0, 0, 3 ] n = 1 veces.\n",
      "La dimensión de X.6 es: 2\n",
      "\n",
      "char_rho := \"X.2 + X.6\";\n",
      "*************************************************************\n",
      "Centralizador Γ_(1,2,3,4,5,6) ≌ C6\n",
      "Total de representaciones irreducibles: 6\n",
      "--------------------------------------------------\n",
      "# Caracter de rho: [ 2, 0, 0, 2, 2, 2 ] #\n",
      "--------------------------------------------------\n",
      "X.1:=Character( CharacterTable( Group( [ (1,2,3,4,5,6), (1,6)(2,5)(3,4) \n",
      " ] ) ), [ 1, 1, 1, 1, 1, 1 ] ).\n",
      "X.1 está contenida en char_rho := [ 2, 0, 0, 2, 2, 2 ] n = 1 veces.\n",
      "La dimensión de X.1 es: 1\n",
      "\n",
      "X.2:=Character( CharacterTable( Group( [ (1,2,3,4,5,6), (1,6)(2,5)(3,4) \n",
      " ] ) ), [ 1, -1, -1, 1, 1, 1 ] ).\n",
      "X.2 está contenida en char_rho := [ 2, 0, 0, 2, 2, 2 ] n = 1 veces.\n",
      "La dimensión de X.2 es: 1\n",
      "\n",
      "char_rho := \"X.1 + X.2\";\n",
      "--------------------------------------------------\n",
      "# Caracter de rho: [ 2, 0, 0, -2, 2, -2 ] #\n",
      "--------------------------------------------------\n",
      "X.3:=Character( CharacterTable( Group( [ (1,2,3,4,5,6), (1,6)(2,5)(3,4) \n",
      " ] ) ), [ 1, -1, 1, -1, 1, -1 ] ).\n",
      "X.3 está contenida en char_rho := [ 2, 0, 0, -2, 2, -2 ] n = 1 veces.\n",
      "La dimensión de X.3 es: 1\n",
      "\n",
      "X.4:=Character( CharacterTable( Group( [ (1,2,3,4,5,6), (1,6)(2,5)(3,4) \n",
      " ] ) ), [ 1, 1, -1, -1, 1, -1 ] ).\n",
      "X.4 está contenida en char_rho := [ 2, 0, 0, -2, 2, -2 ] n = 1 veces.\n",
      "La dimensión de X.4 es: 1\n",
      "\n",
      "char_rho := \"X.3 + X.4\";\n",
      "--------------------------------------------------\n",
      "# Caracter de rho: [ 2, 0, 0, -1, -1, 2 ] #\n",
      "--------------------------------------------------\n",
      "X.6:=Character( CharacterTable( Group( [ (1,2,3,4,5,6), (1,6)(2,5)(3,4) \n",
      " ] ) ), [ 2, 0, 0, -1, -1, 2 ] ).\n",
      "X.6 está contenida en char_rho := [ 2, 0, 0, -1, -1, 2 ] n = 1 veces.\n",
      "La dimensión de X.6 es: 2\n",
      "\n",
      "char_rho := \"X.6\";\n",
      "--------------------------------------------------\n",
      "# Caracter de rho: [ 2, 0, 0, 1, -1, -2 ] #\n",
      "--------------------------------------------------\n",
      "X.5:=Character( CharacterTable( Group( [ (1,2,3,4,5,6), (1,6)(2,5)(3,4) \n",
      " ] ) ), [ 2, 0, 0, 1, -1, -2 ] ).\n",
      "X.5 está contenida en char_rho := [ 2, 0, 0, 1, -1, -2 ] n = 1 veces.\n",
      "La dimensión de X.5 es: 2\n",
      "\n",
      "char_rho := \"X.5\";\n",
      "--------------------------------------------------\n",
      "# Caracter de rho: [ 2, 0, 0, -1, -1, 2 ] #\n",
      "--------------------------------------------------\n",
      "X.6:=Character( CharacterTable( Group( [ (1,2,3,4,5,6), (1,6)(2,5)(3,4) \n",
      " ] ) ), [ 2, 0, 0, -1, -1, 2 ] ).\n",
      "X.6 está contenida en char_rho := [ 2, 0, 0, -1, -1, 2 ] n = 1 veces.\n",
      "La dimensión de X.6 es: 2\n",
      "\n",
      "char_rho := \"X.6\";\n",
      "--------------------------------------------------\n",
      "# Caracter de rho: [ 2, 0, 0, 1, -1, -2 ] #\n",
      "--------------------------------------------------\n",
      "X.5:=Character( CharacterTable( Group( [ (1,2,3,4,5,6), (1,6)(2,5)(3,4) \n",
      " ] ) ), [ 2, 0, 0, 1, -1, -2 ] ).\n",
      "X.5 está contenida en char_rho := [ 2, 0, 0, 1, -1, -2 ] n = 1 veces.\n",
      "La dimensión de X.5 es: 2\n",
      "\n",
      "char_rho := \"X.5\";\n",
      "*************************************************************\n",
      "Centralizador Γ_(1,3,5)(2,4,6) ≌ C6\n",
      "Total de representaciones irreducibles: 6\n",
      "--------------------------------------------------\n",
      "# Caracter de rho: [ 2, 0, 0, 2, 2, 2 ] #\n",
      "--------------------------------------------------\n",
      "X.1:=Character( CharacterTable( Group( [ (1,2,3,4,5,6), (1,6)(2,5)(3,4) \n",
      " ] ) ), [ 1, 1, 1, 1, 1, 1 ] ).\n",
      "X.1 está contenida en char_rho := [ 2, 0, 0, 2, 2, 2 ] n = 1 veces.\n",
      "La dimensión de X.1 es: 1\n",
      "\n",
      "X.2:=Character( CharacterTable( Group( [ (1,2,3,4,5,6), (1,6)(2,5)(3,4) \n",
      " ] ) ), [ 1, -1, -1, 1, 1, 1 ] ).\n",
      "X.2 está contenida en char_rho := [ 2, 0, 0, 2, 2, 2 ] n = 1 veces.\n",
      "La dimensión de X.2 es: 1\n",
      "\n",
      "char_rho := \"X.1 + X.2\";\n",
      "--------------------------------------------------\n",
      "# Caracter de rho: [ 2, 0, 0, -2, 2, -2 ] #\n",
      "--------------------------------------------------\n",
      "X.3:=Character( CharacterTable( Group( [ (1,2,3,4,5,6), (1,6)(2,5)(3,4) \n",
      " ] ) ), [ 1, -1, 1, -1, 1, -1 ] ).\n",
      "X.3 está contenida en char_rho := [ 2, 0, 0, -2, 2, -2 ] n = 1 veces.\n",
      "La dimensión de X.3 es: 1\n",
      "\n",
      "X.4:=Character( CharacterTable( Group( [ (1,2,3,4,5,6), (1,6)(2,5)(3,4) \n",
      " ] ) ), [ 1, 1, -1, -1, 1, -1 ] ).\n",
      "X.4 está contenida en char_rho := [ 2, 0, 0, -2, 2, -2 ] n = 1 veces.\n",
      "La dimensión de X.4 es: 1\n",
      "\n",
      "char_rho := \"X.3 + X.4\";\n",
      "--------------------------------------------------\n",
      "# Caracter de rho: [ 2, 0, 0, -1, -1, 2 ] #\n",
      "--------------------------------------------------\n",
      "X.6:=Character( CharacterTable( Group( [ (1,2,3,4,5,6), (1,6)(2,5)(3,4) \n",
      " ] ) ), [ 2, 0, 0, -1, -1, 2 ] ).\n",
      "X.6 está contenida en char_rho := [ 2, 0, 0, -1, -1, 2 ] n = 1 veces.\n",
      "La dimensión de X.6 es: 2\n",
      "\n",
      "char_rho := \"X.6\";\n",
      "--------------------------------------------------\n",
      "# Caracter de rho: [ 2, 0, 0, 1, -1, -2 ] #\n",
      "--------------------------------------------------\n",
      "X.5:=Character( CharacterTable( Group( [ (1,2,3,4,5,6), (1,6)(2,5)(3,4) \n",
      " ] ) ), [ 2, 0, 0, 1, -1, -2 ] ).\n",
      "X.5 está contenida en char_rho := [ 2, 0, 0, 1, -1, -2 ] n = 1 veces.\n",
      "La dimensión de X.5 es: 2\n",
      "\n",
      "char_rho := \"X.5\";\n",
      "--------------------------------------------------\n",
      "# Caracter de rho: [ 2, 0, 0, -1, -1, 2 ] #\n",
      "--------------------------------------------------\n",
      "X.6:=Character( CharacterTable( Group( [ (1,2,3,4,5,6), (1,6)(2,5)(3,4) \n",
      " ] ) ), [ 2, 0, 0, -1, -1, 2 ] ).\n",
      "X.6 está contenida en char_rho := [ 2, 0, 0, -1, -1, 2 ] n = 1 veces.\n",
      "La dimensión de X.6 es: 2\n",
      "\n",
      "char_rho := \"X.6\";\n",
      "--------------------------------------------------\n",
      "# Caracter de rho: [ 2, 0, 0, 1, -1, -2 ] #\n",
      "--------------------------------------------------\n",
      "X.5:=Character( CharacterTable( Group( [ (1,2,3,4,5,6), (1,6)(2,5)(3,4) \n",
      " ] ) ), [ 2, 0, 0, 1, -1, -2 ] ).\n",
      "X.5 está contenida en char_rho := [ 2, 0, 0, 1, -1, -2 ] n = 1 veces.\n",
      "La dimensión de X.5 es: 2\n",
      "\n",
      "char_rho := \"X.5\";\n",
      "*************************************************************\n",
      "Centralizador Γ_(1,4)(2,5)(3,6) ≌ D12\n",
      "Total de representaciones irreducibles: 6\n",
      "--------------------------------------------------\n",
      "# Caracter de rho: [ 1, 1, 1, 1, 1, 1 ] #\n",
      "--------------------------------------------------\n",
      "X.1:=Character( CharacterTable( Group( [ (1,2,3,4,5,6), (1,6)(2,5)(3,4) \n",
      " ] ) ), [ 1, 1, 1, 1, 1, 1 ] ).\n",
      "X.1 está contenida en char_rho := [ 1, 1, 1, 1, 1, 1 ] n = 1 veces.\n",
      "La dimensión de X.1 es: 1\n",
      "\n",
      "char_rho := \"X.1\";\n",
      "--------------------------------------------------\n",
      "# Caracter de rho: [ 1, -1, -1, 1, 1, 1 ] #\n",
      "--------------------------------------------------\n",
      "X.2:=Character( CharacterTable( Group( [ (1,2,3,4,5,6), (1,6)(2,5)(3,4) \n",
      " ] ) ), [ 1, -1, -1, 1, 1, 1 ] ).\n",
      "X.2 está contenida en char_rho := [ 1, -1, -1, 1, 1, 1 ] n = 1 veces.\n",
      "La dimensión de X.2 es: 1\n",
      "\n",
      "char_rho := \"X.2\";\n",
      "--------------------------------------------------\n",
      "# Caracter de rho: [ 1, -1, 1, -1, 1, -1 ] #\n",
      "--------------------------------------------------\n",
      "X.3:=Character( CharacterTable( Group( [ (1,2,3,4,5,6), (1,6)(2,5)(3,4) \n",
      " ] ) ), [ 1, -1, 1, -1, 1, -1 ] ).\n",
      "X.3 está contenida en char_rho := [ 1, -1, 1, -1, 1, -1 ] n = 1 veces.\n",
      "La dimensión de X.3 es: 1\n",
      "\n",
      "char_rho := \"X.3\";\n",
      "--------------------------------------------------\n",
      "# Caracter de rho: [ 1, 1, -1, -1, 1, -1 ] #\n",
      "--------------------------------------------------\n",
      "X.4:=Character( CharacterTable( Group( [ (1,2,3,4,5,6), (1,6)(2,5)(3,4) \n",
      " ] ) ), [ 1, 1, -1, -1, 1, -1 ] ).\n",
      "X.4 está contenida en char_rho := [ 1, 1, -1, -1, 1, -1 ] n = 1 veces.\n",
      "La dimensión de X.4 es: 1\n",
      "\n",
      "char_rho := \"X.4\";\n",
      "--------------------------------------------------\n",
      "# Caracter de rho: [ 2, 0, 0, 1, -1, -2 ] #\n",
      "--------------------------------------------------\n",
      "X.5:=Character( CharacterTable( Group( [ (1,2,3,4,5,6), (1,6)(2,5)(3,4) \n",
      " ] ) ), [ 2, 0, 0, 1, -1, -2 ] ).\n",
      "X.5 está contenida en char_rho := [ 2, 0, 0, 1, -1, -2 ] n = 1 veces.\n",
      "La dimensión de X.5 es: 2\n",
      "\n",
      "char_rho := \"X.5\";\n",
      "--------------------------------------------------\n",
      "# Caracter de rho: [ 2, 0, 0, -1, -1, 2 ] #\n",
      "--------------------------------------------------\n",
      "X.6:=Character( CharacterTable( Group( [ (1,2,3,4,5,6), (1,6)(2,5)(3,4) \n",
      " ] ) ), [ 2, 0, 0, -1, -1, 2 ] ).\n",
      "X.6 está contenida en char_rho := [ 2, 0, 0, -1, -1, 2 ] n = 1 veces.\n",
      "La dimensión de X.6 es: 2\n",
      "\n",
      "char_rho := \"X.6\";\n"
     ]
    }
   ],
   "source": [
    "for s in simples do\n",
    "    Print(\"*************************************************************\\n\");\n",
    "    Print(\"Centralizador Γ_\", s.rep, \" ≌ \", s.struc_descr, \"\\n\");\n",
    "    Print(\"Total de representaciones irreducibles: \", Length(s.reps),\"\\n\");\n",
    "    for rho in s.reps do\n",
    "        char_rho := CharacterOfRep(rho, repres);;\n",
    "        Print(\"--------------------------------------------------\\n\");\n",
    "        Print(\"# Caracter de rho: \", char_rho, \" #\\n\");\n",
    "        Print(\"--------------------------------------------------\\n\");\n",
    "        idx:=[];\n",
    "        for i in [ 1 .. Length(ConjugacyClasses(D)) ] do\n",
    "            chi := CharacterOfRepByTable(tbl, i);;\n",
    "            p := ScalarProductOfCharacters( tbl, chi, char_rho );;\n",
    "            \n",
    "            if p <> 0 then\n",
    "                Print(\"X.\", i,\":=\", chi.character, \".\\n\");\n",
    "                Print(\"X.\", i, \" está contenida en char_rho := \", char_rho, \" n = \", p, \" veces.\\n\");\n",
    "                Print(\"La dimensión de X.\", i, \" es: \", chi.dimension, \"\\n\\n\");\n",
    "                Add(idx, i);\n",
    "            fi;\n",
    "        od;\n",
    "        Print(\"char_rho := \\\"\", SumString(idx), \"\\\";\\n\");\n",
    "    od;\n",
    "od;"
   ]
  },
  {
   "cell_type": "code",
   "execution_count": null,
   "id": "371ebcbf",
   "metadata": {
    "vscode": {
     "languageId": "gap"
    }
   },
   "outputs": [],
   "source": []
  }
 ],
 "metadata": {
  "kernelspec": {
   "display_name": "GAP virtual env",
   "language": "gap",
   "name": "gapcito"
  },
  "language_info": {
   "codemirror_mode": "gap",
   "file_extension": ".g",
   "mimetype": "text/x-gap",
   "name": "GAP 4",
   "nbconvert_exporter": "",
   "pygments_lexer": "gap",
   "version": "4.13.1"
  }
 },
 "nbformat": 4,
 "nbformat_minor": 5
}
