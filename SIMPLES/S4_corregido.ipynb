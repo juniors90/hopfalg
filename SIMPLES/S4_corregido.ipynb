{
 "cells": [
  {
   "cell_type": "markdown",
   "id": "69b8d60d",
   "metadata": {},
   "source": [
    "# Los objetos simples en ${}_\\Gamma^\\Gamma \\mathcal{YD}$ con $\\Gamma = \\mathbb{S}_4$,\n",
    "\n",
    "Determinaremos todos los posibles pares\n",
    "$(g,\\rho)$ que dan lugar a objetos simples en $\\Gamma = \\mathbb{S}_3$\n",
    "el grupo simétrico de tres elementos."
   ]
  },
  {
   "cell_type": "markdown",
   "id": "6e22e4cc",
   "metadata": {},
   "source": [
    "- Definimos el grupo simétrico $\\mathbb{S}_N$ para `N:=4`"
   ]
  },
  {
   "cell_type": "code",
   "execution_count": 2,
   "id": "5a47da0c",
   "metadata": {
    "vscode": {
     "languageId": "gap"
    }
   },
   "outputs": [
    {
     "data": {
      "text/plain": [
       "Sym( [ 1 .. 4 ] )"
      ]
     },
     "execution_count": 2,
     "metadata": {
      "text/plain": ""
     },
     "output_type": "execute_result"
    }
   ],
   "source": [
    "N := 4;;\n",
    "G := SymmetricGroup(N); "
   ]
  },
  {
   "cell_type": "markdown",
   "id": "027d1b1a",
   "metadata": {},
   "source": [
    "- Mostramos los elementos del grupo"
   ]
  },
  {
   "cell_type": "code",
   "execution_count": 4,
   "id": "2295c84b",
   "metadata": {
    "vscode": {
     "languageId": "gap"
    }
   },
   "outputs": [
    {
     "name": "stdout",
     "output_type": "stream",
     "text": [
      "Elementos de S_4:\n",
      "[ (), (3,4), (2,3), (2,3,4), (2,4,3), (2,4), (1,2), (1,2)(3,4), (1,2,3), \n",
      "  (1,2,3,4), (1,2,4,3), (1,2,4), (1,3,2), (1,3,4,2), (1,3), (1,3,4), \n",
      "  (1,3)(2,4), (1,3,2,4), (1,4,3,2), (1,4,2), (1,4,3), (1,4), (1,4,2,3), \n",
      "  (1,4)(2,3) ]\n"
     ]
    }
   ],
   "source": [
    "Print(\"Elementos de S_\", N, \":\\n\");\n",
    "Display(Elements(G));"
   ]
  },
  {
   "cell_type": "markdown",
   "id": "b3e9b27f",
   "metadata": {},
   "source": [
    "- Clases de conjugación"
   ]
  },
  {
   "cell_type": "code",
   "execution_count": 5,
   "id": "cc7d17e0",
   "metadata": {
    "vscode": {
     "languageId": "gap"
    }
   },
   "outputs": [
    {
     "data": {
      "text/plain": [
       "[ ()^G, (1,2)^G, (1,2)(3,4)^G, (1,2,3)^G, (1,2,3,4)^G ]"
      ]
     },
     "execution_count": 5,
     "metadata": {
      "text/plain": ""
     },
     "output_type": "execute_result"
    }
   ],
   "source": [
    "conjClasses := ConjugacyClasses(G);"
   ]
  },
  {
   "cell_type": "code",
   "execution_count": 9,
   "id": "0ace0981",
   "metadata": {
    "vscode": {
     "languageId": "gap"
    }
   },
   "outputs": [
    {
     "name": "stdout",
     "output_type": "stream",
     "text": [
      "\n",
      "Clases de conjugación y sus representantes:\n",
      "------------------------------------------\n",
      "\n",
      "Representante: ()\n",
      "Clase de conjugación: [ () ]\n",
      "Tamaño de la clase: 1\n",
      "Centralizador (Γ_()): [ (), (3,4), (2,3), (2,3,4), (2,4,3), (2,4), (1,2), \n",
      "  (1,2)(3,4), (1,2,3), (1,2,3,4), (1,2,4,3), (1,2,4), (1,3,2), (1,3,4,2), \n",
      "  (1,3), (1,3,4), (1,3)(2,4), (1,3,2,4), (1,4,3,2), (1,4,2), (1,4,3), (1,4), \n",
      "  (1,4,2,3), (1,4)(2,3) ]\n",
      "Orden del centralizador: 24\n",
      "Verificación: 1 = 24/24\n",
      "--------------------------------------------------\n",
      "Representante: (1,2)\n",
      "Clase de conjugación: [ (3,4), (2,3), (2,4), (1,2), (1,3), (1,4) ]\n",
      "Tamaño de la clase: 6\n",
      "Centralizador (Γ_(1,2)): [ (), (3,4), (1,2), (1,2)(3,4) ]\n",
      "Orden del centralizador: 4\n",
      "Verificación: 6 = 24/4\n",
      "--------------------------------------------------\n",
      "Representante: (1,2)(3,4)\n",
      "Clase de conjugación: [ (1,2)(3,4), (1,3)(2,4), (1,4)(2,3) ]\n",
      "Tamaño de la clase: 3\n",
      "Centralizador (Γ_(1,2)(3,4)): [ (), (3,4), (1,2), (1,2)(3,4), (1,3)(2,4), \n",
      "  (1,3,2,4), (1,4,2,3), (1,4)(2,3) ]\n",
      "Orden del centralizador: 8\n",
      "Verificación: 3 = 24/8\n",
      "--------------------------------------------------\n",
      "Representante: (1,2,3)\n",
      "Clase de conjugación: [ (2,3,4), (2,4,3), (1,2,3), (1,2,4), (1,3,2), \n",
      "  (1,3,4), (1,4,2), (1,4,3) ]\n",
      "Tamaño de la clase: 8\n",
      "Centralizador (Γ_(1,2,3)): [ (), (1,2,3), (1,3,2) ]\n",
      "Orden del centralizador: 3\n",
      "Verificación: 8 = 24/3\n",
      "--------------------------------------------------\n",
      "Representante: (1,2,3,4)\n",
      "Clase de conjugación: [ (1,2,3,4), (1,2,4,3), (1,3,4,2), (1,3,2,4), \n",
      "  (1,4,3,2), (1,4,2,3) ]\n",
      "Tamaño de la clase: 6\n",
      "Centralizador (Γ_(1,2,3,4)): [ (), (1,2,3,4), (1,3)(2,4), (1,4,3,2) ]\n",
      "Orden del centralizador: 4\n",
      "Verificación: 6 = 24/4\n",
      "--------------------------------------------------\n"
     ]
    }
   ],
   "source": [
    "Print(\"\\nClases de conjugación y sus representantes:\\n\");\n",
    "Print(\"------------------------------------------\\n\\n\");\n",
    "centralizers:= [];;\n",
    "for C in conjClasses do\n",
    "    rep := Representative(C);\n",
    "    size := Size(C);\n",
    "    centralizer := Centralizer(G, rep);\n",
    "    Print(\"Representante: \", rep, \"\\n\");\n",
    "    Print(\"Clase de conjugación: \", Elements(C), \"\\n\");\n",
    "    Print(\"Tamaño de la clase: \", size, \"\\n\");\n",
    "    Print(\"Centralizador (Γ_\", rep, \"): \", Elements(centralizer), \"\\n\");\n",
    "    Print(\"Orden del centralizador: \", Size(centralizer), \"\\n\");\n",
    "    #Print(\"Representaciones irreducibles de (Γ_\", rep, \"): \");\n",
    "    #IrreducibleRepresentations(centralizer);\n",
    "    Add(centralizers, rec(centralizer:=centralizer, rep:=rep));\n",
    "    # Verificación de la fórmula |clase| = |G| / |centralizador|\n",
    "    ratio := Size(G) / Size(centralizer);\n",
    "    if ratio = size then\n",
    "        Print(\"Verificación: \", size, \" = \", Size(G), \"/\", Size(centralizer), \"\\n\");\n",
    "    else\n",
    "        Print(\"¡Error en la verificación!\\n\");\n",
    "    fi;\n",
    "    Print(\"--------------------------------------------------\\n\");\n",
    "od;"
   ]
  },
  {
   "cell_type": "code",
   "execution_count": 10,
   "id": "717731a2",
   "metadata": {
    "vscode": {
     "languageId": "gap"
    }
   },
   "outputs": [
    {
     "data": {
      "text/plain": [
       "[ rec( centralizer := Group([ (1,4), (2,4), (3,4) ]), rep := () ),   rec( centralizer := Group([ (1,2), (3,4) ]), rep := (1,2) ),   rec( centralizer := Group([ (1,2), (1,3)(2,4), (3,4) ]), rep := (1,2)(3,4) )    , rec( centralizer := Group([ (1,2,3) ]), rep := (1,2,3) ),   rec( centralizer := Group([ (1,2,3,4) ]), rep := (1,2,3,4) ) ]"
      ]
     },
     "execution_count": 10,
     "metadata": {
      "text/plain": ""
     },
     "output_type": "execute_result"
    }
   ],
   "source": [
    "centralizers;"
   ]
  },
  {
   "cell_type": "code",
   "execution_count": 11,
   "id": "e61724c6",
   "metadata": {
    "vscode": {
     "languageId": "gap"
    }
   },
   "outputs": [
    {
     "name": "stdout",
     "output_type": "stream",
     "text": [
      "Centralizador Γ_() ≌ S4\n",
      "Centralizador Γ_(1,2) ≌ C2 x C2\n",
      "Centralizador Γ_(1,2)(3,4) ≌ D8\n",
      "Centralizador Γ_(1,2,3) ≌ C3\n",
      "Centralizador Γ_(1,2,3,4) ≌ C4\n"
     ]
    }
   ],
   "source": [
    "for i in centralizers do\n",
    "    Print(\"Centralizador Γ_\", i.rep, \" ≌ \", StructureDescription(i.centralizer), \"\\n\");\n",
    "od;"
   ]
  },
  {
   "cell_type": "code",
   "execution_count": 13,
   "id": "ff0c741f",
   "metadata": {
    "vscode": {
     "languageId": "gap"
    }
   },
   "outputs": [
    {
     "name": "stdout",
     "output_type": "stream",
     "text": [
      "Total de Representationes Irreducibles: 21\n"
     ]
    }
   ],
   "source": [
    "tot := Sum(List( centralizers, x -> Length(IrreducibleRepresentations(x.centralizer)) ));;\n",
    "Print(\"Total de Representationes Irreducibles: \", tot, \"\\n\");"
   ]
  },
  {
   "cell_type": "code",
   "execution_count": 14,
   "id": "d2867561",
   "metadata": {
    "vscode": {
     "languageId": "gap"
    }
   },
   "outputs": [
    {
     "data": {
      "text/plain": [
       "true"
      ]
     },
     "execution_count": 14,
     "metadata": {
      "text/plain": ""
     },
     "output_type": "execute_result"
    }
   ],
   "source": [
    "LoadPackage( \"repsn\" );"
   ]
  },
  {
   "cell_type": "code",
   "execution_count": null,
   "id": "49da4009",
   "metadata": {
    "vscode": {
     "languageId": "gap"
    }
   },
   "outputs": [
    {
     "name": "stdout",
     "output_type": "stream",
     "text": [
      "\n",
      "Centralizador Γ_(): S4\n",
      "Elementos de Γ_(): [ (), (3,4), (2,3), (2,3,4), (2,4,3), (2,4), (1,2), \n",
      "  (1,2)(3,4), (1,2,3), (1,2,3,4), (1,2,4,3), (1,2,4), (1,3,2), (1,3,4,2), \n",
      "  (1,3), (1,3,4), (1,3)(2,4), (1,3,2,4), (1,4,3,2), (1,4,2), (1,4,3), (1,4), \n",
      "  (1,4,2,3), (1,4)(2,3) ]\n",
      "-----------------------------------------------------------\n",
      "\n",
      "Centralizador Γ_(1,2): C2 x C2\n",
      "Elementos de Γ_(1,2): [ (), (3,4), (1,2), (1,2)(3,4) ]\n",
      "-----------------------------------------------------------\n",
      "\n",
      "Centralizador Γ_(1,2)(3,4): D8\n",
      "Elementos de Γ_(1,2)(3,4): [ (), (3,4), (1,2), (1,2)(3,4), (1,3)(2,4), \n",
      "  (1,3,2,4), (1,4,2,3), (1,4)(2,3) ]\n",
      "-----------------------------------------------------------\n",
      "\n",
      "Centralizador Γ_(1,2,3): C3\n",
      "Elementos de Γ_(1,2,3): [ (), (1,2,3), (1,3,2) ]\n",
      "-----------------------------------------------------------\n",
      "\n",
      "Centralizador Γ_(1,2,3,4): C4\n",
      "Elementos de Γ_(1,2,3,4): [ (), (1,2,3,4), (1,3)(2,4), (1,4,3,2) ]\n",
      "-----------------------------------------------------------\n"
     ]
    }
   ],
   "source": [
    "simples:= [];;\n",
    "for c in centralizers do\n",
    "    rep := c.rep;\n",
    "    Gamma_g := c.centralizer;\n",
    "    st:=StructureDescription(Gamma_g);\n",
    "    Print(\"\\nCentralizador Γ_\", rep, \": \", st, \"\\n\");\n",
    "    Print(\"Elementos de Γ_\", rep, \": \", Elements(Gamma_g), \"\\n\");\n",
    "    Print(\"-----------------------------------------------------------\", \"\\n\");\n",
    "    irrepsGamma_g := Irr( Gamma_g );\n",
    "    #Print(Length(irrepsGamma_g), \"\\n\");\n",
    "    reps:=[];\n",
    "    for i in [1.. Length(irrepsGamma_g)] do\n",
    "        chi := irrepsGamma_g[ i ];;\n",
    "        #Print(chi, \"\\n\");\n",
    "        rho := IrreducibleAffordingRepresentation( chi );;\n",
    "        M_g_rho:=InducedSubgroupRepresentation( G, rho );;\n",
    "        # Print(M_g_rho, \"\\n\");\n",
    "        # Print(\"****************************************************************\", \"\\n\");\n",
    "        Add(reps, M_g_rho);\n",
    "    od;\n",
    "    Add(simples, rec(reps:=reps, rep:=rep, struc_descr:=st));\n",
    "od;"
   ]
  },
  {
   "cell_type": "code",
   "execution_count": 46,
   "id": "c0960c30",
   "metadata": {
    "vscode": {
     "languageId": "gap"
    }
   },
   "outputs": [
    {
     "name": "stdout",
     "output_type": "stream",
     "text": [
      "[ rec(\n",
      "      rep := (),\n",
      "      reps := \n",
      "       [ GroupHomomorphismByImages( SymmetricGroup( [ 1 .. 4 ] ), Group(\n",
      "            [ [ [ 1 ] ], [ [ 1 ] ] ]), [ (1,2,3,4), (1,2) ], \n",
      "            [ [ [ 1 ] ], [ [ 1 ] ] ] ), \n",
      "          GroupHomomorphismByImages( SymmetricGroup( [ 1 .. 4 ] ), Group(\n",
      "            [ [ [ -1 ] ], [ [ -1 ] ] ]), [ (1,2,3,4), (1,2) ], \n",
      "            [ [ [ -1 ] ], [ [ -1 ] ] ] ), \n",
      "          GroupHomomorphismByImages( SymmetricGroup( [ 1 .. 4 ] ), Group(\n",
      "            [ [ [ 0, E(3) ], [ E(3)^2, 0 ] ], [ [ 0, 1 ], [ 1, 0 ] ] ]), \n",
      "            [ (1,2,3,4), (1,2) ], [ [ [ 0, E(3) ], [ E(3)^2, 0 ] ], \n",
      "              [ [ 0, 1 ], [ 1, 0 ] ] ] ), \n",
      "          GroupHomomorphismByImages( SymmetricGroup( [ 1 .. 4 ] ), Group(\n",
      "            [ [ [ 0, 0, -1 ], [ 0, 1, 0 ], [ 1, 0, 0 ] ], \n",
      "              [ [ 0, -1, 0 ], [ -1, 0, 0 ], [ 0, 0, -1 ] ] ]), \n",
      "            [ (1,2,3,4), (1,2) ], \n",
      "            [ [ [ 0, 0, -1 ], [ 0, 1, 0 ], [ 1, 0, 0 ] ], \n",
      "              [ [ 0, -1, 0 ], [ -1, 0, 0 ], [ 0, 0, -1 ] ] ] ), \n",
      "          GroupHomomorphismByImages( SymmetricGroup( [ 1 .. 4 ] ), Group(\n",
      "            [ [ [ 0, 0, 1 ], [ 0, -1, 0 ], [ -1, 0, 0 ] ], \n",
      "              [ [ 0, -1, 0 ], [ -1, 0, 0 ], [ 0, 0, 1 ] ] ]), \n",
      "            [ (1,2,3,4), (1,2) ], \n",
      "            [ [ [ 0, 0, 1 ], [ 0, -1, 0 ], [ -1, 0, 0 ] ], \n",
      "              [ [ 0, -1, 0 ], [ -1, 0, 0 ], [ 0, 0, 1 ] ] ] ) ],\n",
      "      struc_descr := \"S4\" ), rec(\n",
      "      rep := (1,2),\n",
      "      reps := \n",
      "       [ GroupHomomorphismByImages( SymmetricGroup( [ 1 .. 4 ] ), Group(\n",
      "            [ \n",
      "              [ [ 0, 0, 0, 1, 0, 0 ], [ 0, 0, 0, 0, 1, 0 ], \n",
      "                  [ 1, 0, 0, 0, 0, 0 ], [ 0, 0, 0, 0, 0, 1 ], \n",
      "                  [ 0, 1, 0, 0, 0, 0 ], [ 0, 0, 1, 0, 0, 0 ] ], \n",
      "              [ [ 1, 0, 0, 0, 0, 0 ], [ 0, 0, 0, 1, 0, 0 ], \n",
      "                  [ 0, 0, 0, 0, 1, 0 ], [ 0, 1, 0, 0, 0, 0 ], \n",
      "                  [ 0, 0, 1, 0, 0, 0 ], [ 0, 0, 0, 0, 0, 1 ] ] ]), \n",
      "            [ (1,2,3,4), (1,2) ], \n",
      "            [ \n",
      "              [ [ 0, 0, 0, 1, 0, 0 ], [ 0, 0, 0, 0, 1, 0 ], \n",
      "                  [ 1, 0, 0, 0, 0, 0 ], [ 0, 0, 0, 0, 0, 1 ], \n",
      "                  [ 0, 1, 0, 0, 0, 0 ], [ 0, 0, 1, 0, 0, 0 ] ], \n",
      "              [ [ 1, 0, 0, 0, 0, 0 ], [ 0, 0, 0, 1, 0, 0 ], \n",
      "                  [ 0, 0, 0, 0, 1, 0 ], [ 0, 1, 0, 0, 0, 0 ], \n",
      "                  [ 0, 0, 1, 0, 0, 0 ], [ 0, 0, 0, 0, 0, 1 ] ] ] ), \n",
      "          GroupHomomorphismByImages( SymmetricGroup( [ 1 .. 4 ] ), Group(\n",
      "            [ \n",
      "              [ [ 0, 0, 0, -1, 0, 0 ], [ 0, 0, 0, 0, -1, 0 ], \n",
      "                  [ 1, 0, 0, 0, 0, 0 ], [ 0, 0, 0, 0, 0, -1 ], \n",
      "                  [ 0, 1, 0, 0, 0, 0 ], [ 0, 0, 1, 0, 0, 0 ] ], \n",
      "              [ [ 1, 0, 0, 0, 0, 0 ], [ 0, 0, 0, 1, 0, 0 ], \n",
      "                  [ 0, 0, 0, 0, 1, 0 ], [ 0, 1, 0, 0, 0, 0 ], \n",
      "                  [ 0, 0, 1, 0, 0, 0 ], [ 0, 0, 0, 0, 0, -1 ] ] ]), \n",
      "            [ (1,2,3,4), (1,2) ], \n",
      "            [ \n",
      "              [ [ 0, 0, 0, -1, 0, 0 ], [ 0, 0, 0, 0, -1, 0 ], \n",
      "                  [ 1, 0, 0, 0, 0, 0 ], [ 0, 0, 0, 0, 0, -1 ], \n",
      "                  [ 0, 1, 0, 0, 0, 0 ], [ 0, 0, 1, 0, 0, 0 ] ], \n",
      "              [ [ 1, 0, 0, 0, 0, 0 ], [ 0, 0, 0, 1, 0, 0 ], \n",
      "                  [ 0, 0, 0, 0, 1, 0 ], [ 0, 1, 0, 0, 0, 0 ], \n",
      "                  [ 0, 0, 1, 0, 0, 0 ], [ 0, 0, 0, 0, 0, -1 ] ] ] ), \n",
      "          GroupHomomorphismByImages( SymmetricGroup( [ 1 .. 4 ] ), Group(\n",
      "            [ \n",
      "              [ [ 0, 0, 0, 1, 0, 0 ], [ 0, 0, 0, 0, 1, 0 ], \n",
      "                  [ -1, 0, 0, 0, 0, 0 ], [ 0, 0, 0, 0, 0, 1 ], \n",
      "                  [ 0, -1, 0, 0, 0, 0 ], [ 0, 0, -1, 0, 0, 0 ] ], \n",
      "              [ [ -1, 0, 0, 0, 0, 0 ], [ 0, 0, 0, 1, 0, 0 ], \n",
      "                  [ 0, 0, 0, 0, 1, 0 ], [ 0, 1, 0, 0, 0, 0 ], \n",
      "                  [ 0, 0, 1, 0, 0, 0 ], [ 0, 0, 0, 0, 0, 1 ] ] ]), \n",
      "            [ (1,2,3,4), (1,2) ], \n",
      "            [ \n",
      "              [ [ 0, 0, 0, 1, 0, 0 ], [ 0, 0, 0, 0, 1, 0 ], \n",
      "                  [ -1, 0, 0, 0, 0, 0 ], [ 0, 0, 0, 0, 0, 1 ], \n",
      "                  [ 0, -1, 0, 0, 0, 0 ], [ 0, 0, -1, 0, 0, 0 ] ], \n",
      "              [ [ -1, 0, 0, 0, 0, 0 ], [ 0, 0, 0, 1, 0, 0 ], \n",
      "                  [ 0, 0, 0, 0, 1, 0 ], [ 0, 1, 0, 0, 0, 0 ], \n",
      "                  [ 0, 0, 1, 0, 0, 0 ], [ 0, 0, 0, 0, 0, 1 ] ] ] ), \n",
      "          GroupHomomorphismByImages( SymmetricGroup( [ 1 .. 4 ] ), Group(\n",
      "            [ \n",
      "              [ [ 0, 0, 0, -1, 0, 0 ], [ 0, 0, 0, 0, -1, 0 ], \n",
      "                  [ -1, 0, 0, 0, 0, 0 ], [ 0, 0, 0, 0, 0, -1 ], \n",
      "                  [ 0, -1, 0, 0, 0, 0 ], [ 0, 0, -1, 0, 0, 0 ] ], \n",
      "              [ [ -1, 0, 0, 0, 0, 0 ], [ 0, 0, 0, 1, 0, 0 ], \n",
      "                  [ 0, 0, 0, 0, 1, 0 ], [ 0, 1, 0, 0, 0, 0 ], \n",
      "                  [ 0, 0, 1, 0, 0, 0 ], [ 0, 0, 0, 0, 0, -1 ] ] ]), \n",
      "            [ (1,2,3,4), (1,2) ], \n",
      "            [ \n",
      "              [ [ 0, 0, 0, -1, 0, 0 ], [ 0, 0, 0, 0, -1, 0 ], \n",
      "                  [ -1, 0, 0, 0, 0, 0 ], [ 0, 0, 0, 0, 0, -1 ], \n",
      "                  [ 0, -1, 0, 0, 0, 0 ], [ 0, 0, -1, 0, 0, 0 ] ], \n",
      "              [ [ -1, 0, 0, 0, 0, 0 ], [ 0, 0, 0, 1, 0, 0 ], \n",
      "                  [ 0, 0, 0, 0, 1, 0 ], [ 0, 1, 0, 0, 0, 0 ], \n",
      "                  [ 0, 0, 1, 0, 0, 0 ], [ 0, 0, 0, 0, 0, -1 ] ] ] ) ],\n",
      "      struc_descr := \"C2 x C2\" ), rec(\n",
      "      rep := (1,2)(3,4),\n",
      "      reps := \n",
      "       [ GroupHomomorphismByImages( SymmetricGroup( [ 1 .. 4 ] ), Group(\n",
      "            [ [ [ 0, 0, 1 ], [ 0, 1, 0 ], [ 1, 0, 0 ] ], \n",
      "              [ [ 1, 0, 0 ], [ 0, 0, 1 ], [ 0, 1, 0 ] ] ]), \n",
      "            [ (1,2,3,4), (1,2) ], \n",
      "            [ [ [ 0, 0, 1 ], [ 0, 1, 0 ], [ 1, 0, 0 ] ], \n",
      "              [ [ 1, 0, 0 ], [ 0, 0, 1 ], [ 0, 1, 0 ] ] ] ), \n",
      "          GroupHomomorphismByImages( SymmetricGroup( [ 1 .. 4 ] ), Group(\n",
      "            [ [ [ 0, 0, -1 ], [ 0, -1, 0 ], [ 1, 0, 0 ] ], \n",
      "              [ [ 1, 0, 0 ], [ 0, 0, -1 ], [ 0, -1, 0 ] ] ]), \n",
      "            [ (1,2,3,4), (1,2) ], \n",
      "            [ [ [ 0, 0, -1 ], [ 0, -1, 0 ], [ 1, 0, 0 ] ], \n",
      "              [ [ 1, 0, 0 ], [ 0, 0, -1 ], [ 0, -1, 0 ] ] ] ), \n",
      "          GroupHomomorphismByImages( SymmetricGroup( [ 1 .. 4 ] ), Group(\n",
      "            [ [ [ 0, 0, -1 ], [ 0, -1, 0 ], [ -1, 0, 0 ] ], \n",
      "              [ [ -1, 0, 0 ], [ 0, 0, 1 ], [ 0, 1, 0 ] ] ]), \n",
      "            [ (1,2,3,4), (1,2) ], \n",
      "            [ [ [ 0, 0, -1 ], [ 0, -1, 0 ], [ -1, 0, 0 ] ], \n",
      "              [ [ -1, 0, 0 ], [ 0, 0, 1 ], [ 0, 1, 0 ] ] ] ), \n",
      "          GroupHomomorphismByImages( SymmetricGroup( [ 1 .. 4 ] ), Group(\n",
      "            [ [ [ 0, 0, 1 ], [ 0, 1, 0 ], [ -1, 0, 0 ] ], \n",
      "              [ [ -1, 0, 0 ], [ 0, 0, -1 ], [ 0, -1, 0 ] ] ]), \n",
      "            [ (1,2,3,4), (1,2) ], \n",
      "            [ [ [ 0, 0, 1 ], [ 0, 1, 0 ], [ -1, 0, 0 ] ], \n",
      "              [ [ -1, 0, 0 ], [ 0, 0, -1 ], [ 0, -1, 0 ] ] ] ), \n",
      "          GroupHomomorphismByImages( SymmetricGroup( [ 1 .. 4 ] ), Group(\n",
      "            [ \n",
      "              [ [ 0, 0, 0, 0, 0, -1 ], [ 0, 0, 0, 0, 1, 0 ], \n",
      "                  [ 0, 0, 0, -1, 0, 0 ], [ 0, 0, 1, 0, 0, 0 ], \n",
      "                  [ 1, 0, 0, 0, 0, 0 ], [ 0, -1, 0, 0, 0, 0 ] ], \n",
      "              [ [ 1, 0, 0, 0, 0, 0 ], [ 0, -1, 0, 0, 0, 0 ], \n",
      "                  [ 0, 0, 0, 0, 0, 1 ], [ 0, 0, 0, 0, 1, 0 ], \n",
      "                  [ 0, 0, 0, 1, 0, 0 ], [ 0, 0, 1, 0, 0, 0 ] ] ]), \n",
      "            [ (1,2,3,4), (1,2) ], \n",
      "            [ \n",
      "              [ [ 0, 0, 0, 0, 0, -1 ], [ 0, 0, 0, 0, 1, 0 ], \n",
      "                  [ 0, 0, 0, -1, 0, 0 ], [ 0, 0, 1, 0, 0, 0 ], \n",
      "                  [ 1, 0, 0, 0, 0, 0 ], [ 0, -1, 0, 0, 0, 0 ] ], \n",
      "              [ [ 1, 0, 0, 0, 0, 0 ], [ 0, -1, 0, 0, 0, 0 ], \n",
      "                  [ 0, 0, 0, 0, 0, 1 ], [ 0, 0, 0, 0, 1, 0 ], \n",
      "                  [ 0, 0, 0, 1, 0, 0 ], [ 0, 0, 1, 0, 0, 0 ] ] ] ) ],\n",
      "      struc_descr := \"D8\" ), rec(\n",
      "      rep := (1,2,3),\n",
      "      reps := \n",
      "       [ GroupHomomorphismByImages( SymmetricGroup( [ 1 .. 4 ] ), Group(\n",
      "            [ \n",
      "              [ [ 0, 0, 1, 0, 0, 0, 0, 0 ], [ 0, 0, 0, 1, 0, 0, 0, 0 ], \n",
      "                  [ 0, 0, 0, 0, 1, 0, 0, 0 ], [ 0, 0, 0, 0, 0, 1, 0, 0 ], \n",
      "                  [ 0, 0, 0, 0, 0, 0, 0, 1 ], [ 0, 0, 0, 0, 0, 0, 1, 0 ], \n",
      "                  [ 0, 1, 0, 0, 0, 0, 0, 0 ], [ 1, 0, 0, 0, 0, 0, 0, 0 ] ], \n",
      "              [ [ 0, 1, 0, 0, 0, 0, 0, 0 ], [ 1, 0, 0, 0, 0, 0, 0, 0 ], \n",
      "                  [ 0, 0, 0, 0, 1, 0, 0, 0 ], [ 0, 0, 0, 0, 0, 1, 0, 0 ], \n",
      "                  [ 0, 0, 1, 0, 0, 0, 0, 0 ], [ 0, 0, 0, 1, 0, 0, 0, 0 ], \n",
      "                  [ 0, 0, 0, 0, 0, 0, 0, 1 ], [ 0, 0, 0, 0, 0, 0, 1, 0 ] ] \n",
      "             ]), [ (1,2,3,4), (1,2) ], \n",
      "            [ \n",
      "              [ [ 0, 0, 1, 0, 0, 0, 0, 0 ], [ 0, 0, 0, 1, 0, 0, 0, 0 ], \n",
      "                  [ 0, 0, 0, 0, 1, 0, 0, 0 ], [ 0, 0, 0, 0, 0, 1, 0, 0 ], \n",
      "                  [ 0, 0, 0, 0, 0, 0, 0, 1 ], [ 0, 0, 0, 0, 0, 0, 1, 0 ], \n",
      "                  [ 0, 1, 0, 0, 0, 0, 0, 0 ], [ 1, 0, 0, 0, 0, 0, 0, 0 ] ], \n",
      "              [ [ 0, 1, 0, 0, 0, 0, 0, 0 ], [ 1, 0, 0, 0, 0, 0, 0, 0 ], \n",
      "                  [ 0, 0, 0, 0, 1, 0, 0, 0 ], [ 0, 0, 0, 0, 0, 1, 0, 0 ], \n",
      "                  [ 0, 0, 1, 0, 0, 0, 0, 0 ], [ 0, 0, 0, 1, 0, 0, 0, 0 ], \n",
      "                  [ 0, 0, 0, 0, 0, 0, 0, 1 ], [ 0, 0, 0, 0, 0, 0, 1, 0 ] ] ] )\n",
      "            , GroupHomomorphismByImages( SymmetricGroup( [ 1 .. 4 ] ), Group(\n",
      "            [ [ [ 0, 0, E(3), 0, 0, 0, 0, 0 ], \n",
      "                  [ 0, 0, 0, E(3)^2, 0, 0, 0, 0 ], \n",
      "                  [ 0, 0, 0, 0, E(3), 0, 0, 0 ], \n",
      "                  [ 0, 0, 0, 0, 0, E(3)^2, 0, 0 ], \n",
      "                  [ 0, 0, 0, 0, 0, 0, 0, E(3) ], \n",
      "                  [ 0, 0, 0, 0, 0, 0, E(3)^2, 0 ], [ 0, 1, 0, 0, 0, 0, 0, 0 ],\n",
      "                  [ 1, 0, 0, 0, 0, 0, 0, 0 ] ], \n",
      "              [ [ 0, E(3)^2, 0, 0, 0, 0, 0, 0 ], \n",
      "                  [ E(3), 0, 0, 0, 0, 0, 0, 0 ], [ 0, 0, 0, 0, 1, 0, 0, 0 ], \n",
      "                  [ 0, 0, 0, 0, 0, 1, 0, 0 ], [ 0, 0, 1, 0, 0, 0, 0, 0 ], \n",
      "                  [ 0, 0, 0, 1, 0, 0, 0, 0 ], [ 0, 0, 0, 0, 0, 0, 0, 1 ], \n",
      "                  [ 0, 0, 0, 0, 0, 0, 1, 0 ] ] ]), [ (1,2,3,4), (1,2) ], \n",
      "            [ \n",
      "              [ [ 0, 0, E(3), 0, 0, 0, 0, 0 ], [ 0, 0, 0, E(3)^2, 0, 0, 0, 0 ],\n",
      "                  [ 0, 0, 0, 0, E(3), 0, 0, 0 ], \n",
      "                  [ 0, 0, 0, 0, 0, E(3)^2, 0, 0 ], \n",
      "                  [ 0, 0, 0, 0, 0, 0, 0, E(3) ], \n",
      "                  [ 0, 0, 0, 0, 0, 0, E(3)^2, 0 ], [ 0, 1, 0, 0, 0, 0, 0, 0 ],\n",
      "                  [ 1, 0, 0, 0, 0, 0, 0, 0 ] ], \n",
      "              [ [ 0, E(3)^2, 0, 0, 0, 0, 0, 0 ], \n",
      "                  [ E(3), 0, 0, 0, 0, 0, 0, 0 ], [ 0, 0, 0, 0, 1, 0, 0, 0 ], \n",
      "                  [ 0, 0, 0, 0, 0, 1, 0, 0 ], [ 0, 0, 1, 0, 0, 0, 0, 0 ], \n",
      "                  [ 0, 0, 0, 1, 0, 0, 0, 0 ], [ 0, 0, 0, 0, 0, 0, 0, 1 ], \n",
      "                  [ 0, 0, 0, 0, 0, 0, 1, 0 ] ] ] ), \n",
      "          GroupHomomorphismByImages( SymmetricGroup( [ 1 .. 4 ] ), Group(\n",
      "            [ \n",
      "              [ [ 0, 0, E(3)^2, 0, 0, 0, 0, 0 ], [ 0, 0, 0, E(3), 0, 0, 0, 0 ],\n",
      "                  [ 0, 0, 0, 0, E(3)^2, 0, 0, 0 ], \n",
      "                  [ 0, 0, 0, 0, 0, E(3), 0, 0 ], \n",
      "                  [ 0, 0, 0, 0, 0, 0, 0, E(3)^2 ], \n",
      "                  [ 0, 0, 0, 0, 0, 0, E(3), 0 ], [ 0, 1, 0, 0, 0, 0, 0, 0 ], \n",
      "                  [ 1, 0, 0, 0, 0, 0, 0, 0 ] ], \n",
      "              [ [ 0, E(3), 0, 0, 0, 0, 0, 0 ], \n",
      "                  [ E(3)^2, 0, 0, 0, 0, 0, 0, 0 ], [ 0, 0, 0, 0, 1, 0, 0, 0 ],\n",
      "                  [ 0, 0, 0, 0, 0, 1, 0, 0 ], [ 0, 0, 1, 0, 0, 0, 0, 0 ], \n",
      "                  [ 0, 0, 0, 1, 0, 0, 0, 0 ], [ 0, 0, 0, 0, 0, 0, 0, 1 ], \n",
      "                  [ 0, 0, 0, 0, 0, 0, 1, 0 ] ] ]), [ (1,2,3,4), (1,2) ], \n",
      "            [ \n",
      "              [ [ 0, 0, E(3)^2, 0, 0, 0, 0, 0 ], [ 0, 0, 0, E(3), 0, 0, 0, 0 ],\n",
      "                  [ 0, 0, 0, 0, E(3)^2, 0, 0, 0 ], \n",
      "                  [ 0, 0, 0, 0, 0, E(3), 0, 0 ], \n",
      "                  [ 0, 0, 0, 0, 0, 0, 0, E(3)^2 ], \n",
      "                  [ 0, 0, 0, 0, 0, 0, E(3), 0 ], [ 0, 1, 0, 0, 0, 0, 0, 0 ], \n",
      "                  [ 1, 0, 0, 0, 0, 0, 0, 0 ] ], \n",
      "              [ [ 0, E(3), 0, 0, 0, 0, 0, 0 ], \n",
      "                  [ E(3)^2, 0, 0, 0, 0, 0, 0, 0 ], [ 0, 0, 0, 0, 1, 0, 0, 0 ],\n",
      "                  [ 0, 0, 0, 0, 0, 1, 0, 0 ], [ 0, 0, 1, 0, 0, 0, 0, 0 ], \n",
      "                  [ 0, 0, 0, 1, 0, 0, 0, 0 ], [ 0, 0, 0, 0, 0, 0, 0, 1 ], \n",
      "                  [ 0, 0, 0, 0, 0, 0, 1, 0 ] ] ] ) ],\n",
      "      struc_descr := \"C3\" ), rec(\n",
      "      rep := (1,2,3,4),\n",
      "      reps := \n",
      "       [ GroupHomomorphismByImages( SymmetricGroup( [ 1 .. 4 ] ), Group(\n",
      "            [ \n",
      "              [ [ 1, 0, 0, 0, 0, 0 ], [ 0, 0, 0, 0, 1, 0 ], \n",
      "                  [ 0, 1, 0, 0, 0, 0 ], [ 0, 0, 1, 0, 0, 0 ], \n",
      "                  [ 0, 0, 0, 1, 0, 0 ], [ 0, 0, 0, 0, 0, 1 ] ], \n",
      "              [ [ 0, 0, 0, 1, 0, 0 ], [ 0, 0, 0, 0, 0, 1 ], \n",
      "                  [ 0, 0, 0, 0, 1, 0 ], [ 1, 0, 0, 0, 0, 0 ], \n",
      "                  [ 0, 0, 1, 0, 0, 0 ], [ 0, 1, 0, 0, 0, 0 ] ] ]), \n",
      "            [ (1,2,3,4), (1,2) ], \n",
      "            [ \n",
      "              [ [ 1, 0, 0, 0, 0, 0 ], [ 0, 0, 0, 0, 1, 0 ], \n",
      "                  [ 0, 1, 0, 0, 0, 0 ], [ 0, 0, 1, 0, 0, 0 ], \n",
      "                  [ 0, 0, 0, 1, 0, 0 ], [ 0, 0, 0, 0, 0, 1 ] ], \n",
      "              [ [ 0, 0, 0, 1, 0, 0 ], [ 0, 0, 0, 0, 0, 1 ], \n",
      "                  [ 0, 0, 0, 0, 1, 0 ], [ 1, 0, 0, 0, 0, 0 ], \n",
      "                  [ 0, 0, 1, 0, 0, 0 ], [ 0, 1, 0, 0, 0, 0 ] ] ] ), \n",
      "          GroupHomomorphismByImages( SymmetricGroup( [ 1 .. 4 ] ), Group(\n",
      "            [ \n",
      "              [ [ -1, 0, 0, 0, 0, 0 ], [ 0, 0, 0, 0, 1, 0 ], \n",
      "                  [ 0, -1, 0, 0, 0, 0 ], [ 0, 0, 1, 0, 0, 0 ], \n",
      "                  [ 0, 0, 0, -1, 0, 0 ], [ 0, 0, 0, 0, 0, -1 ] ], \n",
      "              [ [ 0, 0, 0, -1, 0, 0 ], [ 0, 0, 0, 0, 0, -1 ], \n",
      "                  [ 0, 0, 0, 0, 1, 0 ], [ -1, 0, 0, 0, 0, 0 ], \n",
      "                  [ 0, 0, 1, 0, 0, 0 ], [ 0, -1, 0, 0, 0, 0 ] ] ]), \n",
      "            [ (1,2,3,4), (1,2) ], \n",
      "            [ \n",
      "              [ [ -1, 0, 0, 0, 0, 0 ], [ 0, 0, 0, 0, 1, 0 ], \n",
      "                  [ 0, -1, 0, 0, 0, 0 ], [ 0, 0, 1, 0, 0, 0 ], \n",
      "                  [ 0, 0, 0, -1, 0, 0 ], [ 0, 0, 0, 0, 0, -1 ] ], \n",
      "              [ [ 0, 0, 0, -1, 0, 0 ], [ 0, 0, 0, 0, 0, -1 ], \n",
      "                  [ 0, 0, 0, 0, 1, 0 ], [ -1, 0, 0, 0, 0, 0 ], \n",
      "                  [ 0, 0, 1, 0, 0, 0 ], [ 0, -1, 0, 0, 0, 0 ] ] ] ), \n",
      "          GroupHomomorphismByImages( SymmetricGroup( [ 1 .. 4 ] ), Group(\n",
      "            [ \n",
      "              [ [ E(4), 0, 0, 0, 0, 0 ], [ 0, 0, 0, 0, -1, 0 ], \n",
      "                  [ 0, E(4), 0, 0, 0, 0 ], [ 0, 0, -1, 0, 0, 0 ], \n",
      "                  [ 0, 0, 0, -E(4), 0, 0 ], [ 0, 0, 0, 0, 0, -E(4) ] ], \n",
      "              [ [ 0, 0, 0, -E(4), 0, 0 ], [ 0, 0, 0, 0, 0, -E(4) ], \n",
      "                  [ 0, 0, 0, 0, -1, 0 ], [ E(4), 0, 0, 0, 0, 0 ], \n",
      "                  [ 0, 0, -1, 0, 0, 0 ], [ 0, E(4), 0, 0, 0, 0 ] ] ]), \n",
      "            [ (1,2,3,4), (1,2) ], \n",
      "            [ \n",
      "              [ [ E(4), 0, 0, 0, 0, 0 ], [ 0, 0, 0, 0, -1, 0 ], \n",
      "                  [ 0, E(4), 0, 0, 0, 0 ], [ 0, 0, -1, 0, 0, 0 ], \n",
      "                  [ 0, 0, 0, -E(4), 0, 0 ], [ 0, 0, 0, 0, 0, -E(4) ] ], \n",
      "              [ [ 0, 0, 0, -E(4), 0, 0 ], [ 0, 0, 0, 0, 0, -E(4) ], \n",
      "                  [ 0, 0, 0, 0, -1, 0 ], [ E(4), 0, 0, 0, 0, 0 ], \n",
      "                  [ 0, 0, -1, 0, 0, 0 ], [ 0, E(4), 0, 0, 0, 0 ] ] ] ), \n",
      "          GroupHomomorphismByImages( SymmetricGroup( [ 1 .. 4 ] ), Group(\n",
      "            [ \n",
      "              [ [ -E(4), 0, 0, 0, 0, 0 ], [ 0, 0, 0, 0, -1, 0 ], \n",
      "                  [ 0, -E(4), 0, 0, 0, 0 ], [ 0, 0, -1, 0, 0, 0 ], \n",
      "                  [ 0, 0, 0, E(4), 0, 0 ], [ 0, 0, 0, 0, 0, E(4) ] ], \n",
      "              [ [ 0, 0, 0, E(4), 0, 0 ], [ 0, 0, 0, 0, 0, E(4) ], \n",
      "                  [ 0, 0, 0, 0, -1, 0 ], [ -E(4), 0, 0, 0, 0, 0 ], \n",
      "                  [ 0, 0, -1, 0, 0, 0 ], [ 0, -E(4), 0, 0, 0, 0 ] ] ]), \n",
      "            [ (1,2,3,4), (1,2) ], \n",
      "            [ \n",
      "              [ [ -E(4), 0, 0, 0, 0, 0 ], [ 0, 0, 0, 0, -1, 0 ], \n",
      "                  [ 0, -E(4), 0, 0, 0, 0 ], [ 0, 0, -1, 0, 0, 0 ], \n",
      "                  [ 0, 0, 0, E(4), 0, 0 ], [ 0, 0, 0, 0, 0, E(4) ] ], \n",
      "              [ [ 0, 0, 0, E(4), 0, 0 ], [ 0, 0, 0, 0, 0, E(4) ], \n",
      "                  [ 0, 0, 0, 0, -1, 0 ], [ -E(4), 0, 0, 0, 0, 0 ], \n",
      "                  [ 0, 0, -1, 0, 0, 0 ], [ 0, -E(4), 0, 0, 0, 0 ] ] ] ) ],\n",
      "      struc_descr := \"C4\" ) ]\n"
     ]
    }
   ],
   "source": [
    "Display(simples);"
   ]
  },
  {
   "cell_type": "code",
   "execution_count": 18,
   "id": "4f111ae7",
   "metadata": {
    "vscode": {
     "languageId": "gap"
    }
   },
   "outputs": [
    {
     "data": {
      "text/plain": [
       "rec( rep := (), reps := [ [ (1,2,3,4), (1,2) ] -> [ [ [ 1 ] ], [ [ 1 ] ] ], [ (1,2,3,4), (1,2) ] -> [ [ [ -1 ] ], [ [ -1 ] ] ], [ (1,2,3,4), (1,2) ] -> [ [ [ 0, E(3) ], [ E(3)^2, 0 ] ], [ [ 0, 1 ], [ 1, 0 ] ] ], [ (1,2,3,4), (1,2) ] -> [ [ [ 0, 0, -1 ], [ 0, 1, 0 ], [ 1, 0, 0 ] ], [ [ 0, -1, 0 ], [ -1, 0, 0 ], [ 0, 0, -1 ] ] ], [ (1,2,3,4), (1,2) ] -> [ [ [ 0, 0, 1 ], [ 0, -1, 0 ], [ -1, 0, 0 ] ], [ [ 0, -1, 0 ], [ -1, 0, 0 ], [ 0, 0, 1 ] ] ] ], struc_descr := \"S4\" )"
      ]
     },
     "execution_count": 18,
     "metadata": {},
     "output_type": "execute_result"
    }
   ],
   "source": [
    "simples[1];"
   ]
  },
  {
   "cell_type": "code",
   "execution_count": 19,
   "id": "2e3e29c0",
   "metadata": {
    "vscode": {
     "languageId": "gap"
    }
   },
   "outputs": [
    {
     "data": {
      "text/plain": [
       "()"
      ]
     },
     "execution_count": 19,
     "metadata": {
      "text/plain": ""
     },
     "output_type": "execute_result"
    }
   ],
   "source": [
    "simples[1].rep;"
   ]
  },
  {
   "cell_type": "code",
   "execution_count": 20,
   "id": "b9154488",
   "metadata": {
    "vscode": {
     "languageId": "gap"
    }
   },
   "outputs": [
    {
     "data": {
      "text/plain": [
       "[ [ (1,2,3,4), (1,2) ] -> [ [ [ 1 ] ], [ [ 1 ] ] ],   [ (1,2,3,4), (1,2) ] -> [ [ [ -1 ] ], [ [ -1 ] ] ],   [ (1,2,3,4), (1,2) ] -> [ [ [ 0, E(3) ], [ E(3)^2, 0 ] ],       [ [ 0, 1 ], [ 1, 0 ] ] ],   [ (1,2,3,4), (1,2) ] -> [ [ [ 0, 0, -1 ], [ 0, 1, 0 ], [ 1, 0, 0 ] ],       [ [ 0, -1, 0 ], [ -1, 0, 0 ], [ 0, 0, -1 ] ] ],   [ (1,2,3,4), (1,2) ] -> [ [ [ 0, 0, 1 ], [ 0, -1, 0 ], [ -1, 0, 0 ] ],       [ [ 0, -1, 0 ], [ -1, 0, 0 ], [ 0, 0, 1 ] ] ] ]"
      ]
     },
     "execution_count": 20,
     "metadata": {
      "text/plain": ""
     },
     "output_type": "execute_result"
    }
   ],
   "source": [
    "simples[1].reps;"
   ]
  },
  {
   "cell_type": "code",
   "execution_count": 21,
   "id": "58e066ac",
   "metadata": {
    "vscode": {
     "languageId": "gap"
    }
   },
   "outputs": [
    {
     "data": {
      "text/plain": [
       "\"S4\""
      ]
     },
     "execution_count": 21,
     "metadata": {
      "text/plain": ""
     },
     "output_type": "execute_result"
    }
   ],
   "source": [
    "simples[1].struc_descr;"
   ]
  },
  {
   "cell_type": "markdown",
   "id": "c7718349",
   "metadata": {},
   "source": [
    "# Total de Irreps"
   ]
  },
  {
   "cell_type": "code",
   "execution_count": 23,
   "id": "228da59f",
   "metadata": {
    "vscode": {
     "languageId": "gap"
    }
   },
   "outputs": [
    {
     "name": "stdout",
     "output_type": "stream",
     "text": [
      "Total de Representationes Irreducibles: 21\n"
     ]
    }
   ],
   "source": [
    "tot := Sum(List( centralizers, g -> Length(IrreducibleRepresentations(g.centralizer)) ));;\n",
    "Print(\"Total de Representationes Irreducibles: \", tot, \"\\n\");"
   ]
  },
  {
   "cell_type": "markdown",
   "id": "d32d84a5",
   "metadata": {},
   "source": [
    "# Tabla de Carcteres"
   ]
  },
  {
   "cell_type": "code",
   "execution_count": 25,
   "id": "a87349c9",
   "metadata": {
    "vscode": {
     "languageId": "gap"
    }
   },
   "outputs": [
    {
     "data": {
      "text/plain": [
       "[ (), (1,2), (1,2)(3,4), (1,2,3), (1,2,3,4) ]"
      ]
     },
     "execution_count": 25,
     "metadata": {
      "text/plain": ""
     },
     "output_type": "execute_result"
    }
   ],
   "source": [
    "repres := List( simples, x -> x.rep );;\n",
    "repres;"
   ]
  },
  {
   "cell_type": "code",
   "execution_count": 27,
   "id": "5225c930",
   "metadata": {
    "vscode": {
     "languageId": "gap"
    }
   },
   "outputs": [
    {
     "data": {
      "text/plain": [
       "[ ()^G, (1,2)^G, (1,2)(3,4)^G, (1,2,3)^G, (1,2,3,4)^G ]"
      ]
     },
     "execution_count": 27,
     "metadata": {
      "text/plain": ""
     },
     "output_type": "execute_result"
    }
   ],
   "source": [
    "ccl:= List( repres, x -> ConjugacyClass( G, x ) );;\n",
    "ccl;"
   ]
  },
  {
   "cell_type": "code",
   "execution_count": 28,
   "id": "ce882d37",
   "metadata": {
    "vscode": {
     "languageId": "gap"
    }
   },
   "outputs": [
    {
     "data": {
      "text/plain": [
       "true"
      ]
     },
     "execution_count": 28,
     "metadata": {
      "text/plain": ""
     },
     "output_type": "execute_result"
    }
   ],
   "source": [
    "ccl=conjClasses;"
   ]
  },
  {
   "cell_type": "code",
   "execution_count": 30,
   "id": "c7d231e4",
   "metadata": {
    "vscode": {
     "languageId": "gap"
    }
   },
   "outputs": [],
   "source": [
    "SetConjugacyClasses( G, ccl );\n",
    "tbl:= CharacterTable( G );;"
   ]
  },
  {
   "cell_type": "code",
   "execution_count": 31,
   "id": "bee0e4a6",
   "metadata": {
    "vscode": {
     "languageId": "gap"
    }
   },
   "outputs": [
    {
     "data": {
      "text/plain": [
       "CharacterTable( Sym( [ 1 .. 4 ] ) )"
      ]
     },
     "execution_count": 31,
     "metadata": {
      "text/plain": ""
     },
     "output_type": "execute_result"
    }
   ],
   "source": [
    "tbl;"
   ]
  },
  {
   "cell_type": "code",
   "execution_count": 32,
   "id": "c7531bc8",
   "metadata": {
    "vscode": {
     "languageId": "gap"
    }
   },
   "outputs": [
    {
     "name": "stdout",
     "output_type": "stream",
     "text": [
      "CT12\n",
      "\n",
      "     2  3  2  3  .  2\n",
      "     3  1  .  .  1  .\n",
      "\n",
      "       1a 2a 2b 3a 4a\n",
      "    2P 1a 1a 1a 3a 2b\n",
      "    3P 1a 2a 2b 1a 4a\n",
      "\n",
      "X.1     1 -1  1  1 -1\n",
      "X.2     3 -1 -1  .  1\n",
      "X.3     2  .  2 -1  .\n",
      "X.4     3  1 -1  . -1\n",
      "X.5     1  1  1  1  1\n"
     ]
    }
   ],
   "source": [
    "Display( tbl );"
   ]
  },
  {
   "cell_type": "code",
   "execution_count": null,
   "id": "2803b212",
   "metadata": {
    "vscode": {
     "languageId": "gap"
    }
   },
   "outputs": [],
   "source": []
  },
  {
   "cell_type": "markdown",
   "id": "1be44270",
   "metadata": {},
   "source": [
    "# Ley de reciprocidad de Frobenius."
   ]
  },
  {
   "cell_type": "code",
   "execution_count": 33,
   "id": "bd4fb191",
   "metadata": {
    "vscode": {
     "languageId": "gap"
    }
   },
   "outputs": [
    {
     "data": {
      "text/plain": [
       "function( ct, index ) ... end"
      ]
     },
     "execution_count": 33,
     "metadata": {
      "text/plain": ""
     },
     "output_type": "execute_result"
    }
   ],
   "source": [
    "CharacterOfRep := function(ct, index)\n",
    "    local G, char, character, irreps;\n",
    "    G := UnderlyingGroup( ct );\n",
    "    character := Irr( ct )[index];\n",
    "    irreps := Length(IrreducibleRepresentations( G ));\n",
    "    char := rec(\n",
    "            group             := G,\n",
    "            character         := character,\n",
    "            index             := index,\n",
    "            isCharacter       := true,\n",
    "            irreps            := irreps,\n",
    "            dimension         := character[1]\n",
    "        );\n",
    "    return char;\n",
    "end;"
   ]
  },
  {
   "cell_type": "code",
   "execution_count": 34,
   "id": "85c68b3a",
   "metadata": {
    "vscode": {
     "languageId": "gap"
    }
   },
   "outputs": [
    {
     "data": {
      "text/plain": [
       "function( ct, char1, char2 ) ... end"
      ]
     },
     "execution_count": 34,
     "metadata": {
      "text/plain": ""
     },
     "output_type": "execute_result"
    }
   ],
   "source": [
    "ScalarProductOfCharacters := function( ct, char1, char2 )\n",
    "     local lcc, sum, chi, psi, product;\n",
    "     chi := char1.character;\n",
    "     if IsRecord(char2) and IsBound\\.( char2, RNamObj( \"character\" ) ) then\n",
    "         psi := char2.character;\n",
    "     else\n",
    "        psi:=char2;\n",
    "     fi;\n",
    "     lcc := [ 1 .. Length(ConjugacyClasses(char1.group)) ];\n",
    "     sum := Sum( lcc,\n",
    "               i -> SizesConjugacyClasses( ct )[i] * chi[i] * ComplexConjugate( psi[i] ) );\n",
    "     product := sum / Size( ct );\n",
    "     return product;\n",
    "end;"
   ]
  },
  {
   "cell_type": "code",
   "execution_count": 35,
   "id": "5ea621ef",
   "metadata": {
    "vscode": {
     "languageId": "gap"
    }
   },
   "outputs": [
    {
     "name": "stdout",
     "output_type": "stream",
     "text": [
      "*************************************************************\n",
      "Centralizador Γ_() ≌ S4\n",
      "Total de representaciones irreducibles: 5\n",
      "--------------------------------------------------\n",
      "# Caracter: [ 1, 1, 1, 1, 1 ] #\n",
      "--------------------------------------------------\n",
      "X.5:=Character( CharacterTable( SymmetricGroup( [ 1 .. 4 ] ) ), \n",
      "[ 1, 1, 1, 1, 1 ] ).\n",
      "X.5 está contenida en [ 1, 1, 1, 1, 1 ] n=1 veces.\n",
      "La dimensión de X.5 es: 1\n",
      "\n",
      "--------------------------------------------------\n",
      "# Caracter: [ 1, -1, 1, 1, -1 ] #\n",
      "--------------------------------------------------\n",
      "X.1:=Character( CharacterTable( SymmetricGroup( [ 1 .. 4 ] ) ), \n",
      "[ 1, -1, 1, 1, -1 ] ).\n",
      "X.1 está contenida en [ 1, -1, 1, 1, -1 ] n=1 veces.\n",
      "La dimensión de X.1 es: 1\n",
      "\n",
      "--------------------------------------------------\n",
      "# Caracter: [ 2, 0, 2, -1, 0 ] #\n",
      "--------------------------------------------------\n",
      "X.3:=Character( CharacterTable( SymmetricGroup( [ 1 .. 4 ] ) ), \n",
      "[ 2, 0, 2, -1, 0 ] ).\n",
      "X.3 está contenida en [ 2, 0, 2, -1, 0 ] n=1 veces.\n",
      "La dimensión de X.3 es: 2\n",
      "\n",
      "--------------------------------------------------\n",
      "# Caracter: [ 3, -1, -1, 0, 1 ] #\n",
      "--------------------------------------------------\n",
      "X.2:=Character( CharacterTable( SymmetricGroup( [ 1 .. 4 ] ) ), \n",
      "[ 3, -1, -1, 0, 1 ] ).\n",
      "X.2 está contenida en [ 3, -1, -1, 0, 1 ] n=1 veces.\n",
      "La dimensión de X.2 es: 3\n",
      "\n",
      "--------------------------------------------------\n",
      "# Caracter: [ 3, 1, -1, 0, -1 ] #\n",
      "--------------------------------------------------\n",
      "X.4:=Character( CharacterTable( SymmetricGroup( [ 1 .. 4 ] ) ), \n",
      "[ 3, 1, -1, 0, -1 ] ).\n",
      "X.4 está contenida en [ 3, 1, -1, 0, -1 ] n=1 veces.\n",
      "La dimensión de X.4 es: 3\n",
      "\n",
      "*************************************************************\n",
      "Centralizador Γ_(1,2) ≌ C2 x C2\n",
      "Total de representaciones irreducibles: 4\n",
      "--------------------------------------------------\n",
      "# Caracter: [ 6, 2, 2, 0, 0 ] #\n",
      "--------------------------------------------------\n",
      "X.3:=Character( CharacterTable( SymmetricGroup( [ 1 .. 4 ] ) ), \n",
      "[ 2, 0, 2, -1, 0 ] ).\n",
      "X.3 está contenida en [ 6, 2, 2, 0, 0 ] n=1 veces.\n",
      "La dimensión de X.3 es: 2\n",
      "\n",
      "X.4:=Character( CharacterTable( SymmetricGroup( [ 1 .. 4 ] ) ), \n",
      "[ 3, 1, -1, 0, -1 ] ).\n",
      "X.4 está contenida en [ 6, 2, 2, 0, 0 ] n=1 veces.\n",
      "La dimensión de X.4 es: 3\n",
      "\n",
      "X.5:=Character( CharacterTable( SymmetricGroup( [ 1 .. 4 ] ) ), \n",
      "[ 1, 1, 1, 1, 1 ] ).\n",
      "X.5 está contenida en [ 6, 2, 2, 0, 0 ] n=1 veces.\n",
      "La dimensión de X.5 es: 1\n",
      "\n",
      "--------------------------------------------------\n",
      "# Caracter: [ 6, 0, -2, 0, 0 ] #\n",
      "--------------------------------------------------\n",
      "X.2:=Character( CharacterTable( SymmetricGroup( [ 1 .. 4 ] ) ), \n",
      "[ 3, -1, -1, 0, 1 ] ).\n",
      "X.2 está contenida en [ 6, 0, -2, 0, 0 ] n=1 veces.\n",
      "La dimensión de X.2 es: 3\n",
      "\n",
      "X.4:=Character( CharacterTable( SymmetricGroup( [ 1 .. 4 ] ) ), \n",
      "[ 3, 1, -1, 0, -1 ] ).\n",
      "X.4 está contenida en [ 6, 0, -2, 0, 0 ] n=1 veces.\n",
      "La dimensión de X.4 es: 3\n",
      "\n",
      "--------------------------------------------------\n",
      "# Caracter: [ 6, 0, -2, 0, 0 ] #\n",
      "--------------------------------------------------\n",
      "X.2:=Character( CharacterTable( SymmetricGroup( [ 1 .. 4 ] ) ), \n",
      "[ 3, -1, -1, 0, 1 ] ).\n",
      "X.2 está contenida en [ 6, 0, -2, 0, 0 ] n=1 veces.\n",
      "La dimensión de X.2 es: 3\n",
      "\n",
      "X.4:=Character( CharacterTable( SymmetricGroup( [ 1 .. 4 ] ) ), \n",
      "[ 3, 1, -1, 0, -1 ] ).\n",
      "X.4 está contenida en [ 6, 0, -2, 0, 0 ] n=1 veces.\n",
      "La dimensión de X.4 es: 3\n",
      "\n",
      "--------------------------------------------------\n",
      "# Caracter: [ 6, -2, 2, 0, 0 ] #\n",
      "--------------------------------------------------\n",
      "X.1:=Character( CharacterTable( SymmetricGroup( [ 1 .. 4 ] ) ), \n",
      "[ 1, -1, 1, 1, -1 ] ).\n",
      "X.1 está contenida en [ 6, -2, 2, 0, 0 ] n=1 veces.\n",
      "La dimensión de X.1 es: 1\n",
      "\n",
      "X.2:=Character( CharacterTable( SymmetricGroup( [ 1 .. 4 ] ) ), \n",
      "[ 3, -1, -1, 0, 1 ] ).\n",
      "X.2 está contenida en [ 6, -2, 2, 0, 0 ] n=1 veces.\n",
      "La dimensión de X.2 es: 3\n",
      "\n",
      "X.3:=Character( CharacterTable( SymmetricGroup( [ 1 .. 4 ] ) ), \n",
      "[ 2, 0, 2, -1, 0 ] ).\n",
      "X.3 está contenida en [ 6, -2, 2, 0, 0 ] n=1 veces.\n",
      "La dimensión de X.3 es: 2\n",
      "\n",
      "*************************************************************\n",
      "Centralizador Γ_(1,2)(3,4) ≌ D8\n",
      "Total de representaciones irreducibles: 5\n",
      "--------------------------------------------------\n",
      "# Caracter: [ 3, 1, 3, 0, 1 ] #\n",
      "--------------------------------------------------\n",
      "X.3:=Character( CharacterTable( SymmetricGroup( [ 1 .. 4 ] ) ), \n",
      "[ 2, 0, 2, -1, 0 ] ).\n",
      "X.3 está contenida en [ 3, 1, 3, 0, 1 ] n=1 veces.\n",
      "La dimensión de X.3 es: 2\n",
      "\n",
      "X.5:=Character( CharacterTable( SymmetricGroup( [ 1 .. 4 ] ) ), \n",
      "[ 1, 1, 1, 1, 1 ] ).\n",
      "X.5 está contenida en [ 3, 1, 3, 0, 1 ] n=1 veces.\n",
      "La dimensión de X.5 es: 1\n",
      "\n",
      "--------------------------------------------------\n",
      "# Caracter: [ 3, 1, -1, 0, -1 ] #\n",
      "--------------------------------------------------\n",
      "X.4:=Character( CharacterTable( SymmetricGroup( [ 1 .. 4 ] ) ), \n",
      "[ 3, 1, -1, 0, -1 ] ).\n",
      "X.4 está contenida en [ 3, 1, -1, 0, -1 ] n=1 veces.\n",
      "La dimensión de X.4 es: 3\n",
      "\n",
      "--------------------------------------------------\n",
      "# Caracter: [ 3, -1, 3, 0, -1 ] #\n",
      "--------------------------------------------------\n",
      "X.1:=Character( CharacterTable( SymmetricGroup( [ 1 .. 4 ] ) ), \n",
      "[ 1, -1, 1, 1, -1 ] ).\n",
      "X.1 está contenida en [ 3, -1, 3, 0, -1 ] n=1 veces.\n",
      "La dimensión de X.1 es: 1\n",
      "\n",
      "X.3:=Character( CharacterTable( SymmetricGroup( [ 1 .. 4 ] ) ), \n",
      "[ 2, 0, 2, -1, 0 ] ).\n",
      "X.3 está contenida en [ 3, -1, 3, 0, -1 ] n=1 veces.\n",
      "La dimensión de X.3 es: 2\n",
      "\n",
      "--------------------------------------------------\n",
      "# Caracter: [ 3, -1, -1, 0, 1 ] #\n",
      "--------------------------------------------------\n",
      "X.2:=Character( CharacterTable( SymmetricGroup( [ 1 .. 4 ] ) ), \n",
      "[ 3, -1, -1, 0, 1 ] ).\n",
      "X.2 está contenida en [ 3, -1, -1, 0, 1 ] n=1 veces.\n",
      "La dimensión de X.2 es: 3\n",
      "\n",
      "--------------------------------------------------\n",
      "# Caracter: [ 6, 0, -2, 0, 0 ] #\n",
      "--------------------------------------------------\n",
      "X.2:=Character( CharacterTable( SymmetricGroup( [ 1 .. 4 ] ) ), \n",
      "[ 3, -1, -1, 0, 1 ] ).\n",
      "X.2 está contenida en [ 6, 0, -2, 0, 0 ] n=1 veces.\n",
      "La dimensión de X.2 es: 3\n",
      "\n",
      "X.4:=Character( CharacterTable( SymmetricGroup( [ 1 .. 4 ] ) ), \n",
      "[ 3, 1, -1, 0, -1 ] ).\n",
      "X.4 está contenida en [ 6, 0, -2, 0, 0 ] n=1 veces.\n",
      "La dimensión de X.4 es: 3\n",
      "\n",
      "*************************************************************\n",
      "Centralizador Γ_(1,2,3) ≌ C3\n",
      "Total de representaciones irreducibles: 3\n",
      "--------------------------------------------------\n",
      "# Caracter: [ 8, 0, 0, 2, 0 ] #\n",
      "--------------------------------------------------\n",
      "X.1:=Character( CharacterTable( SymmetricGroup( [ 1 .. 4 ] ) ), \n",
      "[ 1, -1, 1, 1, -1 ] ).\n",
      "X.1 está contenida en [ 8, 0, 0, 2, 0 ] n=1 veces.\n",
      "La dimensión de X.1 es: 1\n",
      "\n",
      "X.2:=Character( CharacterTable( SymmetricGroup( [ 1 .. 4 ] ) ), \n",
      "[ 3, -1, -1, 0, 1 ] ).\n",
      "X.2 está contenida en [ 8, 0, 0, 2, 0 ] n=1 veces.\n",
      "La dimensión de X.2 es: 3\n",
      "\n",
      "X.4:=Character( CharacterTable( SymmetricGroup( [ 1 .. 4 ] ) ), \n",
      "[ 3, 1, -1, 0, -1 ] ).\n",
      "X.4 está contenida en [ 8, 0, 0, 2, 0 ] n=1 veces.\n",
      "La dimensión de X.4 es: 3\n",
      "\n",
      "X.5:=Character( CharacterTable( SymmetricGroup( [ 1 .. 4 ] ) ), \n",
      "[ 1, 1, 1, 1, 1 ] ).\n",
      "X.5 está contenida en [ 8, 0, 0, 2, 0 ] n=1 veces.\n",
      "La dimensión de X.5 es: 1\n",
      "\n",
      "--------------------------------------------------\n",
      "# Caracter: [ 8, 0, 0, -1, 0 ] #\n",
      "--------------------------------------------------\n",
      "X.2:=Character( CharacterTable( SymmetricGroup( [ 1 .. 4 ] ) ), \n",
      "[ 3, -1, -1, 0, 1 ] ).\n",
      "X.2 está contenida en [ 8, 0, 0, -1, 0 ] n=1 veces.\n",
      "La dimensión de X.2 es: 3\n",
      "\n",
      "X.3:=Character( CharacterTable( SymmetricGroup( [ 1 .. 4 ] ) ), \n",
      "[ 2, 0, 2, -1, 0 ] ).\n",
      "X.3 está contenida en [ 8, 0, 0, -1, 0 ] n=1 veces.\n",
      "La dimensión de X.3 es: 2\n",
      "\n",
      "X.4:=Character( CharacterTable( SymmetricGroup( [ 1 .. 4 ] ) ), \n",
      "[ 3, 1, -1, 0, -1 ] ).\n",
      "X.4 está contenida en [ 8, 0, 0, -1, 0 ] n=1 veces.\n",
      "La dimensión de X.4 es: 3\n",
      "\n",
      "--------------------------------------------------\n",
      "# Caracter: [ 8, 0, 0, -1, 0 ] #\n",
      "--------------------------------------------------\n",
      "X.2:=Character( CharacterTable( SymmetricGroup( [ 1 .. 4 ] ) ), \n",
      "[ 3, -1, -1, 0, 1 ] ).\n",
      "X.2 está contenida en [ 8, 0, 0, -1, 0 ] n=1 veces.\n",
      "La dimensión de X.2 es: 3\n",
      "\n",
      "X.3:=Character( CharacterTable( SymmetricGroup( [ 1 .. 4 ] ) ), \n",
      "[ 2, 0, 2, -1, 0 ] ).\n",
      "X.3 está contenida en [ 8, 0, 0, -1, 0 ] n=1 veces.\n",
      "La dimensión de X.3 es: 2\n",
      "\n",
      "X.4:=Character( CharacterTable( SymmetricGroup( [ 1 .. 4 ] ) ), \n",
      "[ 3, 1, -1, 0, -1 ] ).\n",
      "X.4 está contenida en [ 8, 0, 0, -1, 0 ] n=1 veces.\n",
      "La dimensión de X.4 es: 3\n",
      "\n",
      "*************************************************************\n",
      "Centralizador Γ_(1,2,3,4) ≌ C4\n",
      "Total de representaciones irreducibles: 4\n",
      "--------------------------------------------------\n",
      "# Caracter: [ 6, 0, 2, 0, 2 ] #\n",
      "--------------------------------------------------\n",
      "X.2:=Character( CharacterTable( SymmetricGroup( [ 1 .. 4 ] ) ), \n",
      "[ 3, -1, -1, 0, 1 ] ).\n",
      "X.2 está contenida en [ 6, 0, 2, 0, 2 ] n=1 veces.\n",
      "La dimensión de X.2 es: 3\n",
      "\n",
      "X.3:=Character( CharacterTable( SymmetricGroup( [ 1 .. 4 ] ) ), \n",
      "[ 2, 0, 2, -1, 0 ] ).\n",
      "X.3 está contenida en [ 6, 0, 2, 0, 2 ] n=1 veces.\n",
      "La dimensión de X.3 es: 2\n",
      "\n",
      "X.5:=Character( CharacterTable( SymmetricGroup( [ 1 .. 4 ] ) ), \n",
      "[ 1, 1, 1, 1, 1 ] ).\n",
      "X.5 está contenida en [ 6, 0, 2, 0, 2 ] n=1 veces.\n",
      "La dimensión de X.5 es: 1\n",
      "\n",
      "--------------------------------------------------\n",
      "# Caracter: [ 6, 0, 2, 0, -2 ] #\n",
      "--------------------------------------------------\n",
      "X.1:=Character( CharacterTable( SymmetricGroup( [ 1 .. 4 ] ) ), \n",
      "[ 1, -1, 1, 1, -1 ] ).\n",
      "X.1 está contenida en [ 6, 0, 2, 0, -2 ] n=1 veces.\n",
      "La dimensión de X.1 es: 1\n",
      "\n",
      "X.3:=Character( CharacterTable( SymmetricGroup( [ 1 .. 4 ] ) ), \n",
      "[ 2, 0, 2, -1, 0 ] ).\n",
      "X.3 está contenida en [ 6, 0, 2, 0, -2 ] n=1 veces.\n",
      "La dimensión de X.3 es: 2\n",
      "\n",
      "X.4:=Character( CharacterTable( SymmetricGroup( [ 1 .. 4 ] ) ), \n",
      "[ 3, 1, -1, 0, -1 ] ).\n",
      "X.4 está contenida en [ 6, 0, 2, 0, -2 ] n=1 veces.\n",
      "La dimensión de X.4 es: 3\n",
      "\n",
      "--------------------------------------------------\n",
      "# Caracter: [ 6, 0, -2, 0, 0 ] #\n",
      "--------------------------------------------------\n",
      "X.2:=Character( CharacterTable( SymmetricGroup( [ 1 .. 4 ] ) ), \n",
      "[ 3, -1, -1, 0, 1 ] ).\n",
      "X.2 está contenida en [ 6, 0, -2, 0, 0 ] n=1 veces.\n",
      "La dimensión de X.2 es: 3\n",
      "\n",
      "X.4:=Character( CharacterTable( SymmetricGroup( [ 1 .. 4 ] ) ), \n",
      "[ 3, 1, -1, 0, -1 ] ).\n",
      "X.4 está contenida en [ 6, 0, -2, 0, 0 ] n=1 veces.\n",
      "La dimensión de X.4 es: 3\n",
      "\n",
      "--------------------------------------------------\n",
      "# Caracter: [ 6, 0, -2, 0, 0 ] #\n",
      "--------------------------------------------------\n",
      "X.2:=Character( CharacterTable( SymmetricGroup( [ 1 .. 4 ] ) ), \n",
      "[ 3, -1, -1, 0, 1 ] ).\n",
      "X.2 está contenida en [ 6, 0, -2, 0, 0 ] n=1 veces.\n",
      "La dimensión de X.2 es: 3\n",
      "\n",
      "X.4:=Character( CharacterTable( SymmetricGroup( [ 1 .. 4 ] ) ), \n",
      "[ 3, 1, -1, 0, -1 ] ).\n",
      "X.4 está contenida en [ 6, 0, -2, 0, 0 ] n=1 veces.\n",
      "La dimensión de X.4 es: 3\n",
      "\n"
     ]
    }
   ],
   "source": [
    "for s in simples do\n",
    "    Print(\"*************************************************************\\n\");\n",
    "    Print(\"Centralizador Γ_\", s.rep, \" ≌ \", s.struc_descr, \"\\n\");\n",
    "    Print(\"Total de representaciones irreducibles: \", Length(s.reps),\"\\n\");\n",
    "    for rho in s.reps do\n",
    "        psi := List(repres, x -> Trace(x^rho));;\n",
    "        Print(\"--------------------------------------------------\\n\");\n",
    "        Print(\"# Caracter: \", psi, \" #\\n\");\n",
    "        Print(\"--------------------------------------------------\\n\");\n",
    "        for i in [ 1 .. Length(ConjugacyClasses(G)) ] do\n",
    "            chi := CharacterOfRep(tbl, i);;\n",
    "            p := ScalarProductOfCharacters( tbl, chi, psi );;\n",
    "            if p <> 0 then\n",
    "                Print(\"X.\", i,\":=\", chi.character, \".\\n\");\n",
    "                Print(\"X.\", i, \" está contenida en \", psi, \" n=\", p, \" veces.\\n\");\n",
    "                Print(\"La dimensión de X.\", i, \" es: \", chi.dimension, \"\\n\\n\");\n",
    "            fi;\n",
    "        od;\n",
    "    od;\n",
    "od;"
   ]
  },
  {
   "cell_type": "markdown",
   "id": "e59715e9",
   "metadata": {},
   "source": [
    "## Identificar el carácter $[3, 1, 0]$ y descomponerlo en irreducibles de $\\mathbb{S}_3$.\n",
    "\n",
    "\n",
    "solución\n",
    "---------\n",
    "\n",
    "Las clases de conjugación de $\\mathbb{S}_3$ son:\n",
    "\n",
    "- $C_1 = \\{e\\}$: clase de la identidad (tamaño 1),\n",
    "- $C_2 = \\{(12), (13), (23)\\}$: transposiciones (tamaño 3),\n",
    "- $C_3 = \\{(123), (132)\\}$: ciclos de 3 elementos (tamaño 2).\n",
    "\n",
    "\n",
    "Los caracteres irreducibles de $\\mathbb{S}_3$ son:\n",
    "$$\n",
    "\\begin{aligned}\n",
    "\\chi_1 &= [1, 1, 1] \\quad \\text{(trivial)} \\\\\n",
    "\\chi_\\varepsilon &= [1, -1, 1] \\quad \\text{(signo)} \\\\\n",
    "\\chi_{\\text{std}} &= [2, 0, -1] \\quad \\text{(estándar, dim 2)}\n",
    "\\end{aligned}\n",
    "$$\n",
    "\n",
    "El carácter que queremos identificar es:\n",
    "$$\n",
    "\\chi = [3, 1, 0]\n",
    "$$\n",
    "\n",
    "Calculamos el producto escalar con cada irreducible usando la fórmula:\n",
    "$$\n",
    "\\langle \\chi, \\psi \\rangle = \\frac{1}{|G|} \\sum_{i} |C_i| \\chi(C_i)\\overline{\\psi(C_i)}\n",
    "$$\n",
    "\n",
    "\n",
    "- Producto con $\\chi_1$:\n",
    "    $$\n",
    "    \\langle \\chi, \\chi_1 \\rangle = \\frac{1}{6} \\left(1 \\cdot 3 \\cdot 1 + 3 \\cdot 1 \\cdot 1 + 2 \\cdot 0 \\cdot 1\\right) = \\frac{6}{6} = 1\n",
    "    $$\n",
    "- Producto con $\\chi_\\varepsilon$:\n",
    "    $$\n",
    "    \\langle \\chi, \\chi_\\varepsilon \\rangle = \\frac{1}{6} \\left(1 \\cdot 3 \\cdot 1 + 3 \\cdot 1 \\cdot (-1) + 2 \\cdot 0 \\cdot 1\\right) = \\frac{0}{6} = 0\n",
    "    $$\n",
    "- Producto con $\\chi_{\\text{std}}$:\n",
    "    $$\n",
    "    \\langle \\chi, \\chi_{\\text{std}} \\rangle = \\frac{1}{6} \\left(1 \\cdot 3 \\cdot 2 + 3 \\cdot 1 \\cdot 0 + 2 \\cdot 0 \\cdot (-1)\\right) = \\frac{6}{6} = 1\n",
    "    $$\n",
    "\n",
    "Por lo tanto, $\\chi = \\chi_1 + \\chi_{\\text{std}}$\n",
    "\n",
    "Nota\n",
    "----\n",
    "\n",
    "Este carácter corresponde a la representación inducida desde la representación trivial del subgrupo $\\langle (12) \\rangle \\cong C_2$, es decir, $\\chi = \\mathrm{Ind}_{C_2}^{\\mathbb{S}_3}(\\mathbf{1})$.\n",
    "\n"
   ]
  },
  {
   "cell_type": "code",
   "execution_count": null,
   "id": "3e73b7af",
   "metadata": {
    "vscode": {
     "languageId": "gap"
    }
   },
   "outputs": [],
   "source": []
  },
  {
   "cell_type": "code",
   "execution_count": 45,
   "id": "a489f6b4",
   "metadata": {
    "vscode": {
     "languageId": "gap"
    }
   },
   "outputs": [
    {
     "name": "stdout",
     "output_type": "stream",
     "text": [
      "[ (), (1,2), (1,2)(3,4), (1,2,3), (1,2,3,4) ]\n",
      "[ [   1,   1,   1,   1,   1 ],\n",
      "  [   1,  -1,   1,   1,  -1 ],\n",
      "  [   2,   0,   2,  -1,   0 ],\n",
      "  [   3,   1,  -1,   0,  -1 ],\n",
      "  [   3,  -1,  -1,   0,   1 ] ]\n",
      "-----------------------------------------\n",
      "CT12\n",
      "\n",
      "     2  3  2  3  .  2\n",
      "     3  1  .  .  1  .\n",
      "\n",
      "       1a 2a 2b 3a 4a\n",
      "    2P 1a 1a 1a 3a 2b\n",
      "    3P 1a 2a 2b 1a 4a\n",
      "\n",
      "X.1     1 -1  1  1 -1\n",
      "X.2     3 -1 -1  .  1\n",
      "X.3     2  .  2 -1  .\n",
      "X.4     3  1 -1  . -1\n",
      "X.5     1  1  1  1  1\n"
     ]
    }
   ],
   "source": [
    "G := SymmetricGroup(4);;\n",
    "irr := IrreducibleRepresentations(G);;\n",
    "\n",
    "clases := ConjugacyClasses(G);;\n",
    "clases;;\n",
    "representantes := List(clases, Representative);;\n",
    "Print(representantes, \"\\n\");\n",
    "\n",
    "chars := List(irr, rho -> List(representantes, g -> Trace(Image(rho, g))));;\n",
    "Display(chars);\n",
    "Print(\"-----------------------------------------\\n\");\n",
    "Display(tbl);\n"
   ]
  },
  {
   "cell_type": "code",
   "execution_count": null,
   "id": "4579ef63",
   "metadata": {
    "vscode": {
     "languageId": "gap"
    }
   },
   "outputs": [],
   "source": []
  },
  {
   "cell_type": "code",
   "execution_count": null,
   "id": "d17992ea",
   "metadata": {
    "vscode": {
     "languageId": "gap"
    }
   },
   "outputs": [],
   "source": []
  },
  {
   "cell_type": "code",
   "execution_count": null,
   "id": "a4f96e23",
   "metadata": {
    "vscode": {
     "languageId": "gap"
    }
   },
   "outputs": [],
   "source": []
  },
  {
   "cell_type": "code",
   "execution_count": null,
   "id": "cf4af314",
   "metadata": {
    "vscode": {
     "languageId": "gap"
    }
   },
   "outputs": [],
   "source": []
  },
  {
   "cell_type": "code",
   "execution_count": null,
   "id": "c2047102",
   "metadata": {
    "vscode": {
     "languageId": "gap"
    }
   },
   "outputs": [],
   "source": []
  },
  {
   "cell_type": "code",
   "execution_count": null,
   "id": "f24ff03b",
   "metadata": {
    "vscode": {
     "languageId": "gap"
    }
   },
   "outputs": [],
   "source": []
  }
 ],
 "metadata": {
  "kernelspec": {
   "display_name": "GAP virtual env",
   "language": "gap",
   "name": "gapcito"
  },
  "language_info": {
   "codemirror_mode": "gap",
   "file_extension": ".g",
   "mimetype": "text/x-gap",
   "name": "GAP 4",
   "nbconvert_exporter": "",
   "pygments_lexer": "gap",
   "version": "4.13.1"
  }
 },
 "nbformat": 4,
 "nbformat_minor": 5
}
